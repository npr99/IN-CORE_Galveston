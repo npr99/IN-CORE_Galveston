{
 "cells": [
  {
   "cell_type": "markdown",
   "source": [
    "## 1. Prerequisites"
   ],
   "metadata": {
    "collapsed": false
   }
  },
  {
   "cell_type": "code",
   "execution_count": 80,
   "outputs": [],
   "source": [
    "import warnings\n",
    "warnings.filterwarnings(\"ignore\")\n",
    "import pandas as pd\n",
    "import numpy as np\n",
    "import matplotlib.pyplot as plt\n",
    "\n",
    "from pyincore import IncoreClient, Dataset, DataService, HazardService, FragilityService, MappingSet, FragilityCurveSet\n",
    "from pyincore import HHRSOutputProcess\n",
    "from pyincore.utils.dataprocessutil import DataProcessUtil\n",
    "\n",
    "# importing pyIncone analyses:\n",
    "from pyincore.analyses.buildingdamage import BuildingDamage\n",
    "from pyincore.analyses.buildingfunctionality import BuildingFunctionality\n",
    "from pyincore.analyses.combinedwindwavesurgebuildingdamage import CombinedWindWaveSurgeBuildingDamage\n",
    "from pyincore.analyses.epfdamage import EpfDamage\n",
    "from pyincore.analyses.montecarlofailureprobability import MonteCarloFailureProbability\n",
    "from pyincore.analyses.housingunitallocation import HousingUnitAllocation\n",
    "from pyincore.analyses.populationdislocation import PopulationDislocation, PopulationDislocationUtil\n",
    "from pyincore.analyses.housingrecoverysequential import HousingRecoverySequential\n",
    "from pyincore.analyses.socialvulnerability import SocialVulnerability\n",
    "from pyincore.analyses.capitalshocks import CapitalShocks\n",
    "\n",
    "# Functions for visualizing the population data results as tables\n",
    "#from pyincore_viz.analysis.popresultstable import PopResultsTable as poptable\n"
   ],
   "metadata": {
    "collapsed": false
   }
  },
  {
   "cell_type": "code",
   "execution_count": 81,
   "outputs": [
    {
     "name": "stdout",
     "output_type": "stream",
     "text": [
      "Connection successful to IN-CORE services. pyIncore version detected: 1.9.0\n"
     ]
    }
   ],
   "source": [
    "client = IncoreClient()\n",
    "# IN-CORE caches files on the local machine, it might be necessary to clear the memory\n",
    "# client.clear_cache()\n",
    "data_service = DataService(client) # create data_service object for loading files\n",
    "hazard_service = HazardService(client)\n",
    "fragility_services = FragilityService(client)"
   ],
   "metadata": {
    "collapsed": false
   }
  }
 ],
 "metadata": {
  "kernelspec": {
   "display_name": "Python 3 (ipykernel)",
   "language": "python",
   "name": "python3"
  },
  "language_info": {
   "codemirror_mode": {
    "name": "ipython",
    "version": 3
   },
   "file_extension": ".py",
   "mimetype": "text/x-python",
   "name": "python",
   "nbconvert_exporter": "python",
   "pygments_lexer": "ipython3",
   "version": "3.9.7"
  }
 },
 "nbformat": 4,
 "nbformat_minor": 5
}
