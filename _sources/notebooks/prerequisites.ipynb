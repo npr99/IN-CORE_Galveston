{
 "cells": [
  {
   "cell_type": "markdown",
   "metadata": {
    "collapsed": false
   },
   "source": [
    "## 1. Prerequisites"
   ]
  },
  {
   "cell_type": "markdown",
   "source": [
    "### 1.1 Load packages"
   ],
   "metadata": {
    "collapsed": false
   }
  },
  {
   "cell_type": "code",
   "execution_count": 89,
   "id": "957d73f9",
   "metadata": {},
   "outputs": [],
   "source": [
    "import warnings\n",
    "warnings.filterwarnings(\"ignore\")\n",
    "import pandas as pd\n",
    "import numpy as np\n",
    "import matplotlib.pyplot as plt\n",
    "import geopandas as gpd\n",
    "import contextily as ctx\n",
    "\n",
    "from pyincore import IncoreClient, Dataset, DataService, HazardService, FragilityService, MappingSet, FragilityCurveSet\n",
    "from pyincore import HHRSOutputProcess\n",
    "from pyincore.utils.dataprocessutil import DataProcessUtil\n",
    "\n",
    "# importing pyIncone analyses:\n",
    "from pyincore.analyses.buildingdamage import BuildingDamage\n",
    "from pyincore.analyses.buildingfunctionality import BuildingFunctionality\n",
    "from pyincore.analyses.combinedwindwavesurgebuildingdamage import CombinedWindWaveSurgeBuildingDamage\n",
    "from pyincore.analyses.epfdamage import EpfDamage\n",
    "from pyincore.analyses.montecarlofailureprobability import MonteCarloFailureProbability\n",
    "from pyincore.analyses.housingunitallocation import HousingUnitAllocation\n",
    "from pyincore.analyses.populationdislocation import PopulationDislocation, PopulationDislocationUtil\n",
    "from pyincore.analyses.housingrecoverysequential import HousingRecoverySequential\n",
    "from pyincore.analyses.socialvulnerability import SocialVulnerability\n",
    "from pyincore.analyses.capitalshocks import CapitalShocks\n",
    "\n",
    "# Functions for visualizing the population data results as tables\n",
    "from pyincore_viz.analysis.popresultstable import PopResultsTable as poptable\n",
    "from pyincore_viz.geoutil import GeoUtil"
   ]
  },
  {
   "cell_type": "code",
   "execution_count": 90,
   "id": "4e50116d",
   "metadata": {},
   "outputs": [
    {
     "name": "stdout",
     "output_type": "stream",
     "text": [
      "Connection successful to IN-CORE services. pyIncore version detected: 1.9.0\n"
     ]
    }
   ],
   "source": [
    "client = IncoreClient()\n",
    "# IN-CORE caches files on the local machine, it might be necessary to clear the memory\n",
    "# client.clear_cache() \n",
    "data_service = DataService(client) # create data_service object for loading files\n",
    "hazard_service = HazardService(client)\n",
    "fragility_services = FragilityService(client)"
   ]
  },
  {
   "cell_type": "code",
   "execution_count": 5,
   "id": "088c0437-4648-49d3-a3a8-4fc26e695684",
   "metadata": {},
   "outputs": [
    {
     "name": "stdout",
     "output_type": "stream",
     "text": [
      "Connection successful to IN-CORE services. pyIncore version detected: 1.13.0\n"
     ]
    }
   ],
   "source": [
    "client.clear_cache()"
   ]
  },
  {
   "cell_type": "markdown",
   "metadata": {
    "collapsed": false
   },
   "source": [
    "### 1.2 Define hazard"
   ]
  },
  {
   "cell_type": "code",
   "execution_count": null,
   "id": "39b41540",
   "metadata": {},
   "outputs": [],
   "source": [
    "hazard_type = \"hurricane\"\n",
    "\n",
    "# 100yr Hazard Event\n",
    "hazard_id = \"5fa5a9497e5cdf51ebf1add2\"\n",
    "\n",
    "# 500yr Hazard Event\n",
    "#hazard_id = \"5fa5aa19b6429615aeea4476\"\n",
    "\n",
    "# Galveston Hurricane Ike\n",
    "# hazard_id = \"5fa5a228b6429615aeea4410\"\n",
    "\n"
   ]
  },
  {
   "cell_type": "markdown",
   "metadata": {
    "collapsed": false
   },
   "source": [
    "### 1.3 Define inventories"
   ]
  },
  {
   "cell_type": "markdown",
   "source": [
    "#### 1.3.1 Buildings"
   ],
   "metadata": {
    "collapsed": false
   }
  },
  {
   "cell_type": "code",
   "execution_count": null,
   "metadata": {
    "collapsed": false
   },
   "outputs": [],
   "source": [
    "# Galveston inventory data\n",
    "# bldg_dataset_id = \"63053ddaf5438e1f8c517fed\" # Full city\n",
    "bldg_dataset_id = \"63ff6b135c35c0353d5ed3ac\" # Island Only\n",
    "bldg_dataset_id"
   ]
  },
  {
   "cell_type": "markdown",
   "source": [
    "#### 1.3.2 Power infrastructure"
   ],
   "metadata": {
    "collapsed": false
   }
  },
  {
   "cell_type": "code",
   "execution_count": null,
   "outputs": [],
   "source": [
    "# Load shapefile\n",
    "shp_power = './data/power_network/power_network.shp'\n",
    "# Load the shapefile\n",
    "gdf_power = gpd.read_file(shp_power)\n",
    "# plot and show\n",
    "gdf_power.plot()\n",
    "plt.show()"
   ],
   "metadata": {
    "collapsed": false
   }
  },
  {
   "cell_type": "markdown",
   "source": [
    "#### 1.3.3 Transportation infrastructure"
   ],
   "metadata": {
    "collapsed": false
   }
  },
  {
   "cell_type": "code",
   "execution_count": null,
   "outputs": [],
   "source": [
    "# Load shapefile\n",
    "shp_transportation = './data/transportation_network/transportation_network.shp'\n",
    "# Load the shapefile\n",
    "gdf_transportation = gpd.read_file(shp_transportation)\n",
    "# plot and show\n",
    "gdf_transportation.plot()\n",
    "plt.show()"
   ],
   "metadata": {
    "collapsed": false
   }
  },
  {
   "cell_type": "markdown",
   "source": [
    "#### 1.3.4 Paper figure"
   ],
   "metadata": {
    "collapsed": false
   }
  },
  {
   "cell_type": "markdown",
   "source": [
    "<img src=\"https://ars.els-cdn.com/content/image/1-s2.0-S2772741623000388-gr3_lrg.jpg\" width=\"700\"/>"
   ],
   "metadata": {
    "collapsed": false
   }
  }
 ],
 "metadata": {
  "kernelspec": {
   "display_name": "Python 3 (ipykernel)",
   "language": "python",
   "name": "python3"
  },
  "language_info": {
   "codemirror_mode": {
    "name": "ipython",
    "version": 3
   },
   "file_extension": ".py",
   "mimetype": "text/x-python",
   "name": "python",
   "nbconvert_exporter": "python",
   "pygments_lexer": "ipython3",
   "version": "3.9.7"
  }
 },
 "nbformat": 4,
 "nbformat_minor": 5
}
