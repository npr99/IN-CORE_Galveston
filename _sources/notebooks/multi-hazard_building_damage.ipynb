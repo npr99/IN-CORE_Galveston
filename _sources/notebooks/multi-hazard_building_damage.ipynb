{
 "cells": [
  {
   "cell_type": "markdown",
   "id": "351fe20a",
   "metadata": {
    "tags": []
   },
   "source": [
    "## 2. Combined building damage"
   ]
  },
  {
   "cell_type": "markdown",
   "source": [
    "### 2.1 Define hazard"
   ],
   "metadata": {
    "collapsed": false
   }
  },
  {
   "cell_type": "code",
   "execution_count": 85,
   "id": "39b41540",
   "metadata": {},
   "outputs": [],
   "source": [
    "hazard_type = \"hurricane\"\n",
    "\n",
    "# 100yr Hazard Event\n",
    "hazard_id = \"5fa5a9497e5cdf51ebf1add2\"\n",
    "\n",
    "# 500yr Hazard Event\n",
    "#hazard_id = \"5fa5aa19b6429615aeea4476\"\n",
    "\n",
    "# Galveston Hurricane Ike\n",
    "# hazard_id = \"5fa5a228b6429615aeea4410\"\n",
    "\n"
   ]
  },
  {
   "cell_type": "markdown",
   "source": [
    "### 2.2 Define inventory"
   ],
   "metadata": {
    "collapsed": false
   }
  },
  {
   "cell_type": "code",
   "execution_count": 86,
   "outputs": [
    {
     "data": {
      "text/plain": "'63ff6b135c35c0353d5ed3ac'"
     },
     "execution_count": 86,
     "metadata": {},
     "output_type": "execute_result"
    }
   ],
   "source": [
    "# Galveston inventory data\n",
    "# bldg_dataset_id = \"63053ddaf5438e1f8c517fed\" # Full city\n",
    "bldg_dataset_id = \"63ff6b135c35c0353d5ed3ac\" # Island Only\n",
    "bldg_dataset_id"
   ],
   "metadata": {
    "collapsed": false
   }
  },
  {
   "cell_type": "markdown",
   "source": [
    "<img src=\"https://ars.els-cdn.com/content/image/1-s2.0-S2772741623000388-gr3_lrg.jpg\" width=\"700\"/>"
   ],
   "metadata": {
    "collapsed": false
   }
  },
  {
   "cell_type": "markdown",
   "source": [
    "### 2.3 Wind building damage"
   ],
   "metadata": {
    "collapsed": false
   }
  },
  {
   "cell_type": "code",
   "execution_count": 87,
   "outputs": [],
   "source": [
    "# Building Wind Fragility mapping\n",
    "mapping_id = \"62fef3a6cef2881193f2261d\"\n",
    "fragility_service = FragilityService(client)\n",
    "mapping_set = MappingSet(fragility_service.get_mapping(mapping_id))"
   ],
   "metadata": {
    "collapsed": false
   }
  },
  {
   "cell_type": "code",
   "execution_count": 88,
   "id": "b8bb07e1",
   "metadata": {},
   "outputs": [
    {
     "data": {
      "text/plain": "True"
     },
     "execution_count": 88,
     "metadata": {},
     "output_type": "execute_result"
    }
   ],
   "source": [
    "# wind building damage\n",
    "w_bldg_dmg = BuildingDamage(client)\n",
    "w_bldg_dmg.load_remote_input_dataset(\"buildings\", bldg_dataset_id)\n",
    "w_bldg_dmg.set_input_dataset('dfr3_mapping_set', mapping_set)\n",
    "w_bldg_dmg.set_parameter(\"result_name\", \"Galveston-wind-dmg\")\n",
    "w_bldg_dmg.set_parameter(\"hazard_type\", hazard_type)\n",
    "w_bldg_dmg.set_parameter(\"hazard_id\", hazard_id)\n",
    "w_bldg_dmg.set_parameter(\"num_cpu\", 8)\n",
    "w_bldg_dmg.run_analysis()"
   ]
  },
  {
   "cell_type": "markdown",
   "id": "6fb045b4",
   "metadata": {},
   "source": [
    "### 2.4 Surge-Wave building damage"
   ]
  },
  {
   "cell_type": "code",
   "execution_count": 89,
   "id": "58b1565c",
   "metadata": {},
   "outputs": [],
   "source": [
    "# Surge-wave mapping\n",
    "mapping_id = \"6303e51bd76c6d0e1f6be080\"\n",
    "mapping_set = MappingSet(fragility_service.get_mapping(mapping_id))"
   ]
  },
  {
   "cell_type": "code",
   "execution_count": 90,
   "id": "9812c012",
   "metadata": {},
   "outputs": [
    {
     "name": "stdout",
     "output_type": "stream",
     "text": [
      "Dataset already exists locally. Reading from local cached zip.\n",
      "Unzipped folder found in the local cache. Reading from it...\n"
     ]
    },
    {
     "data": {
      "text/plain": "True"
     },
     "execution_count": 90,
     "metadata": {},
     "output_type": "execute_result"
    }
   ],
   "source": [
    "# surge-wave building damage\n",
    "sw_bldg_dmg = BuildingDamage(client)\n",
    "sw_bldg_dmg.load_remote_input_dataset(\"buildings\", bldg_dataset_id)\n",
    "sw_bldg_dmg.set_input_dataset('dfr3_mapping_set', mapping_set)\n",
    "sw_bldg_dmg.set_parameter(\"result_name\", \"Galveston-sw-dmg\")\n",
    "sw_bldg_dmg.set_parameter(\"hazard_type\", hazard_type)\n",
    "sw_bldg_dmg.set_parameter(\"hazard_id\", hazard_id)\n",
    "sw_bldg_dmg.set_parameter(\"num_cpu\", 8)\n",
    "sw_bldg_dmg.run_analysis()"
   ]
  },
  {
   "cell_type": "markdown",
   "id": "72fd8814",
   "metadata": {},
   "source": [
    "### 2.5 Inundation (flood) building damage"
   ]
  },
  {
   "cell_type": "code",
   "execution_count": 91,
   "id": "bfb2b053",
   "metadata": {},
   "outputs": [],
   "source": [
    "# flood mapping\n",
    "mapping_id = \"62fefd688a30d30dac57bbd7\"\n",
    "mapping_set = MappingSet(fragility_service.get_mapping(mapping_id))"
   ]
  },
  {
   "cell_type": "code",
   "execution_count": 92,
   "id": "3445913d",
   "metadata": {},
   "outputs": [
    {
     "name": "stdout",
     "output_type": "stream",
     "text": [
      "Dataset already exists locally. Reading from local cached zip.\n",
      "Unzipped folder found in the local cache. Reading from it...\n"
     ]
    },
    {
     "data": {
      "text/plain": "True"
     },
     "execution_count": 92,
     "metadata": {},
     "output_type": "execute_result"
    }
   ],
   "source": [
    "# flood building damage\n",
    "f_bldg_dmg = BuildingDamage(client)\n",
    "f_bldg_dmg.load_remote_input_dataset(\"buildings\", bldg_dataset_id)\n",
    "f_bldg_dmg.set_input_dataset('dfr3_mapping_set', mapping_set)\n",
    "f_bldg_dmg.set_parameter(\"result_name\", \"Galveston-flood-dmg\")\n",
    "f_bldg_dmg.set_parameter(\"hazard_type\", hazard_type)\n",
    "f_bldg_dmg.set_parameter(\"hazard_id\", hazard_id)\n",
    "f_bldg_dmg.set_parameter(\"num_cpu\", 8)\n",
    "f_bldg_dmg.run_analysis()"
   ]
  },
  {
   "cell_type": "markdown",
   "id": "f9e16601",
   "metadata": {},
   "source": [
    "### 2.6 Combine wind, surge-wave and flood building damage"
   ]
  },
  {
   "cell_type": "markdown",
   "source": [
    "#### 2.6.1 Hazard exposure example: surge-wave"
   ],
   "metadata": {
    "collapsed": false
   }
  },
  {
   "cell_type": "code",
   "execution_count": 93,
   "id": "ef7f95aa",
   "metadata": {},
   "outputs": [
    {
     "name": "stdout",
     "output_type": "stream",
     "text": [
      "Count of \"yes\": 26278\n",
      "Count of \"partial\": 744\n",
      "Sum of \"yes\" and \"partial\": 27022\n",
      "Total number of rows: 29541\n"
     ]
    }
   ],
   "source": [
    "surge_wave_damage = sw_bldg_dmg.get_output_dataset(\"ds_result\")\n",
    "wind_damage = w_bldg_dmg.get_output_dataset(\"ds_result\")\n",
    "flood_damage = f_bldg_dmg.get_output_dataset(\"ds_result\")\n",
    "#surge_wave_damage.get_dataframe_from_csv(low_memory=False)\n",
    "\n",
    "data = surge_wave_damage.get_dataframe_from_csv(low_memory=False)\n",
    "yes_count = len(data[data['haz_expose'] == 'yes'])\n",
    "partial_count = len(data[data['haz_expose'] == 'partial'])\n",
    "sum_count = yes_count + partial_count\n",
    "total_rows = len(data)\n",
    "\n",
    "print('Count of \"yes\":', yes_count)\n",
    "print('Count of \"partial\":', partial_count)\n",
    "print('Sum of \"yes\" and \"partial\":', sum_count)\n",
    "print('Total number of rows:', total_rows)"
   ]
  },
  {
   "cell_type": "markdown",
   "source": [
    "#### 2.6.2 Combined damage: setup"
   ],
   "metadata": {
    "collapsed": false
   }
  },
  {
   "cell_type": "code",
   "execution_count": 94,
   "id": "36d3114e",
   "metadata": {},
   "outputs": [
    {
     "data": {
      "text/plain": "True"
     },
     "execution_count": 94,
     "metadata": {},
     "output_type": "execute_result"
    }
   ],
   "source": [
    "combined_bldg_dmg = CombinedWindWaveSurgeBuildingDamage(client)\n",
    "result_name = \"Galveston-combined-dmg\"\n",
    "combined_bldg_dmg.set_input_dataset(\"surge_wave_damage\", surge_wave_damage)\n",
    "combined_bldg_dmg.set_input_dataset(\"wind_damage\", wind_damage)\n",
    "combined_bldg_dmg.set_input_dataset(\"flood_damage\", flood_damage)\n",
    "combined_bldg_dmg.set_parameter(\"result_name\", result_name)\n",
    "combined_bldg_dmg.run_analysis()"
   ]
  },
  {
   "cell_type": "markdown",
   "source": [
    "#### 2.6.3 Hazard exposure example: combined"
   ],
   "metadata": {
    "collapsed": false
   }
  },
  {
   "cell_type": "code",
   "execution_count": 95,
   "id": "5f4ebe2d",
   "metadata": {},
   "outputs": [
    {
     "name": "stdout",
     "output_type": "stream",
     "text": [
      "Count of \"yes\": 29526\n",
      "Count of \"partial\": 11\n",
      "Sum of \"yes\" and \"partial\": 29537\n",
      "Total number of rows: 29541\n"
     ]
    }
   ],
   "source": [
    "combined_dmg = combined_bldg_dmg.get_output_dataset(\"ds_result\")\n",
    "combined_dmg_df = combined_dmg.get_dataframe_from_csv(low_memory=False)\n",
    "\n",
    "# Display top 5 rows of output data\n",
    "combined_dmg_df.head()\n",
    "combined_dmg_df.to_csv('combined_dmg_df.csv', index=False)\n",
    "\n",
    "data = combined_dmg_df\n",
    "yes_count = len(data[data['haz_expose'] == 'yes'])\n",
    "partial_count = len(data[data['haz_expose'] == 'partial'])\n",
    "sum_count = yes_count + partial_count\n",
    "total_rows = len(data)\n",
    "\n",
    "print('Count of \"yes\":', yes_count)\n",
    "print('Count of \"partial\":', partial_count)\n",
    "print('Sum of \"yes\" and \"partial\":', sum_count)\n",
    "print('Total number of rows:', total_rows)"
   ]
  },
  {
   "cell_type": "markdown",
   "source": [
    "<img src=\"https://ars.els-cdn.com/content/image/1-s2.0-S2772741623000388-gr4_lrg.jpg\" width=\"700\"/>"
   ],
   "metadata": {
    "collapsed": false
   }
  },
  {
   "cell_type": "markdown",
   "id": "828e824b",
   "metadata": {},
   "source": [
    "### 2.7 Archetype mapping"
   ]
  },
  {
   "cell_type": "code",
   "execution_count": 96,
   "id": "d975ad1d",
   "metadata": {},
   "outputs": [
    {
     "name": "stdout",
     "output_type": "stream",
     "text": [
      "Dataset already exists locally. Reading from local cached zip.\n",
      "Unzipped folder found in the local cache. Reading from it...\n"
     ]
    },
    {
     "data": {
      "text/plain": "                                  strctid parid  struct_typ  year_built  \\\n0  STf3a21b5f-0334-4d77-911f-faa9a45c92d7     0         NaN        1980   \n1  ST80ab0289-8c72-4699-b12b-08ef2f2a5c91     0         NaN        1954   \n2  ST7916eaa8-0bfa-4b32-84ff-20f19a520f5c     0         NaN        1970   \n3  ST79008971-a534-4e45-9e40-43a2a904e59b     0         NaN        2002   \n4  ST2ad8ab6f-057f-468e-9911-6e92d9d4d01f     0         NaN        2002   \n\n   no_stories  a_stories  b_stories bsmt_type  sq_foot  gsq_foot  ...  \\\n0           2          0          0         0    47927         0  ...   \n1           1          0          0         0   100796         0  ...   \n2           1          0          0         0    27121         0  ...   \n3           1          0          0         0   126333         0  ...   \n4           1          0          0         0   114544         0  ...   \n\n  ffe_elev   g_elev archetype arch_wind  arch_flood  arch_sw  \\\n0  3.76991  3.46511         0        15           6       15   \n1  2.26048  1.95568         0        15           6       15   \n2  2.68011  2.37531         0        15           6       15   \n3  2.91465  2.60985         0        15           6       15   \n4  3.73770  3.43290         0        15           6       15   \n\n                               csv_guid  csv_sector  csv_val_st  \\\n0                                   NaN         NaN         NaN   \n1                                   NaN         NaN         NaN   \n2  7916eaa8-0bfa-4b32-84ff-20f19a520f5c     IRetail   2435054.5   \n3  79008971-a534-4e45-9e40-43a2a904e59b    IProfSer     4483599   \n4  2ad8ab6f-057f-468e-9911-6e92d9d4d01f      IRealE   282702.06   \n\n                     geometry  \n0  POINT (-94.81680 29.31409)  \n1  POINT (-94.82295 29.29635)  \n2  POINT (-94.82423 29.29098)  \n3  POINT (-94.84045 29.29117)  \n4  POINT (-94.84242 29.29059)  \n\n[5 rows x 38 columns]",
      "text/html": "<div>\n<style scoped>\n    .dataframe tbody tr th:only-of-type {\n        vertical-align: middle;\n    }\n\n    .dataframe tbody tr th {\n        vertical-align: top;\n    }\n\n    .dataframe thead th {\n        text-align: right;\n    }\n</style>\n<table border=\"1\" class=\"dataframe\">\n  <thead>\n    <tr style=\"text-align: right;\">\n      <th></th>\n      <th>strctid</th>\n      <th>parid</th>\n      <th>struct_typ</th>\n      <th>year_built</th>\n      <th>no_stories</th>\n      <th>a_stories</th>\n      <th>b_stories</th>\n      <th>bsmt_type</th>\n      <th>sq_foot</th>\n      <th>gsq_foot</th>\n      <th>...</th>\n      <th>ffe_elev</th>\n      <th>g_elev</th>\n      <th>archetype</th>\n      <th>arch_wind</th>\n      <th>arch_flood</th>\n      <th>arch_sw</th>\n      <th>csv_guid</th>\n      <th>csv_sector</th>\n      <th>csv_val_st</th>\n      <th>geometry</th>\n    </tr>\n  </thead>\n  <tbody>\n    <tr>\n      <th>0</th>\n      <td>STf3a21b5f-0334-4d77-911f-faa9a45c92d7</td>\n      <td>0</td>\n      <td>NaN</td>\n      <td>1980</td>\n      <td>2</td>\n      <td>0</td>\n      <td>0</td>\n      <td>0</td>\n      <td>47927</td>\n      <td>0</td>\n      <td>...</td>\n      <td>3.76991</td>\n      <td>3.46511</td>\n      <td>0</td>\n      <td>15</td>\n      <td>6</td>\n      <td>15</td>\n      <td>NaN</td>\n      <td>NaN</td>\n      <td>NaN</td>\n      <td>POINT (-94.81680 29.31409)</td>\n    </tr>\n    <tr>\n      <th>1</th>\n      <td>ST80ab0289-8c72-4699-b12b-08ef2f2a5c91</td>\n      <td>0</td>\n      <td>NaN</td>\n      <td>1954</td>\n      <td>1</td>\n      <td>0</td>\n      <td>0</td>\n      <td>0</td>\n      <td>100796</td>\n      <td>0</td>\n      <td>...</td>\n      <td>2.26048</td>\n      <td>1.95568</td>\n      <td>0</td>\n      <td>15</td>\n      <td>6</td>\n      <td>15</td>\n      <td>NaN</td>\n      <td>NaN</td>\n      <td>NaN</td>\n      <td>POINT (-94.82295 29.29635)</td>\n    </tr>\n    <tr>\n      <th>2</th>\n      <td>ST7916eaa8-0bfa-4b32-84ff-20f19a520f5c</td>\n      <td>0</td>\n      <td>NaN</td>\n      <td>1970</td>\n      <td>1</td>\n      <td>0</td>\n      <td>0</td>\n      <td>0</td>\n      <td>27121</td>\n      <td>0</td>\n      <td>...</td>\n      <td>2.68011</td>\n      <td>2.37531</td>\n      <td>0</td>\n      <td>15</td>\n      <td>6</td>\n      <td>15</td>\n      <td>7916eaa8-0bfa-4b32-84ff-20f19a520f5c</td>\n      <td>IRetail</td>\n      <td>2435054.5</td>\n      <td>POINT (-94.82423 29.29098)</td>\n    </tr>\n    <tr>\n      <th>3</th>\n      <td>ST79008971-a534-4e45-9e40-43a2a904e59b</td>\n      <td>0</td>\n      <td>NaN</td>\n      <td>2002</td>\n      <td>1</td>\n      <td>0</td>\n      <td>0</td>\n      <td>0</td>\n      <td>126333</td>\n      <td>0</td>\n      <td>...</td>\n      <td>2.91465</td>\n      <td>2.60985</td>\n      <td>0</td>\n      <td>15</td>\n      <td>6</td>\n      <td>15</td>\n      <td>79008971-a534-4e45-9e40-43a2a904e59b</td>\n      <td>IProfSer</td>\n      <td>4483599</td>\n      <td>POINT (-94.84045 29.29117)</td>\n    </tr>\n    <tr>\n      <th>4</th>\n      <td>ST2ad8ab6f-057f-468e-9911-6e92d9d4d01f</td>\n      <td>0</td>\n      <td>NaN</td>\n      <td>2002</td>\n      <td>1</td>\n      <td>0</td>\n      <td>0</td>\n      <td>0</td>\n      <td>114544</td>\n      <td>0</td>\n      <td>...</td>\n      <td>3.73770</td>\n      <td>3.43290</td>\n      <td>0</td>\n      <td>15</td>\n      <td>6</td>\n      <td>15</td>\n      <td>2ad8ab6f-057f-468e-9911-6e92d9d4d01f</td>\n      <td>IRealE</td>\n      <td>282702.06</td>\n      <td>POINT (-94.84242 29.29059)</td>\n    </tr>\n  </tbody>\n</table>\n<p>5 rows × 38 columns</p>\n</div>"
     },
     "execution_count": 96,
     "metadata": {},
     "output_type": "execute_result"
    }
   ],
   "source": [
    "buildings = Dataset.from_data_service(bldg_dataset_id, data_service)\n",
    "bldg_gdf = buildings.get_dataframe_from_shapefile()\n",
    "bldg_gdf.head()"
   ]
  },
  {
   "cell_type": "code",
   "execution_count": 97,
   "id": "b055f2d7",
   "metadata": {},
   "outputs": [
    {
     "data": {
      "text/plain": "    arch_wind                category  \\\n0        12.0     Critical Facilities   \n1        14.0     Critical Facilities   \n2        11.0     Critical Facilities   \n3         NaN     Critical Facilities   \n4         NaN      Emergency Housing    \n5         NaN      Emergency Housing    \n6         NaN      Emergency Housing    \n7         NaN  Housing / Neighborhood   \n8        13.0  Housing / Neighborhood   \n9         1.0  Housing / Neighborhood   \n10        2.0  Housing / Neighborhood   \n11        3.0  Housing / Neighborhood   \n12        4.0  Housing / Neighborhood   \n13        5.0  Housing / Neighborhood   \n14       17.0  Housing / Neighborhood   \n15        NaN  Housing / Neighborhood   \n16        9.0  Housing / Neighborhood   \n17       10.0  Housing / Neighborhood   \n18        NaN  Housing / Neighborhood   \n19        NaN  Housing / Neighborhood   \n20        7.0      Community Recovery   \n21        8.0      Community Recovery   \n22        6.0      Community Recovery   \n23       15.0      Community Recovery   \n24       16.0      Community Recovery   \n25       18.0      Community Recovery   \n26       19.0      Community Recovery   \n27        NaN      Community Recovery   \n28        NaN      Community Recovery   \n\n                                              cluster  \n0             Critical Medical - Acute Care Hospitals  \n1                        Emergency Operations Centers  \n2    Critical Government - First Responder Facilities  \n3   Non-ambulatory Facilities - Prisons, nursing h...  \n4                                  Emergency Shelters  \n5                                 Residential Housing  \n6                                SFH and Multi-family  \n7                                     Critical Retail  \n8                     Religious and Spiritual Centers  \n9                                 Residential Housing  \n10                                Residential Housing  \n11                                Residential Housing  \n12                                Residential Housing  \n13                                Residential Housing  \n14                                Residential Housing  \n15                               SFH and Multi-family  \n16                                       K-12 Schools  \n17                                       K-12 Schools  \n18                                 Child Care Centers  \n19                                  Hotels and Motels  \n20                           Business - Manufacturing  \n21                           Business - Manufacturing  \n22                      Business - Commodity Services  \n23                      Business - Commodity Services  \n24                      Business - Commodity Services  \n25                      Business - Commodity Services  \n26                     Business - Service Professions  \n27                          Conference & Event Venues  \n28                                              Other  ",
      "text/html": "<div>\n<style scoped>\n    .dataframe tbody tr th:only-of-type {\n        vertical-align: middle;\n    }\n\n    .dataframe tbody tr th {\n        vertical-align: top;\n    }\n\n    .dataframe thead th {\n        text-align: right;\n    }\n</style>\n<table border=\"1\" class=\"dataframe\">\n  <thead>\n    <tr style=\"text-align: right;\">\n      <th></th>\n      <th>arch_wind</th>\n      <th>category</th>\n      <th>cluster</th>\n    </tr>\n  </thead>\n  <tbody>\n    <tr>\n      <th>0</th>\n      <td>12.0</td>\n      <td>Critical Facilities</td>\n      <td>Critical Medical - Acute Care Hospitals</td>\n    </tr>\n    <tr>\n      <th>1</th>\n      <td>14.0</td>\n      <td>Critical Facilities</td>\n      <td>Emergency Operations Centers</td>\n    </tr>\n    <tr>\n      <th>2</th>\n      <td>11.0</td>\n      <td>Critical Facilities</td>\n      <td>Critical Government - First Responder Facilities</td>\n    </tr>\n    <tr>\n      <th>3</th>\n      <td>NaN</td>\n      <td>Critical Facilities</td>\n      <td>Non-ambulatory Facilities - Prisons, nursing h...</td>\n    </tr>\n    <tr>\n      <th>4</th>\n      <td>NaN</td>\n      <td>Emergency Housing</td>\n      <td>Emergency Shelters</td>\n    </tr>\n    <tr>\n      <th>5</th>\n      <td>NaN</td>\n      <td>Emergency Housing</td>\n      <td>Residential Housing</td>\n    </tr>\n    <tr>\n      <th>6</th>\n      <td>NaN</td>\n      <td>Emergency Housing</td>\n      <td>SFH and Multi-family</td>\n    </tr>\n    <tr>\n      <th>7</th>\n      <td>NaN</td>\n      <td>Housing / Neighborhood</td>\n      <td>Critical Retail</td>\n    </tr>\n    <tr>\n      <th>8</th>\n      <td>13.0</td>\n      <td>Housing / Neighborhood</td>\n      <td>Religious and Spiritual Centers</td>\n    </tr>\n    <tr>\n      <th>9</th>\n      <td>1.0</td>\n      <td>Housing / Neighborhood</td>\n      <td>Residential Housing</td>\n    </tr>\n    <tr>\n      <th>10</th>\n      <td>2.0</td>\n      <td>Housing / Neighborhood</td>\n      <td>Residential Housing</td>\n    </tr>\n    <tr>\n      <th>11</th>\n      <td>3.0</td>\n      <td>Housing / Neighborhood</td>\n      <td>Residential Housing</td>\n    </tr>\n    <tr>\n      <th>12</th>\n      <td>4.0</td>\n      <td>Housing / Neighborhood</td>\n      <td>Residential Housing</td>\n    </tr>\n    <tr>\n      <th>13</th>\n      <td>5.0</td>\n      <td>Housing / Neighborhood</td>\n      <td>Residential Housing</td>\n    </tr>\n    <tr>\n      <th>14</th>\n      <td>17.0</td>\n      <td>Housing / Neighborhood</td>\n      <td>Residential Housing</td>\n    </tr>\n    <tr>\n      <th>15</th>\n      <td>NaN</td>\n      <td>Housing / Neighborhood</td>\n      <td>SFH and Multi-family</td>\n    </tr>\n    <tr>\n      <th>16</th>\n      <td>9.0</td>\n      <td>Housing / Neighborhood</td>\n      <td>K-12 Schools</td>\n    </tr>\n    <tr>\n      <th>17</th>\n      <td>10.0</td>\n      <td>Housing / Neighborhood</td>\n      <td>K-12 Schools</td>\n    </tr>\n    <tr>\n      <th>18</th>\n      <td>NaN</td>\n      <td>Housing / Neighborhood</td>\n      <td>Child Care Centers</td>\n    </tr>\n    <tr>\n      <th>19</th>\n      <td>NaN</td>\n      <td>Housing / Neighborhood</td>\n      <td>Hotels and Motels</td>\n    </tr>\n    <tr>\n      <th>20</th>\n      <td>7.0</td>\n      <td>Community Recovery</td>\n      <td>Business - Manufacturing</td>\n    </tr>\n    <tr>\n      <th>21</th>\n      <td>8.0</td>\n      <td>Community Recovery</td>\n      <td>Business - Manufacturing</td>\n    </tr>\n    <tr>\n      <th>22</th>\n      <td>6.0</td>\n      <td>Community Recovery</td>\n      <td>Business - Commodity Services</td>\n    </tr>\n    <tr>\n      <th>23</th>\n      <td>15.0</td>\n      <td>Community Recovery</td>\n      <td>Business - Commodity Services</td>\n    </tr>\n    <tr>\n      <th>24</th>\n      <td>16.0</td>\n      <td>Community Recovery</td>\n      <td>Business - Commodity Services</td>\n    </tr>\n    <tr>\n      <th>25</th>\n      <td>18.0</td>\n      <td>Community Recovery</td>\n      <td>Business - Commodity Services</td>\n    </tr>\n    <tr>\n      <th>26</th>\n      <td>19.0</td>\n      <td>Community Recovery</td>\n      <td>Business - Service Professions</td>\n    </tr>\n    <tr>\n      <th>27</th>\n      <td>NaN</td>\n      <td>Community Recovery</td>\n      <td>Conference &amp; Event Venues</td>\n    </tr>\n    <tr>\n      <th>28</th>\n      <td>NaN</td>\n      <td>Community Recovery</td>\n      <td>Other</td>\n    </tr>\n  </tbody>\n</table>\n</div>"
     },
     "execution_count": 97,
     "metadata": {},
     "output_type": "execute_result"
    }
   ],
   "source": [
    "arch_mapping = Dataset.from_data_service(\"63dc1f1362b9d001e6a1b485\", data_service).get_dataframe_from_csv()\n",
    "arch_mapping"
   ]
  },
  {
   "cell_type": "code",
   "execution_count": 98,
   "id": "61854765",
   "metadata": {},
   "outputs": [
    {
     "data": {
      "text/plain": "                                       guid  max_prob max_state\n0      f3a21b5f-0334-4d77-911f-faa9a45c92d7  0.656011      DS_0\n1      80ab0289-8c72-4699-b12b-08ef2f2a5c91  0.711510      DS_2\n2      7916eaa8-0bfa-4b32-84ff-20f19a520f5c  0.896200      DS_0\n3      79008971-a534-4e45-9e40-43a2a904e59b  0.695918      DS_0\n4      2ad8ab6f-057f-468e-9911-6e92d9d4d01f  0.575940      DS_0\n...                                     ...       ...       ...\n29536  1ac5be10-582c-46b2-91ed-469f684bb886  0.999993      DS_3\n29537  fbcfb6d6-de13-42fa-9839-d7c80afc651d  0.357067      DS_2\n29538  2ee961c9-cd94-499e-b1fe-3e0220a440ea  0.545299      DS_2\n29539  fa15cfbc-8a60-4a3f-b40f-7a6fada625b9  0.678298      DS_0\n29540  3a8a9360-48b1-4399-950d-d32969b0a381  0.678298      DS_0\n\n[29541 rows x 3 columns]",
      "text/html": "<div>\n<style scoped>\n    .dataframe tbody tr th:only-of-type {\n        vertical-align: middle;\n    }\n\n    .dataframe tbody tr th {\n        vertical-align: top;\n    }\n\n    .dataframe thead th {\n        text-align: right;\n    }\n</style>\n<table border=\"1\" class=\"dataframe\">\n  <thead>\n    <tr style=\"text-align: right;\">\n      <th></th>\n      <th>guid</th>\n      <th>max_prob</th>\n      <th>max_state</th>\n    </tr>\n  </thead>\n  <tbody>\n    <tr>\n      <th>0</th>\n      <td>f3a21b5f-0334-4d77-911f-faa9a45c92d7</td>\n      <td>0.656011</td>\n      <td>DS_0</td>\n    </tr>\n    <tr>\n      <th>1</th>\n      <td>80ab0289-8c72-4699-b12b-08ef2f2a5c91</td>\n      <td>0.711510</td>\n      <td>DS_2</td>\n    </tr>\n    <tr>\n      <th>2</th>\n      <td>7916eaa8-0bfa-4b32-84ff-20f19a520f5c</td>\n      <td>0.896200</td>\n      <td>DS_0</td>\n    </tr>\n    <tr>\n      <th>3</th>\n      <td>79008971-a534-4e45-9e40-43a2a904e59b</td>\n      <td>0.695918</td>\n      <td>DS_0</td>\n    </tr>\n    <tr>\n      <th>4</th>\n      <td>2ad8ab6f-057f-468e-9911-6e92d9d4d01f</td>\n      <td>0.575940</td>\n      <td>DS_0</td>\n    </tr>\n    <tr>\n      <th>...</th>\n      <td>...</td>\n      <td>...</td>\n      <td>...</td>\n    </tr>\n    <tr>\n      <th>29536</th>\n      <td>1ac5be10-582c-46b2-91ed-469f684bb886</td>\n      <td>0.999993</td>\n      <td>DS_3</td>\n    </tr>\n    <tr>\n      <th>29537</th>\n      <td>fbcfb6d6-de13-42fa-9839-d7c80afc651d</td>\n      <td>0.357067</td>\n      <td>DS_2</td>\n    </tr>\n    <tr>\n      <th>29538</th>\n      <td>2ee961c9-cd94-499e-b1fe-3e0220a440ea</td>\n      <td>0.545299</td>\n      <td>DS_2</td>\n    </tr>\n    <tr>\n      <th>29539</th>\n      <td>fa15cfbc-8a60-4a3f-b40f-7a6fada625b9</td>\n      <td>0.678298</td>\n      <td>DS_0</td>\n    </tr>\n    <tr>\n      <th>29540</th>\n      <td>3a8a9360-48b1-4399-950d-d32969b0a381</td>\n      <td>0.678298</td>\n      <td>DS_0</td>\n    </tr>\n  </tbody>\n</table>\n<p>29541 rows × 3 columns</p>\n</div>"
     },
     "execution_count": 98,
     "metadata": {},
     "output_type": "execute_result"
    }
   ],
   "source": [
    "max_dmg_state_df = DataProcessUtil.get_max_damage_state(combined_dmg_df)\n",
    "max_dmg_state_df"
   ]
  },
  {
   "cell_type": "code",
   "execution_count": 99,
   "id": "53b21c48",
   "metadata": {},
   "outputs": [
    {
     "data": {
      "text/plain": "{'by_cluster': [{'category': 'Critical Facilities',\n   'cluster': 'Critical Medical - Acute Care Hospitals',\n   'DS_0': 10,\n   'DS_1': 5,\n   'DS_2': 0,\n   'DS_3': 0},\n  {'category': 'Critical Facilities',\n   'cluster': 'Emergency Operations Centers',\n   'DS_0': -1,\n   'DS_1': -1,\n   'DS_2': -1,\n   'DS_3': -1},\n  {'category': 'Critical Facilities',\n   'cluster': 'Critical Government - First Responder Facilities',\n   'DS_0': -1,\n   'DS_1': -1,\n   'DS_2': -1,\n   'DS_3': -1},\n  {'category': 'Critical Facilities',\n   'cluster': 'Non-ambulatory Facilities - Prisons, nursing homes, etc.',\n   'DS_0': -1,\n   'DS_1': -1,\n   'DS_2': -1,\n   'DS_3': -1},\n  {'category': 'Emergency Housing ',\n   'cluster': 'Emergency Shelters',\n   'DS_0': -1,\n   'DS_1': -1,\n   'DS_2': -1,\n   'DS_3': -1},\n  {'category': 'Emergency Housing ',\n   'cluster': 'Residential Housing',\n   'DS_0': -1,\n   'DS_1': -1,\n   'DS_2': -1,\n   'DS_3': -1},\n  {'category': 'Emergency Housing ',\n   'cluster': 'SFH and Multi-family',\n   'DS_0': -1,\n   'DS_1': -1,\n   'DS_2': -1,\n   'DS_3': -1},\n  {'category': 'Housing / Neighborhood',\n   'cluster': 'Critical Retail',\n   'DS_0': -1,\n   'DS_1': -1,\n   'DS_2': -1,\n   'DS_3': -1},\n  {'category': 'Housing / Neighborhood',\n   'cluster': 'Religious and Spiritual Centers',\n   'DS_0': -1,\n   'DS_1': -1,\n   'DS_2': -1,\n   'DS_3': -1},\n  {'category': 'Housing / Neighborhood',\n   'cluster': 'Residential Housing',\n   'DS_0': 4950,\n   'DS_1': 1731,\n   'DS_2': 17259,\n   'DS_3': 2943},\n  {'category': 'Housing / Neighborhood',\n   'cluster': 'SFH and Multi-family',\n   'DS_0': -1,\n   'DS_1': -1,\n   'DS_2': -1,\n   'DS_3': -1},\n  {'category': 'Housing / Neighborhood',\n   'cluster': 'K-12 Schools',\n   'DS_0': 10,\n   'DS_1': 0,\n   'DS_2': 2,\n   'DS_3': 0},\n  {'category': 'Housing / Neighborhood',\n   'cluster': 'Child Care Centers',\n   'DS_0': -1,\n   'DS_1': -1,\n   'DS_2': -1,\n   'DS_3': -1},\n  {'category': 'Housing / Neighborhood',\n   'cluster': 'Hotels and Motels',\n   'DS_0': -1,\n   'DS_1': -1,\n   'DS_2': -1,\n   'DS_3': -1},\n  {'category': 'Community Recovery',\n   'cluster': 'Business - Manufacturing',\n   'DS_0': 48,\n   'DS_1': 18,\n   'DS_2': 5,\n   'DS_3': 17},\n  {'category': 'Community Recovery',\n   'cluster': 'Business - Commodity Services',\n   'DS_0': 646,\n   'DS_1': 709,\n   'DS_2': 1019,\n   'DS_3': 27},\n  {'category': 'Community Recovery',\n   'cluster': 'Business - Service Professions',\n   'DS_0': 31,\n   'DS_1': 1,\n   'DS_2': 110,\n   'DS_3': 0},\n  {'category': 'Community Recovery',\n   'cluster': 'Conference & Event Venues',\n   'DS_0': -1,\n   'DS_1': -1,\n   'DS_2': -1,\n   'DS_3': -1},\n  {'category': 'Community Recovery',\n   'cluster': 'Other',\n   'DS_0': -1,\n   'DS_1': -1,\n   'DS_2': -1,\n   'DS_3': -1}],\n 'by_category': [{'category': 'Critical Facilities',\n   'DS_0': 10,\n   'DS_1': 5,\n   'DS_2': 0,\n   'DS_3': 0},\n  {'category': 'Emergency Housing ',\n   'DS_0': -1,\n   'DS_1': -1,\n   'DS_2': -1,\n   'DS_3': -1},\n  {'category': 'Housing / Neighborhood',\n   'DS_0': 4960,\n   'DS_1': 1731,\n   'DS_2': 17261,\n   'DS_3': 2943},\n  {'category': 'Community Recovery',\n   'DS_0': 725,\n   'DS_1': 728,\n   'DS_2': 1134,\n   'DS_3': 44}]}"
     },
     "execution_count": 99,
     "metadata": {},
     "output_type": "execute_result"
    }
   ],
   "source": [
    "ret_json = DataProcessUtil.create_mapped_dmg_result(bldg_gdf, max_dmg_state_df, arch_mapping, \"max_state\", \"arch_wind\")\n",
    "ret_json"
   ]
  }
 ],
 "metadata": {
  "kernelspec": {
   "display_name": "Python 3 (ipykernel)",
   "language": "python",
   "name": "python3"
  },
  "language_info": {
   "codemirror_mode": {
    "name": "ipython",
    "version": 3
   },
   "file_extension": ".py",
   "mimetype": "text/x-python",
   "name": "python",
   "nbconvert_exporter": "python",
   "pygments_lexer": "ipython3",
   "version": "3.9.7"
  }
 },
 "nbformat": 4,
 "nbformat_minor": 5
}
