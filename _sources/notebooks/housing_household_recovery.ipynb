{
 "cells": [
  {
   "cell_type": "markdown",
   "id": "123208de",
   "metadata": {
    "tags": []
   },
   "source": [
    "## 8. Housing Houshold Recovery Sequentials"
   ]
  },
  {
   "cell_type": "markdown",
   "id": "183e1e00",
   "metadata": {
    "tags": []
   },
   "source": [
    "### 8.1 Social vulnerabilities"
   ]
  },
  {
   "cell_type": "code",
   "execution_count": 147,
   "id": "6e95efbc-bfff-4cdf-a3f5-c4735d724c36",
   "metadata": {},
   "outputs": [],
   "source": [
    "# importing censusutils\n",
    "from pyincore_data.censusutil import CensusUtil"
   ]
  },
  {
   "cell_type": "code",
   "execution_count": 148,
   "id": "1872824a-3a73-4a26-8d6a-0f5469732c09",
   "metadata": {},
   "outputs": [],
   "source": [
    "# Parameters\n",
    "state = \"texas\"\n",
    "county = \"galveston\"\n",
    "year = 2019"
   ]
  },
  {
   "cell_type": "code",
   "execution_count": 149,
   "id": "1beddb67-a577-4448-bbe9-fa7b2115ceb0",
   "metadata": {},
   "outputs": [],
   "source": [
    "# get fips code to use fetch census data\n",
    "fips = CensusUtil.get_fips_by_state_county(state=state, county=county)\n",
    "state_code = fips[:2]\n",
    "county_code = fips[2:]"
   ]
  },
  {
   "cell_type": "code",
   "execution_count": 150,
   "id": "f7d3c61a-b156-43bb-85d9-bb1a1f06bdbf",
   "metadata": {},
   "outputs": [
    {
     "name": "stdout",
     "output_type": "stream",
     "text": [
      "csv saved as api_20231211-120109.csv\n",
      "csv saved as api_20231211-120109.csv\n",
      "csv saved as api_20231211-120110.csv\n",
      "csv saved as api_20231211-120111.csv\n",
      "csv saved as api_20231211-120112.csv\n",
      "csv saved as api_20231211-120113.csv\n",
      "csv saved as api_20231211-120114.csv\n",
      "csv saved as api_20231211-120115.csv\n",
      "csv saved as api_20231211-120117.csv\n",
      "csv saved as api_20231211-120118.csv\n"
     ]
    }
   ],
   "source": [
    "navs = CensusUtil.national_ave_values(year=year)\n",
    "national_vulnerability_feature_averages = Dataset.from_csv_data(navs, name=\"national_vulnerability_feature_averages.csv\",\n",
    "                                                                 data_type=\"incore:socialVulnerabilityFeatureAverages\")\n",
    "\n",
    "geo_type = \"block%20group:*\"\n",
    "# geo_type = \"tract:*\"\n",
    "social_vulnerability_dem_factors_df = CensusUtil.demographic_factors(state_code, county_code, year=year,\n",
    "                                                                      geo_type=geo_type)\n",
    "\n",
    "# Temp fix: remove bad data point\n",
    "social_vulnerability_dem_factors_df = social_vulnerability_dem_factors_df.dropna()\n",
    "\n",
    "social_vulnerability_dem_factors = Dataset.from_dataframe(social_vulnerability_dem_factors_df,\n",
    "                                                           name=\"social_vunlnerability_dem_factors\",\n",
    "                                                           data_type=\"incore:socialVulnerabilityDemFactors\")"
   ]
  },
  {
   "cell_type": "code",
   "execution_count": 151,
   "id": "cf28d307",
   "metadata": {},
   "outputs": [],
   "source": [
    "social_vulnerability = SocialVulnerability(client)\n",
    "\n",
    "social_vulnerability.set_parameter(\"result_name\", \"gal_social_vulnerabilty\")\n",
    "social_vulnerability.set_input_dataset(\"national_vulnerability_feature_averages\", national_vulnerability_feature_averages)\n",
    "social_vulnerability.set_input_dataset(\"social_vulnerability_demographic_factors\", social_vulnerability_dem_factors)\n",
    "\n",
    "social_vulnerability.run_analysis()\n",
    "sv_result = social_vulnerability.get_output_dataset(\"sv_result\")"
   ]
  },
  {
   "cell_type": "code",
   "execution_count": 152,
   "id": "308f5048-5221-4fca-b84b-3aea3f273aa7",
   "metadata": {},
   "outputs": [],
   "source": [
    "df = sv_result.get_dataframe_from_csv()"
   ]
  },
  {
   "cell_type": "markdown",
   "id": "6d697f61",
   "metadata": {},
   "source": [
    "### 8.2 Run simulation"
   ]
  },
  {
   "cell_type": "code",
   "execution_count": 153,
   "id": "9011551e",
   "metadata": {},
   "outputs": [
    {
     "name": "stdout",
     "output_type": "stream",
     "text": [
      "Dataset already exists locally. Reading from local cached zip.\n",
      "Unzipped folder found in the local cache. Reading from it...\n",
      "Dataset already exists locally. Reading from local cached zip.\n",
      "Unzipped folder found in the local cache. Reading from it...\n",
      "Dataset already exists locally. Reading from local cached zip.\n",
      "Unzipped folder found in the local cache. Reading from it...\n",
      "Dataset already exists locally. Reading from local cached zip.\n",
      "Unzipped folder found in the local cache. Reading from it...\n",
      "Dataset already exists locally. Reading from local cached zip.\n",
      "Unzipped folder found in the local cache. Reading from it...\n",
      "Dataset already exists locally. Reading from local cached zip.\n",
      "Unzipped folder found in the local cache. Reading from it...\n"
     ]
    }
   ],
   "source": [
    "# Population dislocation result aggregated to the block group level.\n",
    "# Transition probability matrix per social vulnerability level.\n",
    "transition_probability_matrix = \"60f5e2ae544e944c3cec0794\"\n",
    "# Initial mass probability function for stage 0.\n",
    "initial_probability_vector = \"60f5e918544e944c3cec668b\"\n",
    "\n",
    "# Create housing recovery instance\n",
    "housing_recovery = HousingRecoverySequential(client)\n",
    "\n",
    "# Load input datasets\n",
    "for keys, values in hhrs_dislocation_dataset_names.items():\n",
    "    housing_recovery.set_input_dataset(\"population_dislocation_block\", values)\n",
    "    housing_recovery.load_remote_input_dataset(\"tpm\", transition_probability_matrix)\n",
    "    housing_recovery.load_remote_input_dataset(\"initial_stage_probabilities\", initial_probability_vector) \n",
    "    \n",
    "    # Chain with SV output\n",
    "    housing_recovery.set_input_dataset('sv_result', sv_result)\n",
    "\n",
    "    # Initial value to seed the random number generator to ensure replication\n",
    "    seed = 1111\n",
    "    # A size of the analysis time step.\n",
    "    t_delta = 1.0\n",
    "    # Total duration.\n",
    "    t_final = 90.0    \n",
    "    \n",
    "\n",
    "\n",
    "    # Specify the result name\n",
    "    result_name = f\"housing_recovery_result_{keys}\"\n",
    "\n",
    "    # Set analysis parameters\n",
    "    housing_recovery.set_parameter(\"result_name\", result_name)\n",
    "    housing_recovery.set_parameter(\"seed\", seed)\n",
    "    housing_recovery.set_parameter(\"t_delta\", t_delta)\n",
    "    housing_recovery.set_parameter(\"t_final\", t_final)\n",
    "    housing_recovery.set_parameter(\"num_cpu\", 8)\n",
    "\n",
    "    housing_recovery.run()\n",
    "    \n",
    "    result = housing_recovery.get_output_dataset(\"ds_result\")\n",
    "    hh_stagehistory_df = result.get_dataframe_from_csv()\n",
    "    #timesteps = [\"1\", \"7\", \"13\", \"25\", \"85\"] # t0, t6, t12, t24, t84\n",
    "    timesteps = [\"1\", \"2\", \"3\", \"4\", \"5\", \"6\", \"7\", \"13\", \"25\", \"37\", \"49\", \"61\", \"73\", \"85\"]\n",
    "    HHRSOutputProcess.get_hhrs_stage_count(timesteps, hh_stagehistory_df,\n",
    "                                           filename_json=f\"hhrs_stage_count_{keys}.json\")\n"
   ]
  },
  {
   "cell_type": "code",
   "execution_count": 154,
   "id": "38b8a182-8d37-408b-ab68-211cd39aed16",
   "metadata": {},
   "outputs": [
    {
     "data": {
      "text/plain": "count                                    33302\nunique                                   22015\ntop       2669f722-ae95-4181-90a8-9c4755b7b29c\nfreq                                       191\nName: guid, dtype: object"
     },
     "execution_count": 154,
     "metadata": {},
     "output_type": "execute_result"
    }
   ],
   "source": [
    "hh_stagehistory_df['guid'].describe()"
   ]
  },
  {
   "cell_type": "markdown",
   "source": [
    "### 8.3 Results: multi-hazard"
   ],
   "metadata": {
    "collapsed": false
   }
  },
  {
   "cell_type": "markdown",
   "source": [
    "<img src=\"https://ars.els-cdn.com/content/image/1-s2.0-S2772741623000388-gr9_lrg.jpg\" width=\"700\"/>\n"
   ],
   "metadata": {
    "collapsed": false
   }
  },
  {
   "cell_type": "markdown",
   "source": [
    "### 8.3 Results: infrastructure"
   ],
   "metadata": {
    "collapsed": false
   }
  },
  {
   "cell_type": "markdown",
   "source": [
    "<img src=\"https://ars.els-cdn.com/content/image/1-s2.0-S2772741623000388-gr10_lrg.jpg\" width=\"700\"/>"
   ],
   "metadata": {
    "collapsed": false
   }
  }
 ],
 "metadata": {
  "kernelspec": {
   "display_name": "Python 3 (ipykernel)",
   "language": "python",
   "name": "python3"
  },
  "language_info": {
   "codemirror_mode": {
    "name": "ipython",
    "version": 3
   },
   "file_extension": ".py",
   "mimetype": "text/x-python",
   "name": "python",
   "nbconvert_exporter": "python",
   "pygments_lexer": "ipython3",
   "version": "3.9.7"
  }
 },
 "nbformat": 4,
 "nbformat_minor": 5
}
