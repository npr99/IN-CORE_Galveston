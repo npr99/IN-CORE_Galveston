{
 "cells": [
  {
   "cell_type": "markdown",
   "metadata": {
    "collapsed": false
   },
   "source": [
    "# Example: Galveston Testbed\n",
    "\n",
    "Reference paper: [Multi-hazard socio-physical resilience assessment of hurricane-induced hazards on coastal communities](https://www.sciencedirect.com/science/article/pii/S2772741623000388)\n"
   ]
  },
  {
   "cell_type": "markdown",
   "metadata": {
    "collapsed": false
   },
   "source": [
    "## 1. Prerequisites"
   ]
  },
  {
   "cell_type": "code",
   "execution_count": 80,
   "id": "957d73f9",
   "metadata": {},
   "outputs": [],
   "source": [
    "import warnings\n",
    "warnings.filterwarnings(\"ignore\")\n",
    "import pandas as pd\n",
    "import numpy as np\n",
    "import matplotlib.pyplot as plt\n",
    "\n",
    "from pyincore import IncoreClient, Dataset, DataService, HazardService, FragilityService, MappingSet, FragilityCurveSet\n",
    "from pyincore import HHRSOutputProcess\n",
    "from pyincore.utils.dataprocessutil import DataProcessUtil\n",
    "\n",
    "# importing pyIncone analyses:\n",
    "from pyincore.analyses.buildingdamage import BuildingDamage\n",
    "from pyincore.analyses.buildingfunctionality import BuildingFunctionality\n",
    "from pyincore.analyses.combinedwindwavesurgebuildingdamage import CombinedWindWaveSurgeBuildingDamage\n",
    "from pyincore.analyses.epfdamage import EpfDamage\n",
    "from pyincore.analyses.montecarlofailureprobability import MonteCarloFailureProbability\n",
    "from pyincore.analyses.housingunitallocation import HousingUnitAllocation\n",
    "from pyincore.analyses.populationdislocation import PopulationDislocation, PopulationDislocationUtil\n",
    "from pyincore.analyses.housingrecoverysequential import HousingRecoverySequential\n",
    "from pyincore.analyses.socialvulnerability import SocialVulnerability\n",
    "from pyincore.analyses.capitalshocks import CapitalShocks\n",
    "\n",
    "# Functions for visualizing the population data results as tables\n",
    "#from pyincore_viz.analysis.popresultstable import PopResultsTable as poptable\n"
   ]
  },
  {
   "cell_type": "code",
   "execution_count": 81,
   "id": "4e50116d",
   "metadata": {},
   "outputs": [
    {
     "name": "stdout",
     "output_type": "stream",
     "text": [
      "Connection successful to IN-CORE services. pyIncore version detected: 1.9.0\n"
     ]
    }
   ],
   "source": [
    "client = IncoreClient()\n",
    "# IN-CORE caches files on the local machine, it might be necessary to clear the memory\n",
    "# client.clear_cache() \n",
    "data_service = DataService(client) # create data_service object for loading files\n",
    "hazard_service = HazardService(client)\n",
    "fragility_services = FragilityService(client)"
   ]
  },
  {
   "cell_type": "code",
   "execution_count": 84,
   "id": "088c0437-4648-49d3-a3a8-4fc26e695684",
   "metadata": {},
   "outputs": [
    {
     "name": "stderr",
     "output_type": "stream",
     "text": [
      "WARNING - client.py:clear_cache() - Cached folder doesn't exist\n"
     ]
    }
   ],
   "source": [
    "client.clear_cache()"
   ]
  },
  {
   "cell_type": "markdown",
   "id": "351fe20a",
   "metadata": {
    "tags": []
   },
   "source": [
    "## 2. Combined building damage"
   ]
  },
  {
   "cell_type": "markdown",
   "metadata": {
    "collapsed": false
   },
   "source": [
    "### 2.1 Define hazard"
   ]
  },
  {
   "cell_type": "code",
   "execution_count": 85,
   "id": "39b41540",
   "metadata": {},
   "outputs": [],
   "source": [
    "hazard_type = \"hurricane\"\n",
    "\n",
    "# 100yr Hazard Event\n",
    "hazard_id = \"5fa5a9497e5cdf51ebf1add2\"\n",
    "\n",
    "# 500yr Hazard Event\n",
    "#hazard_id = \"5fa5aa19b6429615aeea4476\"\n",
    "\n",
    "# Galveston Hurricane Ike\n",
    "# hazard_id = \"5fa5a228b6429615aeea4410\"\n",
    "\n"
   ]
  },
  {
   "cell_type": "markdown",
   "metadata": {
    "collapsed": false
   },
   "source": [
    "### 2.2 Define inventory"
   ]
  },
  {
   "cell_type": "code",
   "execution_count": 86,
   "metadata": {
    "collapsed": false
   },
   "outputs": [
    {
     "data": {
      "text/plain": [
       "'63ff6b135c35c0353d5ed3ac'"
      ]
     },
     "execution_count": 86,
     "metadata": {},
     "output_type": "execute_result"
    }
   ],
   "source": [
    "# Galveston inventory data\n",
    "# bldg_dataset_id = \"63053ddaf5438e1f8c517fed\" # Full city\n",
    "bldg_dataset_id = \"63ff6b135c35c0353d5ed3ac\" # Island Only\n",
    "bldg_dataset_id"
   ]
  },
  {
   "cell_type": "markdown",
   "metadata": {
    "collapsed": false
   },
   "source": [
    "<img src=\"https://ars.els-cdn.com/content/image/1-s2.0-S2772741623000388-gr3_lrg.jpg\" width=\"700\"/>"
   ]
  },
  {
   "cell_type": "markdown",
   "metadata": {
    "collapsed": false
   },
   "source": [
    "### 2.3 Wind building damage"
   ]
  },
  {
   "cell_type": "code",
   "execution_count": 87,
   "metadata": {
    "collapsed": false
   },
   "outputs": [],
   "source": [
    "# Building Wind Fragility mapping\n",
    "mapping_id = \"62fef3a6cef2881193f2261d\"\n",
    "fragility_service = FragilityService(client)\n",
    "mapping_set = MappingSet(fragility_service.get_mapping(mapping_id))"
   ]
  },
  {
   "cell_type": "code",
   "execution_count": 88,
   "id": "b8bb07e1",
   "metadata": {},
   "outputs": [
    {
     "data": {
      "text/plain": [
       "True"
      ]
     },
     "execution_count": 88,
     "metadata": {},
     "output_type": "execute_result"
    }
   ],
   "source": [
    "# wind building damage\n",
    "w_bldg_dmg = BuildingDamage(client)\n",
    "w_bldg_dmg.load_remote_input_dataset(\"buildings\", bldg_dataset_id)\n",
    "w_bldg_dmg.set_input_dataset('dfr3_mapping_set', mapping_set)\n",
    "w_bldg_dmg.set_parameter(\"result_name\", \"Galveston-wind-dmg\")\n",
    "w_bldg_dmg.set_parameter(\"hazard_type\", hazard_type)\n",
    "w_bldg_dmg.set_parameter(\"hazard_id\", hazard_id)\n",
    "w_bldg_dmg.set_parameter(\"num_cpu\", 8)\n",
    "w_bldg_dmg.run_analysis()"
   ]
  },
  {
   "cell_type": "markdown",
   "id": "6fb045b4",
   "metadata": {},
   "source": [
    "### 2.4 Surge-Wave building damage"
   ]
  },
  {
   "cell_type": "code",
   "execution_count": 89,
   "id": "58b1565c",
   "metadata": {},
   "outputs": [],
   "source": [
    "# Surge-wave mapping\n",
    "mapping_id = \"6303e51bd76c6d0e1f6be080\"\n",
    "mapping_set = MappingSet(fragility_service.get_mapping(mapping_id))"
   ]
  },
  {
   "cell_type": "code",
   "execution_count": 90,
   "id": "9812c012",
   "metadata": {},
   "outputs": [
    {
     "name": "stdout",
     "output_type": "stream",
     "text": [
      "Dataset already exists locally. Reading from local cached zip.\n",
      "Unzipped folder found in the local cache. Reading from it...\n"
     ]
    },
    {
     "data": {
      "text/plain": [
       "True"
      ]
     },
     "execution_count": 90,
     "metadata": {},
     "output_type": "execute_result"
    }
   ],
   "source": [
    "# surge-wave building damage\n",
    "sw_bldg_dmg = BuildingDamage(client)\n",
    "sw_bldg_dmg.load_remote_input_dataset(\"buildings\", bldg_dataset_id)\n",
    "sw_bldg_dmg.set_input_dataset('dfr3_mapping_set', mapping_set)\n",
    "sw_bldg_dmg.set_parameter(\"result_name\", \"Galveston-sw-dmg\")\n",
    "sw_bldg_dmg.set_parameter(\"hazard_type\", hazard_type)\n",
    "sw_bldg_dmg.set_parameter(\"hazard_id\", hazard_id)\n",
    "sw_bldg_dmg.set_parameter(\"num_cpu\", 8)\n",
    "sw_bldg_dmg.run_analysis()"
   ]
  },
  {
   "cell_type": "markdown",
   "id": "72fd8814",
   "metadata": {},
   "source": [
    "### 2.5 Inundation (flood) building damage"
   ]
  },
  {
   "cell_type": "code",
   "execution_count": 91,
   "id": "bfb2b053",
   "metadata": {},
   "outputs": [],
   "source": [
    "# flood mapping\n",
    "mapping_id = \"62fefd688a30d30dac57bbd7\"\n",
    "mapping_set = MappingSet(fragility_service.get_mapping(mapping_id))"
   ]
  },
  {
   "cell_type": "code",
   "execution_count": 92,
   "id": "3445913d",
   "metadata": {},
   "outputs": [
    {
     "name": "stdout",
     "output_type": "stream",
     "text": [
      "Dataset already exists locally. Reading from local cached zip.\n",
      "Unzipped folder found in the local cache. Reading from it...\n"
     ]
    },
    {
     "data": {
      "text/plain": [
       "True"
      ]
     },
     "execution_count": 92,
     "metadata": {},
     "output_type": "execute_result"
    }
   ],
   "source": [
    "# flood building damage\n",
    "f_bldg_dmg = BuildingDamage(client)\n",
    "f_bldg_dmg.load_remote_input_dataset(\"buildings\", bldg_dataset_id)\n",
    "f_bldg_dmg.set_input_dataset('dfr3_mapping_set', mapping_set)\n",
    "f_bldg_dmg.set_parameter(\"result_name\", \"Galveston-flood-dmg\")\n",
    "f_bldg_dmg.set_parameter(\"hazard_type\", hazard_type)\n",
    "f_bldg_dmg.set_parameter(\"hazard_id\", hazard_id)\n",
    "f_bldg_dmg.set_parameter(\"num_cpu\", 8)\n",
    "f_bldg_dmg.run_analysis()"
   ]
  },
  {
   "cell_type": "markdown",
   "id": "f9e16601",
   "metadata": {},
   "source": [
    "### 2.6 Combine wind, surge-wave and flood building damage"
   ]
  },
  {
   "cell_type": "markdown",
   "metadata": {
    "collapsed": false
   },
   "source": [
    "#### 2.6.1 Hazard exposure example: surge-wave"
   ]
  },
  {
   "cell_type": "code",
   "execution_count": 93,
   "id": "ef7f95aa",
   "metadata": {},
   "outputs": [
    {
     "name": "stdout",
     "output_type": "stream",
     "text": [
      "Count of \"yes\": 26278\n",
      "Count of \"partial\": 744\n",
      "Sum of \"yes\" and \"partial\": 27022\n",
      "Total number of rows: 29541\n"
     ]
    }
   ],
   "source": [
    "surge_wave_damage = sw_bldg_dmg.get_output_dataset(\"ds_result\")\n",
    "wind_damage = w_bldg_dmg.get_output_dataset(\"ds_result\")\n",
    "flood_damage = f_bldg_dmg.get_output_dataset(\"ds_result\")\n",
    "#surge_wave_damage.get_dataframe_from_csv(low_memory=False)\n",
    "\n",
    "data = surge_wave_damage.get_dataframe_from_csv(low_memory=False)\n",
    "yes_count = len(data[data['haz_expose'] == 'yes'])\n",
    "partial_count = len(data[data['haz_expose'] == 'partial'])\n",
    "sum_count = yes_count + partial_count\n",
    "total_rows = len(data)\n",
    "\n",
    "print('Count of \"yes\":', yes_count)\n",
    "print('Count of \"partial\":', partial_count)\n",
    "print('Sum of \"yes\" and \"partial\":', sum_count)\n",
    "print('Total number of rows:', total_rows)"
   ]
  },
  {
   "cell_type": "markdown",
   "metadata": {
    "collapsed": false
   },
   "source": [
    "#### 2.6.2 Combined damage: setup"
   ]
  },
  {
   "cell_type": "code",
   "execution_count": 94,
   "id": "36d3114e",
   "metadata": {},
   "outputs": [
    {
     "data": {
      "text/plain": [
       "True"
      ]
     },
     "execution_count": 94,
     "metadata": {},
     "output_type": "execute_result"
    }
   ],
   "source": [
    "combined_bldg_dmg = CombinedWindWaveSurgeBuildingDamage(client)\n",
    "result_name = \"Galveston-combined-dmg\"\n",
    "combined_bldg_dmg.set_input_dataset(\"surge_wave_damage\", surge_wave_damage)\n",
    "combined_bldg_dmg.set_input_dataset(\"wind_damage\", wind_damage)\n",
    "combined_bldg_dmg.set_input_dataset(\"flood_damage\", flood_damage)\n",
    "combined_bldg_dmg.set_parameter(\"result_name\", result_name)\n",
    "combined_bldg_dmg.run_analysis()"
   ]
  },
  {
   "cell_type": "markdown",
   "metadata": {
    "collapsed": false
   },
   "source": [
    "#### 2.6.3 Hazard exposure example: combined"
   ]
  },
  {
   "cell_type": "code",
   "execution_count": 95,
   "id": "5f4ebe2d",
   "metadata": {},
   "outputs": [
    {
     "name": "stdout",
     "output_type": "stream",
     "text": [
      "Count of \"yes\": 29526\n",
      "Count of \"partial\": 11\n",
      "Sum of \"yes\" and \"partial\": 29537\n",
      "Total number of rows: 29541\n"
     ]
    }
   ],
   "source": [
    "combined_dmg = combined_bldg_dmg.get_output_dataset(\"ds_result\")\n",
    "combined_dmg_df = combined_dmg.get_dataframe_from_csv(low_memory=False)\n",
    "\n",
    "# Display top 5 rows of output data\n",
    "combined_dmg_df.head()\n",
    "combined_dmg_df.to_csv('combined_dmg_df.csv', index=False)\n",
    "\n",
    "data = combined_dmg_df\n",
    "yes_count = len(data[data['haz_expose'] == 'yes'])\n",
    "partial_count = len(data[data['haz_expose'] == 'partial'])\n",
    "sum_count = yes_count + partial_count\n",
    "total_rows = len(data)\n",
    "\n",
    "print('Count of \"yes\":', yes_count)\n",
    "print('Count of \"partial\":', partial_count)\n",
    "print('Sum of \"yes\" and \"partial\":', sum_count)\n",
    "print('Total number of rows:', total_rows)"
   ]
  },
  {
   "cell_type": "markdown",
   "metadata": {
    "collapsed": false
   },
   "source": [
    "<img src=\"https://ars.els-cdn.com/content/image/1-s2.0-S2772741623000388-gr4_lrg.jpg\" width=\"700\"/>"
   ]
  },
  {
   "cell_type": "markdown",
   "id": "828e824b",
   "metadata": {},
   "source": [
    "### 2.7 Archetype mapping"
   ]
  },
  {
   "cell_type": "code",
   "execution_count": 96,
   "id": "d975ad1d",
   "metadata": {},
   "outputs": [
    {
     "name": "stdout",
     "output_type": "stream",
     "text": [
      "Dataset already exists locally. Reading from local cached zip.\n",
      "Unzipped folder found in the local cache. Reading from it...\n"
     ]
    },
    {
     "data": {
      "text/html": [
       "<div>\n",
       "<style scoped>\n",
       "    .dataframe tbody tr th:only-of-type {\n",
       "        vertical-align: middle;\n",
       "    }\n",
       "\n",
       "    .dataframe tbody tr th {\n",
       "        vertical-align: top;\n",
       "    }\n",
       "\n",
       "    .dataframe thead th {\n",
       "        text-align: right;\n",
       "    }\n",
       "</style>\n",
       "<table border=\"1\" class=\"dataframe\">\n",
       "  <thead>\n",
       "    <tr style=\"text-align: right;\">\n",
       "      <th></th>\n",
       "      <th>strctid</th>\n",
       "      <th>parid</th>\n",
       "      <th>struct_typ</th>\n",
       "      <th>year_built</th>\n",
       "      <th>no_stories</th>\n",
       "      <th>a_stories</th>\n",
       "      <th>b_stories</th>\n",
       "      <th>bsmt_type</th>\n",
       "      <th>sq_foot</th>\n",
       "      <th>gsq_foot</th>\n",
       "      <th>...</th>\n",
       "      <th>ffe_elev</th>\n",
       "      <th>g_elev</th>\n",
       "      <th>archetype</th>\n",
       "      <th>arch_wind</th>\n",
       "      <th>arch_flood</th>\n",
       "      <th>arch_sw</th>\n",
       "      <th>csv_guid</th>\n",
       "      <th>csv_sector</th>\n",
       "      <th>csv_val_st</th>\n",
       "      <th>geometry</th>\n",
       "    </tr>\n",
       "  </thead>\n",
       "  <tbody>\n",
       "    <tr>\n",
       "      <th>0</th>\n",
       "      <td>STf3a21b5f-0334-4d77-911f-faa9a45c92d7</td>\n",
       "      <td>0</td>\n",
       "      <td>NaN</td>\n",
       "      <td>1980</td>\n",
       "      <td>2</td>\n",
       "      <td>0</td>\n",
       "      <td>0</td>\n",
       "      <td>0</td>\n",
       "      <td>47927</td>\n",
       "      <td>0</td>\n",
       "      <td>...</td>\n",
       "      <td>3.76991</td>\n",
       "      <td>3.46511</td>\n",
       "      <td>0</td>\n",
       "      <td>15</td>\n",
       "      <td>6</td>\n",
       "      <td>15</td>\n",
       "      <td>NaN</td>\n",
       "      <td>NaN</td>\n",
       "      <td>NaN</td>\n",
       "      <td>POINT (-94.81680 29.31409)</td>\n",
       "    </tr>\n",
       "    <tr>\n",
       "      <th>1</th>\n",
       "      <td>ST80ab0289-8c72-4699-b12b-08ef2f2a5c91</td>\n",
       "      <td>0</td>\n",
       "      <td>NaN</td>\n",
       "      <td>1954</td>\n",
       "      <td>1</td>\n",
       "      <td>0</td>\n",
       "      <td>0</td>\n",
       "      <td>0</td>\n",
       "      <td>100796</td>\n",
       "      <td>0</td>\n",
       "      <td>...</td>\n",
       "      <td>2.26048</td>\n",
       "      <td>1.95568</td>\n",
       "      <td>0</td>\n",
       "      <td>15</td>\n",
       "      <td>6</td>\n",
       "      <td>15</td>\n",
       "      <td>NaN</td>\n",
       "      <td>NaN</td>\n",
       "      <td>NaN</td>\n",
       "      <td>POINT (-94.82295 29.29635)</td>\n",
       "    </tr>\n",
       "    <tr>\n",
       "      <th>2</th>\n",
       "      <td>ST7916eaa8-0bfa-4b32-84ff-20f19a520f5c</td>\n",
       "      <td>0</td>\n",
       "      <td>NaN</td>\n",
       "      <td>1970</td>\n",
       "      <td>1</td>\n",
       "      <td>0</td>\n",
       "      <td>0</td>\n",
       "      <td>0</td>\n",
       "      <td>27121</td>\n",
       "      <td>0</td>\n",
       "      <td>...</td>\n",
       "      <td>2.68011</td>\n",
       "      <td>2.37531</td>\n",
       "      <td>0</td>\n",
       "      <td>15</td>\n",
       "      <td>6</td>\n",
       "      <td>15</td>\n",
       "      <td>7916eaa8-0bfa-4b32-84ff-20f19a520f5c</td>\n",
       "      <td>IRetail</td>\n",
       "      <td>2435054.5</td>\n",
       "      <td>POINT (-94.82423 29.29098)</td>\n",
       "    </tr>\n",
       "    <tr>\n",
       "      <th>3</th>\n",
       "      <td>ST79008971-a534-4e45-9e40-43a2a904e59b</td>\n",
       "      <td>0</td>\n",
       "      <td>NaN</td>\n",
       "      <td>2002</td>\n",
       "      <td>1</td>\n",
       "      <td>0</td>\n",
       "      <td>0</td>\n",
       "      <td>0</td>\n",
       "      <td>126333</td>\n",
       "      <td>0</td>\n",
       "      <td>...</td>\n",
       "      <td>2.91465</td>\n",
       "      <td>2.60985</td>\n",
       "      <td>0</td>\n",
       "      <td>15</td>\n",
       "      <td>6</td>\n",
       "      <td>15</td>\n",
       "      <td>79008971-a534-4e45-9e40-43a2a904e59b</td>\n",
       "      <td>IProfSer</td>\n",
       "      <td>4483599</td>\n",
       "      <td>POINT (-94.84045 29.29117)</td>\n",
       "    </tr>\n",
       "    <tr>\n",
       "      <th>4</th>\n",
       "      <td>ST2ad8ab6f-057f-468e-9911-6e92d9d4d01f</td>\n",
       "      <td>0</td>\n",
       "      <td>NaN</td>\n",
       "      <td>2002</td>\n",
       "      <td>1</td>\n",
       "      <td>0</td>\n",
       "      <td>0</td>\n",
       "      <td>0</td>\n",
       "      <td>114544</td>\n",
       "      <td>0</td>\n",
       "      <td>...</td>\n",
       "      <td>3.73770</td>\n",
       "      <td>3.43290</td>\n",
       "      <td>0</td>\n",
       "      <td>15</td>\n",
       "      <td>6</td>\n",
       "      <td>15</td>\n",
       "      <td>2ad8ab6f-057f-468e-9911-6e92d9d4d01f</td>\n",
       "      <td>IRealE</td>\n",
       "      <td>282702.06</td>\n",
       "      <td>POINT (-94.84242 29.29059)</td>\n",
       "    </tr>\n",
       "  </tbody>\n",
       "</table>\n",
       "<p>5 rows × 38 columns</p>\n",
       "</div>"
      ],
      "text/plain": [
       "                                  strctid parid  struct_typ  year_built  \\\n",
       "0  STf3a21b5f-0334-4d77-911f-faa9a45c92d7     0         NaN        1980   \n",
       "1  ST80ab0289-8c72-4699-b12b-08ef2f2a5c91     0         NaN        1954   \n",
       "2  ST7916eaa8-0bfa-4b32-84ff-20f19a520f5c     0         NaN        1970   \n",
       "3  ST79008971-a534-4e45-9e40-43a2a904e59b     0         NaN        2002   \n",
       "4  ST2ad8ab6f-057f-468e-9911-6e92d9d4d01f     0         NaN        2002   \n",
       "\n",
       "   no_stories  a_stories  b_stories bsmt_type  sq_foot  gsq_foot  ...  \\\n",
       "0           2          0          0         0    47927         0  ...   \n",
       "1           1          0          0         0   100796         0  ...   \n",
       "2           1          0          0         0    27121         0  ...   \n",
       "3           1          0          0         0   126333         0  ...   \n",
       "4           1          0          0         0   114544         0  ...   \n",
       "\n",
       "  ffe_elev   g_elev archetype arch_wind  arch_flood  arch_sw  \\\n",
       "0  3.76991  3.46511         0        15           6       15   \n",
       "1  2.26048  1.95568         0        15           6       15   \n",
       "2  2.68011  2.37531         0        15           6       15   \n",
       "3  2.91465  2.60985         0        15           6       15   \n",
       "4  3.73770  3.43290         0        15           6       15   \n",
       "\n",
       "                               csv_guid  csv_sector  csv_val_st  \\\n",
       "0                                   NaN         NaN         NaN   \n",
       "1                                   NaN         NaN         NaN   \n",
       "2  7916eaa8-0bfa-4b32-84ff-20f19a520f5c     IRetail   2435054.5   \n",
       "3  79008971-a534-4e45-9e40-43a2a904e59b    IProfSer     4483599   \n",
       "4  2ad8ab6f-057f-468e-9911-6e92d9d4d01f      IRealE   282702.06   \n",
       "\n",
       "                     geometry  \n",
       "0  POINT (-94.81680 29.31409)  \n",
       "1  POINT (-94.82295 29.29635)  \n",
       "2  POINT (-94.82423 29.29098)  \n",
       "3  POINT (-94.84045 29.29117)  \n",
       "4  POINT (-94.84242 29.29059)  \n",
       "\n",
       "[5 rows x 38 columns]"
      ]
     },
     "execution_count": 96,
     "metadata": {},
     "output_type": "execute_result"
    }
   ],
   "source": [
    "buildings = Dataset.from_data_service(bldg_dataset_id, data_service)\n",
    "bldg_gdf = buildings.get_dataframe_from_shapefile()\n",
    "bldg_gdf.head()"
   ]
  },
  {
   "cell_type": "code",
   "execution_count": 97,
   "id": "b055f2d7",
   "metadata": {},
   "outputs": [
    {
     "data": {
      "text/html": [
       "<div>\n",
       "<style scoped>\n",
       "    .dataframe tbody tr th:only-of-type {\n",
       "        vertical-align: middle;\n",
       "    }\n",
       "\n",
       "    .dataframe tbody tr th {\n",
       "        vertical-align: top;\n",
       "    }\n",
       "\n",
       "    .dataframe thead th {\n",
       "        text-align: right;\n",
       "    }\n",
       "</style>\n",
       "<table border=\"1\" class=\"dataframe\">\n",
       "  <thead>\n",
       "    <tr style=\"text-align: right;\">\n",
       "      <th></th>\n",
       "      <th>arch_wind</th>\n",
       "      <th>category</th>\n",
       "      <th>cluster</th>\n",
       "    </tr>\n",
       "  </thead>\n",
       "  <tbody>\n",
       "    <tr>\n",
       "      <th>0</th>\n",
       "      <td>12.0</td>\n",
       "      <td>Critical Facilities</td>\n",
       "      <td>Critical Medical - Acute Care Hospitals</td>\n",
       "    </tr>\n",
       "    <tr>\n",
       "      <th>1</th>\n",
       "      <td>14.0</td>\n",
       "      <td>Critical Facilities</td>\n",
       "      <td>Emergency Operations Centers</td>\n",
       "    </tr>\n",
       "    <tr>\n",
       "      <th>2</th>\n",
       "      <td>11.0</td>\n",
       "      <td>Critical Facilities</td>\n",
       "      <td>Critical Government - First Responder Facilities</td>\n",
       "    </tr>\n",
       "    <tr>\n",
       "      <th>3</th>\n",
       "      <td>NaN</td>\n",
       "      <td>Critical Facilities</td>\n",
       "      <td>Non-ambulatory Facilities - Prisons, nursing h...</td>\n",
       "    </tr>\n",
       "    <tr>\n",
       "      <th>4</th>\n",
       "      <td>NaN</td>\n",
       "      <td>Emergency Housing</td>\n",
       "      <td>Emergency Shelters</td>\n",
       "    </tr>\n",
       "    <tr>\n",
       "      <th>5</th>\n",
       "      <td>NaN</td>\n",
       "      <td>Emergency Housing</td>\n",
       "      <td>Residential Housing</td>\n",
       "    </tr>\n",
       "    <tr>\n",
       "      <th>6</th>\n",
       "      <td>NaN</td>\n",
       "      <td>Emergency Housing</td>\n",
       "      <td>SFH and Multi-family</td>\n",
       "    </tr>\n",
       "    <tr>\n",
       "      <th>7</th>\n",
       "      <td>NaN</td>\n",
       "      <td>Housing / Neighborhood</td>\n",
       "      <td>Critical Retail</td>\n",
       "    </tr>\n",
       "    <tr>\n",
       "      <th>8</th>\n",
       "      <td>13.0</td>\n",
       "      <td>Housing / Neighborhood</td>\n",
       "      <td>Religious and Spiritual Centers</td>\n",
       "    </tr>\n",
       "    <tr>\n",
       "      <th>9</th>\n",
       "      <td>1.0</td>\n",
       "      <td>Housing / Neighborhood</td>\n",
       "      <td>Residential Housing</td>\n",
       "    </tr>\n",
       "    <tr>\n",
       "      <th>10</th>\n",
       "      <td>2.0</td>\n",
       "      <td>Housing / Neighborhood</td>\n",
       "      <td>Residential Housing</td>\n",
       "    </tr>\n",
       "    <tr>\n",
       "      <th>11</th>\n",
       "      <td>3.0</td>\n",
       "      <td>Housing / Neighborhood</td>\n",
       "      <td>Residential Housing</td>\n",
       "    </tr>\n",
       "    <tr>\n",
       "      <th>12</th>\n",
       "      <td>4.0</td>\n",
       "      <td>Housing / Neighborhood</td>\n",
       "      <td>Residential Housing</td>\n",
       "    </tr>\n",
       "    <tr>\n",
       "      <th>13</th>\n",
       "      <td>5.0</td>\n",
       "      <td>Housing / Neighborhood</td>\n",
       "      <td>Residential Housing</td>\n",
       "    </tr>\n",
       "    <tr>\n",
       "      <th>14</th>\n",
       "      <td>17.0</td>\n",
       "      <td>Housing / Neighborhood</td>\n",
       "      <td>Residential Housing</td>\n",
       "    </tr>\n",
       "    <tr>\n",
       "      <th>15</th>\n",
       "      <td>NaN</td>\n",
       "      <td>Housing / Neighborhood</td>\n",
       "      <td>SFH and Multi-family</td>\n",
       "    </tr>\n",
       "    <tr>\n",
       "      <th>16</th>\n",
       "      <td>9.0</td>\n",
       "      <td>Housing / Neighborhood</td>\n",
       "      <td>K-12 Schools</td>\n",
       "    </tr>\n",
       "    <tr>\n",
       "      <th>17</th>\n",
       "      <td>10.0</td>\n",
       "      <td>Housing / Neighborhood</td>\n",
       "      <td>K-12 Schools</td>\n",
       "    </tr>\n",
       "    <tr>\n",
       "      <th>18</th>\n",
       "      <td>NaN</td>\n",
       "      <td>Housing / Neighborhood</td>\n",
       "      <td>Child Care Centers</td>\n",
       "    </tr>\n",
       "    <tr>\n",
       "      <th>19</th>\n",
       "      <td>NaN</td>\n",
       "      <td>Housing / Neighborhood</td>\n",
       "      <td>Hotels and Motels</td>\n",
       "    </tr>\n",
       "    <tr>\n",
       "      <th>20</th>\n",
       "      <td>7.0</td>\n",
       "      <td>Community Recovery</td>\n",
       "      <td>Business - Manufacturing</td>\n",
       "    </tr>\n",
       "    <tr>\n",
       "      <th>21</th>\n",
       "      <td>8.0</td>\n",
       "      <td>Community Recovery</td>\n",
       "      <td>Business - Manufacturing</td>\n",
       "    </tr>\n",
       "    <tr>\n",
       "      <th>22</th>\n",
       "      <td>6.0</td>\n",
       "      <td>Community Recovery</td>\n",
       "      <td>Business - Commodity Services</td>\n",
       "    </tr>\n",
       "    <tr>\n",
       "      <th>23</th>\n",
       "      <td>15.0</td>\n",
       "      <td>Community Recovery</td>\n",
       "      <td>Business - Commodity Services</td>\n",
       "    </tr>\n",
       "    <tr>\n",
       "      <th>24</th>\n",
       "      <td>16.0</td>\n",
       "      <td>Community Recovery</td>\n",
       "      <td>Business - Commodity Services</td>\n",
       "    </tr>\n",
       "    <tr>\n",
       "      <th>25</th>\n",
       "      <td>18.0</td>\n",
       "      <td>Community Recovery</td>\n",
       "      <td>Business - Commodity Services</td>\n",
       "    </tr>\n",
       "    <tr>\n",
       "      <th>26</th>\n",
       "      <td>19.0</td>\n",
       "      <td>Community Recovery</td>\n",
       "      <td>Business - Service Professions</td>\n",
       "    </tr>\n",
       "    <tr>\n",
       "      <th>27</th>\n",
       "      <td>NaN</td>\n",
       "      <td>Community Recovery</td>\n",
       "      <td>Conference &amp; Event Venues</td>\n",
       "    </tr>\n",
       "    <tr>\n",
       "      <th>28</th>\n",
       "      <td>NaN</td>\n",
       "      <td>Community Recovery</td>\n",
       "      <td>Other</td>\n",
       "    </tr>\n",
       "  </tbody>\n",
       "</table>\n",
       "</div>"
      ],
      "text/plain": [
       "    arch_wind                category  \\\n",
       "0        12.0     Critical Facilities   \n",
       "1        14.0     Critical Facilities   \n",
       "2        11.0     Critical Facilities   \n",
       "3         NaN     Critical Facilities   \n",
       "4         NaN      Emergency Housing    \n",
       "5         NaN      Emergency Housing    \n",
       "6         NaN      Emergency Housing    \n",
       "7         NaN  Housing / Neighborhood   \n",
       "8        13.0  Housing / Neighborhood   \n",
       "9         1.0  Housing / Neighborhood   \n",
       "10        2.0  Housing / Neighborhood   \n",
       "11        3.0  Housing / Neighborhood   \n",
       "12        4.0  Housing / Neighborhood   \n",
       "13        5.0  Housing / Neighborhood   \n",
       "14       17.0  Housing / Neighborhood   \n",
       "15        NaN  Housing / Neighborhood   \n",
       "16        9.0  Housing / Neighborhood   \n",
       "17       10.0  Housing / Neighborhood   \n",
       "18        NaN  Housing / Neighborhood   \n",
       "19        NaN  Housing / Neighborhood   \n",
       "20        7.0      Community Recovery   \n",
       "21        8.0      Community Recovery   \n",
       "22        6.0      Community Recovery   \n",
       "23       15.0      Community Recovery   \n",
       "24       16.0      Community Recovery   \n",
       "25       18.0      Community Recovery   \n",
       "26       19.0      Community Recovery   \n",
       "27        NaN      Community Recovery   \n",
       "28        NaN      Community Recovery   \n",
       "\n",
       "                                              cluster  \n",
       "0             Critical Medical - Acute Care Hospitals  \n",
       "1                        Emergency Operations Centers  \n",
       "2    Critical Government - First Responder Facilities  \n",
       "3   Non-ambulatory Facilities - Prisons, nursing h...  \n",
       "4                                  Emergency Shelters  \n",
       "5                                 Residential Housing  \n",
       "6                                SFH and Multi-family  \n",
       "7                                     Critical Retail  \n",
       "8                     Religious and Spiritual Centers  \n",
       "9                                 Residential Housing  \n",
       "10                                Residential Housing  \n",
       "11                                Residential Housing  \n",
       "12                                Residential Housing  \n",
       "13                                Residential Housing  \n",
       "14                                Residential Housing  \n",
       "15                               SFH and Multi-family  \n",
       "16                                       K-12 Schools  \n",
       "17                                       K-12 Schools  \n",
       "18                                 Child Care Centers  \n",
       "19                                  Hotels and Motels  \n",
       "20                           Business - Manufacturing  \n",
       "21                           Business - Manufacturing  \n",
       "22                      Business - Commodity Services  \n",
       "23                      Business - Commodity Services  \n",
       "24                      Business - Commodity Services  \n",
       "25                      Business - Commodity Services  \n",
       "26                     Business - Service Professions  \n",
       "27                          Conference & Event Venues  \n",
       "28                                              Other  "
      ]
     },
     "execution_count": 97,
     "metadata": {},
     "output_type": "execute_result"
    }
   ],
   "source": [
    "arch_mapping = Dataset.from_data_service(\"63dc1f1362b9d001e6a1b485\", data_service).get_dataframe_from_csv()\n",
    "arch_mapping"
   ]
  },
  {
   "cell_type": "code",
   "execution_count": 98,
   "id": "61854765",
   "metadata": {},
   "outputs": [
    {
     "data": {
      "text/html": [
       "<div>\n",
       "<style scoped>\n",
       "    .dataframe tbody tr th:only-of-type {\n",
       "        vertical-align: middle;\n",
       "    }\n",
       "\n",
       "    .dataframe tbody tr th {\n",
       "        vertical-align: top;\n",
       "    }\n",
       "\n",
       "    .dataframe thead th {\n",
       "        text-align: right;\n",
       "    }\n",
       "</style>\n",
       "<table border=\"1\" class=\"dataframe\">\n",
       "  <thead>\n",
       "    <tr style=\"text-align: right;\">\n",
       "      <th></th>\n",
       "      <th>guid</th>\n",
       "      <th>max_prob</th>\n",
       "      <th>max_state</th>\n",
       "    </tr>\n",
       "  </thead>\n",
       "  <tbody>\n",
       "    <tr>\n",
       "      <th>0</th>\n",
       "      <td>f3a21b5f-0334-4d77-911f-faa9a45c92d7</td>\n",
       "      <td>0.656011</td>\n",
       "      <td>DS_0</td>\n",
       "    </tr>\n",
       "    <tr>\n",
       "      <th>1</th>\n",
       "      <td>80ab0289-8c72-4699-b12b-08ef2f2a5c91</td>\n",
       "      <td>0.711510</td>\n",
       "      <td>DS_2</td>\n",
       "    </tr>\n",
       "    <tr>\n",
       "      <th>2</th>\n",
       "      <td>7916eaa8-0bfa-4b32-84ff-20f19a520f5c</td>\n",
       "      <td>0.896200</td>\n",
       "      <td>DS_0</td>\n",
       "    </tr>\n",
       "    <tr>\n",
       "      <th>3</th>\n",
       "      <td>79008971-a534-4e45-9e40-43a2a904e59b</td>\n",
       "      <td>0.695918</td>\n",
       "      <td>DS_0</td>\n",
       "    </tr>\n",
       "    <tr>\n",
       "      <th>4</th>\n",
       "      <td>2ad8ab6f-057f-468e-9911-6e92d9d4d01f</td>\n",
       "      <td>0.575940</td>\n",
       "      <td>DS_0</td>\n",
       "    </tr>\n",
       "    <tr>\n",
       "      <th>...</th>\n",
       "      <td>...</td>\n",
       "      <td>...</td>\n",
       "      <td>...</td>\n",
       "    </tr>\n",
       "    <tr>\n",
       "      <th>29536</th>\n",
       "      <td>1ac5be10-582c-46b2-91ed-469f684bb886</td>\n",
       "      <td>0.999993</td>\n",
       "      <td>DS_3</td>\n",
       "    </tr>\n",
       "    <tr>\n",
       "      <th>29537</th>\n",
       "      <td>fbcfb6d6-de13-42fa-9839-d7c80afc651d</td>\n",
       "      <td>0.357067</td>\n",
       "      <td>DS_2</td>\n",
       "    </tr>\n",
       "    <tr>\n",
       "      <th>29538</th>\n",
       "      <td>2ee961c9-cd94-499e-b1fe-3e0220a440ea</td>\n",
       "      <td>0.545299</td>\n",
       "      <td>DS_2</td>\n",
       "    </tr>\n",
       "    <tr>\n",
       "      <th>29539</th>\n",
       "      <td>fa15cfbc-8a60-4a3f-b40f-7a6fada625b9</td>\n",
       "      <td>0.678298</td>\n",
       "      <td>DS_0</td>\n",
       "    </tr>\n",
       "    <tr>\n",
       "      <th>29540</th>\n",
       "      <td>3a8a9360-48b1-4399-950d-d32969b0a381</td>\n",
       "      <td>0.678298</td>\n",
       "      <td>DS_0</td>\n",
       "    </tr>\n",
       "  </tbody>\n",
       "</table>\n",
       "<p>29541 rows × 3 columns</p>\n",
       "</div>"
      ],
      "text/plain": [
       "                                       guid  max_prob max_state\n",
       "0      f3a21b5f-0334-4d77-911f-faa9a45c92d7  0.656011      DS_0\n",
       "1      80ab0289-8c72-4699-b12b-08ef2f2a5c91  0.711510      DS_2\n",
       "2      7916eaa8-0bfa-4b32-84ff-20f19a520f5c  0.896200      DS_0\n",
       "3      79008971-a534-4e45-9e40-43a2a904e59b  0.695918      DS_0\n",
       "4      2ad8ab6f-057f-468e-9911-6e92d9d4d01f  0.575940      DS_0\n",
       "...                                     ...       ...       ...\n",
       "29536  1ac5be10-582c-46b2-91ed-469f684bb886  0.999993      DS_3\n",
       "29537  fbcfb6d6-de13-42fa-9839-d7c80afc651d  0.357067      DS_2\n",
       "29538  2ee961c9-cd94-499e-b1fe-3e0220a440ea  0.545299      DS_2\n",
       "29539  fa15cfbc-8a60-4a3f-b40f-7a6fada625b9  0.678298      DS_0\n",
       "29540  3a8a9360-48b1-4399-950d-d32969b0a381  0.678298      DS_0\n",
       "\n",
       "[29541 rows x 3 columns]"
      ]
     },
     "execution_count": 98,
     "metadata": {},
     "output_type": "execute_result"
    }
   ],
   "source": [
    "max_dmg_state_df = DataProcessUtil.get_max_damage_state(combined_dmg_df)\n",
    "max_dmg_state_df"
   ]
  },
  {
   "cell_type": "code",
   "execution_count": 99,
   "id": "53b21c48",
   "metadata": {},
   "outputs": [
    {
     "data": {
      "text/plain": [
       "{'by_cluster': [{'category': 'Critical Facilities',\n",
       "   'cluster': 'Critical Medical - Acute Care Hospitals',\n",
       "   'DS_0': 10,\n",
       "   'DS_1': 5,\n",
       "   'DS_2': 0,\n",
       "   'DS_3': 0},\n",
       "  {'category': 'Critical Facilities',\n",
       "   'cluster': 'Emergency Operations Centers',\n",
       "   'DS_0': -1,\n",
       "   'DS_1': -1,\n",
       "   'DS_2': -1,\n",
       "   'DS_3': -1},\n",
       "  {'category': 'Critical Facilities',\n",
       "   'cluster': 'Critical Government - First Responder Facilities',\n",
       "   'DS_0': -1,\n",
       "   'DS_1': -1,\n",
       "   'DS_2': -1,\n",
       "   'DS_3': -1},\n",
       "  {'category': 'Critical Facilities',\n",
       "   'cluster': 'Non-ambulatory Facilities - Prisons, nursing homes, etc.',\n",
       "   'DS_0': -1,\n",
       "   'DS_1': -1,\n",
       "   'DS_2': -1,\n",
       "   'DS_3': -1},\n",
       "  {'category': 'Emergency Housing ',\n",
       "   'cluster': 'Emergency Shelters',\n",
       "   'DS_0': -1,\n",
       "   'DS_1': -1,\n",
       "   'DS_2': -1,\n",
       "   'DS_3': -1},\n",
       "  {'category': 'Emergency Housing ',\n",
       "   'cluster': 'Residential Housing',\n",
       "   'DS_0': -1,\n",
       "   'DS_1': -1,\n",
       "   'DS_2': -1,\n",
       "   'DS_3': -1},\n",
       "  {'category': 'Emergency Housing ',\n",
       "   'cluster': 'SFH and Multi-family',\n",
       "   'DS_0': -1,\n",
       "   'DS_1': -1,\n",
       "   'DS_2': -1,\n",
       "   'DS_3': -1},\n",
       "  {'category': 'Housing / Neighborhood',\n",
       "   'cluster': 'Critical Retail',\n",
       "   'DS_0': -1,\n",
       "   'DS_1': -1,\n",
       "   'DS_2': -1,\n",
       "   'DS_3': -1},\n",
       "  {'category': 'Housing / Neighborhood',\n",
       "   'cluster': 'Religious and Spiritual Centers',\n",
       "   'DS_0': -1,\n",
       "   'DS_1': -1,\n",
       "   'DS_2': -1,\n",
       "   'DS_3': -1},\n",
       "  {'category': 'Housing / Neighborhood',\n",
       "   'cluster': 'Residential Housing',\n",
       "   'DS_0': 4950,\n",
       "   'DS_1': 1731,\n",
       "   'DS_2': 17259,\n",
       "   'DS_3': 2943},\n",
       "  {'category': 'Housing / Neighborhood',\n",
       "   'cluster': 'SFH and Multi-family',\n",
       "   'DS_0': -1,\n",
       "   'DS_1': -1,\n",
       "   'DS_2': -1,\n",
       "   'DS_3': -1},\n",
       "  {'category': 'Housing / Neighborhood',\n",
       "   'cluster': 'K-12 Schools',\n",
       "   'DS_0': 10,\n",
       "   'DS_1': 0,\n",
       "   'DS_2': 2,\n",
       "   'DS_3': 0},\n",
       "  {'category': 'Housing / Neighborhood',\n",
       "   'cluster': 'Child Care Centers',\n",
       "   'DS_0': -1,\n",
       "   'DS_1': -1,\n",
       "   'DS_2': -1,\n",
       "   'DS_3': -1},\n",
       "  {'category': 'Housing / Neighborhood',\n",
       "   'cluster': 'Hotels and Motels',\n",
       "   'DS_0': -1,\n",
       "   'DS_1': -1,\n",
       "   'DS_2': -1,\n",
       "   'DS_3': -1},\n",
       "  {'category': 'Community Recovery',\n",
       "   'cluster': 'Business - Manufacturing',\n",
       "   'DS_0': 48,\n",
       "   'DS_1': 18,\n",
       "   'DS_2': 5,\n",
       "   'DS_3': 17},\n",
       "  {'category': 'Community Recovery',\n",
       "   'cluster': 'Business - Commodity Services',\n",
       "   'DS_0': 646,\n",
       "   'DS_1': 709,\n",
       "   'DS_2': 1019,\n",
       "   'DS_3': 27},\n",
       "  {'category': 'Community Recovery',\n",
       "   'cluster': 'Business - Service Professions',\n",
       "   'DS_0': 31,\n",
       "   'DS_1': 1,\n",
       "   'DS_2': 110,\n",
       "   'DS_3': 0},\n",
       "  {'category': 'Community Recovery',\n",
       "   'cluster': 'Conference & Event Venues',\n",
       "   'DS_0': -1,\n",
       "   'DS_1': -1,\n",
       "   'DS_2': -1,\n",
       "   'DS_3': -1},\n",
       "  {'category': 'Community Recovery',\n",
       "   'cluster': 'Other',\n",
       "   'DS_0': -1,\n",
       "   'DS_1': -1,\n",
       "   'DS_2': -1,\n",
       "   'DS_3': -1}],\n",
       " 'by_category': [{'category': 'Critical Facilities',\n",
       "   'DS_0': 10,\n",
       "   'DS_1': 5,\n",
       "   'DS_2': 0,\n",
       "   'DS_3': 0},\n",
       "  {'category': 'Emergency Housing ',\n",
       "   'DS_0': -1,\n",
       "   'DS_1': -1,\n",
       "   'DS_2': -1,\n",
       "   'DS_3': -1},\n",
       "  {'category': 'Housing / Neighborhood',\n",
       "   'DS_0': 4960,\n",
       "   'DS_1': 1731,\n",
       "   'DS_2': 17261,\n",
       "   'DS_3': 2943},\n",
       "  {'category': 'Community Recovery',\n",
       "   'DS_0': 725,\n",
       "   'DS_1': 728,\n",
       "   'DS_2': 1134,\n",
       "   'DS_3': 44}]}"
      ]
     },
     "execution_count": 99,
     "metadata": {},
     "output_type": "execute_result"
    }
   ],
   "source": [
    "ret_json = DataProcessUtil.create_mapped_dmg_result(bldg_gdf, max_dmg_state_df, arch_mapping, \"max_state\", \"arch_wind\")\n",
    "ret_json"
   ]
  },
  {
   "cell_type": "markdown",
   "id": "88a5d556",
   "metadata": {
    "tags": []
   },
   "source": [
    "## 3. Electric Power Pole Damage"
   ]
  },
  {
   "cell_type": "code",
   "execution_count": 100,
   "id": "ed824b73",
   "metadata": {},
   "outputs": [],
   "source": [
    "# EPF fragility mapping\n",
    "epf_mapping_id = \"62fac92ecef2881193f22613\"\n",
    "epf_mapping_set = MappingSet(fragility_service.get_mapping(epf_mapping_id))\n",
    "\n",
    "epf_dmg_hurricane_galveston = EpfDamage(client)\n",
    "epf_dmg_hurricane_galveston.load_remote_input_dataset(\"epfs\", \"62fc000f88470b319561b58d\")\n",
    "epf_dmg_hurricane_galveston.set_input_dataset('dfr3_mapping_set', epf_mapping_set)\n",
    "epf_dmg_hurricane_galveston.set_parameter(\"result_name\", \"Galveston-hurricane-epf-damage\")\n",
    "epf_dmg_hurricane_galveston.set_parameter(\"fragility_key\", \"Non-Retrofit Fragility ID Code\")\n",
    "epf_dmg_hurricane_galveston.set_parameter(\"hazard_type\", hazard_type)\n",
    "epf_dmg_hurricane_galveston.set_parameter(\"hazard_id\", hazard_id)\n",
    "epf_dmg_hurricane_galveston.set_parameter(\"num_cpu\", 8)\n",
    "\n",
    "# Run Analysis\n",
    "epf_dmg_hurricane_galveston.run_analysis()\n",
    "epf_dmg_result = epf_dmg_hurricane_galveston.get_output_dataset(\"result\")"
   ]
  },
  {
   "cell_type": "markdown",
   "id": "9e8e1ca0",
   "metadata": {
    "tags": []
   },
   "source": [
    "## 4. Monte Carlo sampling"
   ]
  },
  {
   "cell_type": "markdown",
   "metadata": {
    "collapsed": false
   },
   "source": [
    "### 4.1 Buildings"
   ]
  },
  {
   "cell_type": "code",
   "execution_count": 101,
   "id": "f8699e6b",
   "metadata": {},
   "outputs": [
    {
     "data": {
      "text/html": [
       "<div>\n",
       "<style scoped>\n",
       "    .dataframe tbody tr th:only-of-type {\n",
       "        vertical-align: middle;\n",
       "    }\n",
       "\n",
       "    .dataframe tbody tr th {\n",
       "        vertical-align: top;\n",
       "    }\n",
       "\n",
       "    .dataframe thead th {\n",
       "        text-align: right;\n",
       "    }\n",
       "</style>\n",
       "<table border=\"1\" class=\"dataframe\">\n",
       "  <thead>\n",
       "    <tr style=\"text-align: right;\">\n",
       "      <th></th>\n",
       "      <th>guid</th>\n",
       "      <th>failure</th>\n",
       "    </tr>\n",
       "  </thead>\n",
       "  <tbody>\n",
       "    <tr>\n",
       "      <th>0</th>\n",
       "      <td>f3a21b5f-0334-4d77-911f-faa9a45c92d7</td>\n",
       "      <td>1,1,0,1,1,1,1,1,1,0</td>\n",
       "    </tr>\n",
       "    <tr>\n",
       "      <th>1</th>\n",
       "      <td>80ab0289-8c72-4699-b12b-08ef2f2a5c91</td>\n",
       "      <td>0,0,0,0,0,0,0,0,0,0</td>\n",
       "    </tr>\n",
       "    <tr>\n",
       "      <th>2</th>\n",
       "      <td>7916eaa8-0bfa-4b32-84ff-20f19a520f5c</td>\n",
       "      <td>1,0,1,1,1,1,1,1,1,0</td>\n",
       "    </tr>\n",
       "    <tr>\n",
       "      <th>3</th>\n",
       "      <td>79008971-a534-4e45-9e40-43a2a904e59b</td>\n",
       "      <td>1,1,1,1,0,0,0,1,1,0</td>\n",
       "    </tr>\n",
       "    <tr>\n",
       "      <th>4</th>\n",
       "      <td>2ad8ab6f-057f-468e-9911-6e92d9d4d01f</td>\n",
       "      <td>1,1,0,1,1,1,1,0,1,0</td>\n",
       "    </tr>\n",
       "  </tbody>\n",
       "</table>\n",
       "</div>"
      ],
      "text/plain": [
       "                                   guid              failure\n",
       "0  f3a21b5f-0334-4d77-911f-faa9a45c92d7  1,1,0,1,1,1,1,1,1,0\n",
       "1  80ab0289-8c72-4699-b12b-08ef2f2a5c91  0,0,0,0,0,0,0,0,0,0\n",
       "2  7916eaa8-0bfa-4b32-84ff-20f19a520f5c  1,0,1,1,1,1,1,1,1,0\n",
       "3  79008971-a534-4e45-9e40-43a2a904e59b  1,1,1,1,0,0,0,1,1,0\n",
       "4  2ad8ab6f-057f-468e-9911-6e92d9d4d01f  1,1,0,1,1,1,1,0,1,0"
      ]
     },
     "execution_count": 101,
     "metadata": {},
     "output_type": "execute_result"
    }
   ],
   "source": [
    "mc = MonteCarloFailureProbability(client)\n",
    "mc.set_input_dataset(\"damage\", combined_dmg)\n",
    "mc.set_parameter(\"result_name\", \"combined_bldg_mc\")\n",
    "mc.set_parameter(\"num_cpu\", 8)\n",
    "mc.set_parameter(\"num_samples\", 10)\n",
    "mc.set_parameter(\"damage_interval_keys\", [\"DS_0\", \"DS_1\", \"DS_2\", \"DS_3\"])\n",
    "mc.set_parameter(\"failure_state_keys\", [\"DS_1\", \"DS_2\", \"DS_3\"])\n",
    "mc.run_analysis()\n",
    "\n",
    "gal_bldg_damage_mcs_samples = mc.get_output_dataset('sample_failure_state')\n",
    "gal_bldg_damage_mcs_samples_df = gal_bldg_damage_mcs_samples.get_dataframe_from_csv()\n",
    "gal_bldg_damage_mcs_samples_df.head()"
   ]
  },
  {
   "cell_type": "markdown",
   "metadata": {
    "collapsed": false
   },
   "source": [
    "### 4.2 Electric power poles"
   ]
  },
  {
   "cell_type": "code",
   "execution_count": 102,
   "id": "46ed6e01",
   "metadata": {},
   "outputs": [],
   "source": [
    "gal_bldg_failure_probability = mc.get_output_dataset('failure_probability')  # get buildings failure probabilities"
   ]
  },
  {
   "cell_type": "code",
   "execution_count": 103,
   "id": "837544c4",
   "metadata": {},
   "outputs": [
    {
     "data": {
      "text/html": [
       "<div>\n",
       "<style scoped>\n",
       "    .dataframe tbody tr th:only-of-type {\n",
       "        vertical-align: middle;\n",
       "    }\n",
       "\n",
       "    .dataframe tbody tr th {\n",
       "        vertical-align: top;\n",
       "    }\n",
       "\n",
       "    .dataframe thead th {\n",
       "        text-align: right;\n",
       "    }\n",
       "</style>\n",
       "<table border=\"1\" class=\"dataframe\">\n",
       "  <thead>\n",
       "    <tr style=\"text-align: right;\">\n",
       "      <th></th>\n",
       "      <th>guid</th>\n",
       "      <th>failure</th>\n",
       "    </tr>\n",
       "  </thead>\n",
       "  <tbody>\n",
       "    <tr>\n",
       "      <th>0</th>\n",
       "      <td>2525e200-cdc6-4fb8-9952-f17579176fd8</td>\n",
       "      <td>1,1,1,1,1,1,1,1,1,1</td>\n",
       "    </tr>\n",
       "    <tr>\n",
       "      <th>1</th>\n",
       "      <td>9180f947-26ae-40bd-85f5-83a80525f6c8</td>\n",
       "      <td>1,1,1,1,1,1,1,1,1,1</td>\n",
       "    </tr>\n",
       "    <tr>\n",
       "      <th>2</th>\n",
       "      <td>11ddc2dc-cc92-4c90-b4cc-a99b92a26f4b</td>\n",
       "      <td>1,1,1,1,1,1,1,1,1,1</td>\n",
       "    </tr>\n",
       "    <tr>\n",
       "      <th>3</th>\n",
       "      <td>9e58f196-9a2c-40b1-b722-69fa9c53c9d4</td>\n",
       "      <td>1,1,1,1,1,1,1,1,1,1</td>\n",
       "    </tr>\n",
       "    <tr>\n",
       "      <th>4</th>\n",
       "      <td>a4de2d54-b251-4a02-af0c-d12e0dc3670c</td>\n",
       "      <td>1,1,1,1,1,1,1,1,1,1</td>\n",
       "    </tr>\n",
       "  </tbody>\n",
       "</table>\n",
       "</div>"
      ],
      "text/plain": [
       "                                   guid              failure\n",
       "0  2525e200-cdc6-4fb8-9952-f17579176fd8  1,1,1,1,1,1,1,1,1,1\n",
       "1  9180f947-26ae-40bd-85f5-83a80525f6c8  1,1,1,1,1,1,1,1,1,1\n",
       "2  11ddc2dc-cc92-4c90-b4cc-a99b92a26f4b  1,1,1,1,1,1,1,1,1,1\n",
       "3  9e58f196-9a2c-40b1-b722-69fa9c53c9d4  1,1,1,1,1,1,1,1,1,1\n",
       "4  a4de2d54-b251-4a02-af0c-d12e0dc3670c  1,1,1,1,1,1,1,1,1,1"
      ]
     },
     "execution_count": 103,
     "metadata": {},
     "output_type": "execute_result"
    }
   ],
   "source": [
    "mc = MonteCarloFailureProbability(client)\n",
    "mc.set_input_dataset(\"damage\", epf_dmg_result)\n",
    "mc.set_parameter(\"result_name\", \"epf_mc\")\n",
    "mc.set_parameter(\"num_cpu\", 8)\n",
    "mc.set_parameter(\"num_samples\", 10)\n",
    "mc.set_parameter(\"damage_interval_keys\", [\"DS_0\", \"DS_1\", \"DS_2\", \"DS_3\"])\n",
    "mc.set_parameter(\"failure_state_keys\", [\"DS_1\", \"DS_2\", \"DS_3\"])\n",
    "mc.run_analysis()\n",
    "\n",
    "gal_pole_damage_mcs_samples = mc.get_output_dataset('sample_failure_state')\n",
    "gal_pole_damage_mcs_samples_df = gal_pole_damage_mcs_samples.get_dataframe_from_csv()\n",
    "gal_pole_damage_mcs_samples_df.head()"
   ]
  },
  {
   "cell_type": "markdown",
   "id": "44c772d4",
   "metadata": {
    "tags": []
   },
   "source": [
    "## 5. Building functionality"
   ]
  },
  {
   "cell_type": "code",
   "execution_count": 105,
   "id": "9412fc5a",
   "metadata": {},
   "outputs": [
    {
     "name": "stdout",
     "output_type": "stream",
     "text": [
      "Dataset already exists locally. Reading from local cached zip.\n",
      "Unzipped folder found in the local cache. Reading from it...\n"
     ]
    },
    {
     "data": {
      "text/html": [
       "<div>\n",
       "<style scoped>\n",
       "    .dataframe tbody tr th:only-of-type {\n",
       "        vertical-align: middle;\n",
       "    }\n",
       "\n",
       "    .dataframe tbody tr th {\n",
       "        vertical-align: top;\n",
       "    }\n",
       "\n",
       "    .dataframe thead th {\n",
       "        text-align: right;\n",
       "    }\n",
       "</style>\n",
       "<table border=\"1\" class=\"dataframe\">\n",
       "  <thead>\n",
       "    <tr style=\"text-align: right;\">\n",
       "      <th></th>\n",
       "      <th>building_guid</th>\n",
       "      <th>samples</th>\n",
       "    </tr>\n",
       "  </thead>\n",
       "  <tbody>\n",
       "    <tr>\n",
       "      <th>0</th>\n",
       "      <td>f3a21b5f-0334-4d77-911f-faa9a45c92d7</td>\n",
       "      <td>1,1,0,1,1,1,1,1,1,0</td>\n",
       "    </tr>\n",
       "    <tr>\n",
       "      <th>1</th>\n",
       "      <td>80ab0289-8c72-4699-b12b-08ef2f2a5c91</td>\n",
       "      <td>0,0,0,0,0,0,0,0,0,0</td>\n",
       "    </tr>\n",
       "    <tr>\n",
       "      <th>2</th>\n",
       "      <td>7916eaa8-0bfa-4b32-84ff-20f19a520f5c</td>\n",
       "      <td>1,0,1,1,1,1,1,1,1,0</td>\n",
       "    </tr>\n",
       "    <tr>\n",
       "      <th>3</th>\n",
       "      <td>79008971-a534-4e45-9e40-43a2a904e59b</td>\n",
       "      <td>0,1,0,0,0,0,0,1,0,0</td>\n",
       "    </tr>\n",
       "    <tr>\n",
       "      <th>4</th>\n",
       "      <td>2ad8ab6f-057f-468e-9911-6e92d9d4d01f</td>\n",
       "      <td>1,1,0,1,1,1,1,0,1,0</td>\n",
       "    </tr>\n",
       "  </tbody>\n",
       "</table>\n",
       "</div>"
      ],
      "text/plain": [
       "                          building_guid              samples\n",
       "0  f3a21b5f-0334-4d77-911f-faa9a45c92d7  1,1,0,1,1,1,1,1,1,0\n",
       "1  80ab0289-8c72-4699-b12b-08ef2f2a5c91  0,0,0,0,0,0,0,0,0,0\n",
       "2  7916eaa8-0bfa-4b32-84ff-20f19a520f5c  1,0,1,1,1,1,1,1,1,0\n",
       "3  79008971-a534-4e45-9e40-43a2a904e59b  0,1,0,0,0,0,0,1,0,0\n",
       "4  2ad8ab6f-057f-468e-9911-6e92d9d4d01f  1,1,0,1,1,1,1,0,1,0"
      ]
     },
     "execution_count": 105,
     "metadata": {},
     "output_type": "execute_result"
    }
   ],
   "source": [
    "gal_bldg_func = BuildingFunctionality(client)\n",
    "    \n",
    "gal_bldg_func.set_input_dataset(\"building_damage_mcs_samples\", gal_bldg_damage_mcs_samples)\n",
    "gal_bldg_func.set_input_dataset(\"poles_damage_mcs_samples\", gal_pole_damage_mcs_samples)\n",
    "gal_bldg_func.load_remote_input_dataset(\"interdependency_dictionary\", \"63e5af0262d82d2f5a1058ea\")\n",
    "\n",
    "gal_bldg_func.set_parameter(\"result_name\", \"gal_mcs_functionality_probability\")\n",
    "gal_bldg_func.run_analysis()\n",
    "\n",
    "gal_bldg_func_samples_df = gal_bldg_func.get_output_dataset('functionality_samples').get_dataframe_from_csv()\n",
    "gal_bldg_func_samples_df.head()"
   ]
  },
  {
   "cell_type": "code",
   "execution_count": 106,
   "id": "4a5729a9",
   "metadata": {},
   "outputs": [
    {
     "data": {
      "text/html": [
       "<div>\n",
       "<style scoped>\n",
       "    .dataframe tbody tr th:only-of-type {\n",
       "        vertical-align: middle;\n",
       "    }\n",
       "\n",
       "    .dataframe tbody tr th {\n",
       "        vertical-align: top;\n",
       "    }\n",
       "\n",
       "    .dataframe thead th {\n",
       "        text-align: right;\n",
       "    }\n",
       "</style>\n",
       "<table border=\"1\" class=\"dataframe\">\n",
       "  <thead>\n",
       "    <tr style=\"text-align: right;\">\n",
       "      <th></th>\n",
       "      <th>guid</th>\n",
       "      <th>probability</th>\n",
       "      <th>functionality</th>\n",
       "      <th>functionality_state</th>\n",
       "    </tr>\n",
       "  </thead>\n",
       "  <tbody>\n",
       "    <tr>\n",
       "      <th>0</th>\n",
       "      <td>f3a21b5f-0334-4d77-911f-faa9a45c92d7</td>\n",
       "      <td>0.8</td>\n",
       "      <td>1.0</td>\n",
       "      <td>Functional</td>\n",
       "    </tr>\n",
       "    <tr>\n",
       "      <th>1</th>\n",
       "      <td>80ab0289-8c72-4699-b12b-08ef2f2a5c91</td>\n",
       "      <td>0.0</td>\n",
       "      <td>0.0</td>\n",
       "      <td>Non-Functional</td>\n",
       "    </tr>\n",
       "    <tr>\n",
       "      <th>2</th>\n",
       "      <td>7916eaa8-0bfa-4b32-84ff-20f19a520f5c</td>\n",
       "      <td>0.8</td>\n",
       "      <td>1.0</td>\n",
       "      <td>Functional</td>\n",
       "    </tr>\n",
       "    <tr>\n",
       "      <th>3</th>\n",
       "      <td>79008971-a534-4e45-9e40-43a2a904e59b</td>\n",
       "      <td>0.2</td>\n",
       "      <td>0.0</td>\n",
       "      <td>Non-Functional</td>\n",
       "    </tr>\n",
       "    <tr>\n",
       "      <th>4</th>\n",
       "      <td>2ad8ab6f-057f-468e-9911-6e92d9d4d01f</td>\n",
       "      <td>0.7</td>\n",
       "      <td>1.0</td>\n",
       "      <td>Functional</td>\n",
       "    </tr>\n",
       "  </tbody>\n",
       "</table>\n",
       "</div>"
      ],
      "text/plain": [
       "                                   guid  probability  functionality  \\\n",
       "0  f3a21b5f-0334-4d77-911f-faa9a45c92d7          0.8            1.0   \n",
       "1  80ab0289-8c72-4699-b12b-08ef2f2a5c91          0.0            0.0   \n",
       "2  7916eaa8-0bfa-4b32-84ff-20f19a520f5c          0.8            1.0   \n",
       "3  79008971-a534-4e45-9e40-43a2a904e59b          0.2            0.0   \n",
       "4  2ad8ab6f-057f-468e-9911-6e92d9d4d01f          0.7            1.0   \n",
       "\n",
       "  functionality_state  \n",
       "0          Functional  \n",
       "1      Non-Functional  \n",
       "2          Functional  \n",
       "3      Non-Functional  \n",
       "4          Functional  "
      ]
     },
     "execution_count": 106,
     "metadata": {},
     "output_type": "execute_result"
    }
   ],
   "source": [
    "df_gal_bldg_func_probability = gal_bldg_func.get_output_dataset('functionality_probability').get_dataframe_from_csv()\n",
    "df_gal_bldg_func_probability = df_gal_bldg_func_probability.rename(columns={\"building_guid\": \"guid\"})\n",
    "func_prob_target = 0.50\n",
    "df_gal_bldg_func_probability.loc[df_gal_bldg_func_probability['probability'].isna(), 'functionality'] = 1 # Assumed to be connected to an undamaged/unanalyzed power network for now.\n",
    "df_gal_bldg_func_probability.loc[df_gal_bldg_func_probability['probability'] <= func_prob_target, 'functionality'] = 0 # Non-Functional\n",
    "df_gal_bldg_func_probability.loc[df_gal_bldg_func_probability['probability'] > func_prob_target, 'functionality'] = 1 # Functional\n",
    "df_gal_bldg_func_probability.loc[df_gal_bldg_func_probability['probability'].isna(), 'functionality_state'] = 'Functional' # Assumed to be connected to an undamaged/unanalyzed power network for now.\n",
    "df_gal_bldg_func_probability.loc[df_gal_bldg_func_probability['probability'] <= func_prob_target, 'functionality_state'] = 'Non-Functional' # Non-Functional\n",
    "df_gal_bldg_func_probability.loc[df_gal_bldg_func_probability['probability'] > func_prob_target, 'functionality_state'] = 'Functional' # Functional\n",
    "df_gal_bldg_func_probability.head()\n"
   ]
  },
  {
   "cell_type": "code",
   "execution_count": 108,
   "id": "7aefa304",
   "metadata": {},
   "outputs": [
    {
     "data": {
      "image/png": "[encoded data removed]",
      "text/plain": [
       "<Figure size 800x500 with 1 Axes>"
      ]
     },
     "metadata": {},
     "output_type": "display_data"
    }
   ],
   "source": [
    "### Plot of the distribution of functionality state for buildings\n",
    "indexes = df_gal_bldg_func_probability['functionality_state'].value_counts(normalize=True).mul(100).index.tolist()\n",
    "values = df_gal_bldg_func_probability['functionality_state'].value_counts(normalize=True).mul(100).tolist()\n",
    "\n",
    "fig, ax = plt.subplots(figsize=(4, 2.5), dpi=200)\n",
    "\n",
    "bars = ax.bar(x=indexes, height=values,)\n",
    "\n",
    "for bar in bars:\n",
    "    ax.text(bar.get_x() + bar.get_width() / 2,\n",
    "            bar.get_height() + 3,f'% {bar.get_height() :.1f}',\n",
    "            horizontalalignment='center')\n",
    "\n",
    "fig.tight_layout()\n",
    "ax.set_ylim([0,100])\n",
    "ax.set_xlabel('Damage State', labelpad=15)\n",
    "ax.set_ylabel('Percentage', labelpad=15)\n",
    "ax.set_title('Functionality percentage (considering buildings and power)', pad=15)\n",
    "ax.set(frame_on=False);"
   ]
  },
  {
   "cell_type": "markdown",
   "id": "08f62ae4",
   "metadata": {
    "tags": []
   },
   "source": [
    "## 6. Capital Shocks"
   ]
  },
  {
   "cell_type": "code",
   "execution_count": 109,
   "id": "1fada1a7",
   "metadata": {},
   "outputs": [
    {
     "name": "stdout",
     "output_type": "stream",
     "text": [
      "Dataset already exists locally. Reading from local cached zip.\n",
      "Unzipped folder found in the local cache. Reading from it...\n"
     ]
    },
    {
     "data": {
      "text/plain": [
       "True"
      ]
     },
     "execution_count": 109,
     "metadata": {},
     "output_type": "execute_result"
    }
   ],
   "source": [
    "# Create Capital shocks analysis\n",
    "capital_shocks = CapitalShocks(client)\n",
    "building_to_sectors_id = \"640200da475d895dfc2de1bd\"\n",
    "# Load remote datasets\n",
    "capital_shocks.load_remote_input_dataset(\"buildings_to_sectors\", building_to_sectors_id)\n",
    "capital_shocks.load_remote_input_dataset(\"buildings\", bldg_dataset_id)\n",
    "capital_shocks.set_input_dataset(\"failure_probability\", gal_bldg_failure_probability)\n",
    "\n",
    "capital_shocks.set_parameter(\"result_name\", \"sector_shocks\") # name of csv file with results"
   ]
  },
  {
   "cell_type": "code",
   "execution_count": 110,
   "id": "9bbd01cd",
   "metadata": {},
   "outputs": [
    {
     "data": {
      "text/html": [
       "<div>\n",
       "<style scoped>\n",
       "    .dataframe tbody tr th:only-of-type {\n",
       "        vertical-align: middle;\n",
       "    }\n",
       "\n",
       "    .dataframe tbody tr th {\n",
       "        vertical-align: top;\n",
       "    }\n",
       "\n",
       "    .dataframe thead th {\n",
       "        text-align: right;\n",
       "    }\n",
       "</style>\n",
       "<table border=\"1\" class=\"dataframe\">\n",
       "  <thead>\n",
       "    <tr style=\"text-align: right;\">\n",
       "      <th></th>\n",
       "      <th>sector</th>\n",
       "      <th>shock</th>\n",
       "    </tr>\n",
       "  </thead>\n",
       "  <tbody>\n",
       "    <tr>\n",
       "      <th>0</th>\n",
       "      <td>HS3I</td>\n",
       "      <td>0.242955</td>\n",
       "    </tr>\n",
       "    <tr>\n",
       "      <th>1</th>\n",
       "      <td>HS2I</td>\n",
       "      <td>0.169600</td>\n",
       "    </tr>\n",
       "    <tr>\n",
       "      <th>2</th>\n",
       "      <td>HS1I</td>\n",
       "      <td>0.255521</td>\n",
       "    </tr>\n",
       "    <tr>\n",
       "      <th>3</th>\n",
       "      <td>IPROFSER</td>\n",
       "      <td>0.337676</td>\n",
       "    </tr>\n",
       "    <tr>\n",
       "      <th>4</th>\n",
       "      <td>IRETAIL</td>\n",
       "      <td>0.305653</td>\n",
       "    </tr>\n",
       "    <tr>\n",
       "      <th>5</th>\n",
       "      <td>IART</td>\n",
       "      <td>0.333373</td>\n",
       "    </tr>\n",
       "    <tr>\n",
       "      <th>6</th>\n",
       "      <td>ICONS</td>\n",
       "      <td>0.240779</td>\n",
       "    </tr>\n",
       "    <tr>\n",
       "      <th>7</th>\n",
       "      <td>IHEALTH</td>\n",
       "      <td>0.291747</td>\n",
       "    </tr>\n",
       "    <tr>\n",
       "      <th>8</th>\n",
       "      <td>ITRANS</td>\n",
       "      <td>0.197728</td>\n",
       "    </tr>\n",
       "    <tr>\n",
       "      <th>9</th>\n",
       "      <td>IREALE</td>\n",
       "      <td>0.426834</td>\n",
       "    </tr>\n",
       "    <tr>\n",
       "      <th>10</th>\n",
       "      <td>IACCO</td>\n",
       "      <td>0.358318</td>\n",
       "    </tr>\n",
       "    <tr>\n",
       "      <th>11</th>\n",
       "      <td>IUTIL</td>\n",
       "      <td>0.541621</td>\n",
       "    </tr>\n",
       "    <tr>\n",
       "      <th>12</th>\n",
       "      <td>IAGMIN</td>\n",
       "      <td>0.102671</td>\n",
       "    </tr>\n",
       "    <tr>\n",
       "      <th>13</th>\n",
       "      <td>IEDU</td>\n",
       "      <td>0.519007</td>\n",
       "    </tr>\n",
       "    <tr>\n",
       "      <th>14</th>\n",
       "      <td>IWHOLE</td>\n",
       "      <td>0.083857</td>\n",
       "    </tr>\n",
       "    <tr>\n",
       "      <th>15</th>\n",
       "      <td>IMANU</td>\n",
       "      <td>0.284975</td>\n",
       "    </tr>\n",
       "  </tbody>\n",
       "</table>\n",
       "</div>"
      ],
      "text/plain": [
       "      sector     shock\n",
       "0       HS3I  0.242955\n",
       "1       HS2I  0.169600\n",
       "2       HS1I  0.255521\n",
       "3   IPROFSER  0.337676\n",
       "4    IRETAIL  0.305653\n",
       "5       IART  0.333373\n",
       "6      ICONS  0.240779\n",
       "7    IHEALTH  0.291747\n",
       "8     ITRANS  0.197728\n",
       "9     IREALE  0.426834\n",
       "10     IACCO  0.358318\n",
       "11     IUTIL  0.541621\n",
       "12    IAGMIN  0.102671\n",
       "13      IEDU  0.519007\n",
       "14    IWHOLE  0.083857\n",
       "15     IMANU  0.284975"
      ]
     },
     "execution_count": 110,
     "metadata": {},
     "output_type": "execute_result"
    }
   ],
   "source": [
    "# Run capital shocks analysis\n",
    "capital_shocks.run_analysis()\n",
    "\n",
    "sector_shocks_result = capital_shocks.get_output_dataset(\"sector_shocks\")\n",
    "sector_shocks_result.get_dataframe_from_csv()"
   ]
  },
  {
   "cell_type": "markdown",
   "id": "9af06b02",
   "metadata": {},
   "source": [
    "## 7. Population dislocation - Multihazard Comparison"
   ]
  },
  {
   "cell_type": "markdown",
   "id": "86cd53cd",
   "metadata": {},
   "source": [
    "### 7.1 Setup general population data"
   ]
  },
  {
   "cell_type": "code",
   "execution_count": 111,
   "id": "c6a33928",
   "metadata": {},
   "outputs": [],
   "source": [
    "pop_dis = PopulationDislocation(client)\n",
    "value_loss = \"60354810e379f22e16560dbd\"\n",
    "bg_data = \"603545f2dcda03378087e708\"\n",
    "# hua_result_id = \"63ee615d62b9d001e6a2b660\" # city\n",
    "hua_result_id = \"63ff8e895367c2261b4cb2ef\" # island\n",
    "\n",
    "pop_dis.load_remote_input_dataset(\"block_group_data\", bg_data)\n",
    "pop_dis.load_remote_input_dataset(\"value_loss_param\", value_loss)\n",
    "pop_dis.load_remote_input_dataset(\"housing_unit_allocation\", hua_result_id)"
   ]
  },
  {
   "cell_type": "markdown",
   "id": "12d3fe62",
   "metadata": {},
   "source": [
    "### 7.2 Initial loop for dislocation\n",
    "The following code is used to create a set of dateframes for each hazard type and the combined damage. Each data frame has details on the population dislocation for the hazard."
   ]
  },
  {
   "cell_type": "code",
   "execution_count": 112,
   "id": "59decdc1",
   "metadata": {},
   "outputs": [
    {
     "name": "stdout",
     "output_type": "stream",
     "text": [
      "For flood_damage  10067  households are dislocated\n",
      "For wind_damage  14292  households are dislocated\n",
      "For surge_wave_damage  10007  households are dislocated\n",
      "For combined_dmg  14896  households are dislocated\n"
     ]
    }
   ],
   "source": [
    "# Create an empty dictionary to store the results\n",
    "popdis_results_df = {}\n",
    "popdis_results_df_mincols = {}\n",
    "damage_types = {\"flood_damage\" : flood_damage,\n",
    "                \"wind_damage\" : wind_damage,\n",
    "                \"surge_wave_damage\" : surge_wave_damage,\n",
    "                \"combined_dmg\" : combined_dmg}\n",
    "\n",
    "# loop through the damage types\n",
    "for damage, damage_result in damage_types.items():\n",
    "    pop_dis.set_input_dataset(\"building_dmg\", damage_result)\n",
    "\n",
    "    result_name = f\"galveston-pop-disl-results_{damage}\"\n",
    "    seed = 1111\n",
    "\n",
    "    pop_dis.set_parameter(\"result_name\", result_name)\n",
    "    pop_dis.set_parameter(\"seed\", seed)\n",
    "    pop_dis.run_analysis()\n",
    "\n",
    "    population_dislocation_result = pop_dis.get_output_dataset(\"result\")\n",
    "    popdis_results_df[damage] = population_dislocation_result.get_dataframe_from_csv(low_memory=False)\n",
    "\n",
    "    # Keep HUID, prdis and dislocated columns\n",
    "    popdis_results_df_mincols[damage] = popdis_results_df[damage][['guid','huid', 'prdis', 'dislocated']]\n",
    "\n",
    "    # Print the number of dislocated housholds by HUID\n",
    "    print(f\"For {damage} \",popdis_results_df_mincols[damage]['dislocated'].sum(), \" households are dislocated\")"
   ]
  },
  {
   "cell_type": "markdown",
   "id": "3748b15b",
   "metadata": {},
   "source": [
    "### 7.3 Clean and merge dislocation data\n",
    "The following code loops through the damage type dataframes, cleans up the columns and prepares the data for a merge."
   ]
  },
  {
   "cell_type": "code",
   "execution_count": 114,
   "id": "4cc9a707",
   "metadata": {},
   "outputs": [],
   "source": [
    "popdis_merge_df = {}\n",
    "# loop through the damage types\n",
    "for damage, damage_result in damage_types.items():\n",
    "    # Read in CSV and convert to dataframe\n",
    "    damage_df = damage_result.get_dataframe_from_csv(low_memory=False)\n",
    "    # For each damage type merge damage states and hazard exposure\n",
    "    popdis_merge_df[damage] = pd.merge(\n",
    "                                right = popdis_results_df_mincols[damage], \n",
    "                                left = damage_df[['guid','DS_0','DS_1','DS_2','DS_3','haz_expose']], \n",
    "                                left_on='guid', \n",
    "                                right_on='guid', \n",
    "                                how='right')\n",
    "\n",
    "    # flag observations with damage exposure\n",
    "    condition1 = (popdis_merge_df[damage]['haz_expose'] == 'yes')\n",
    "    popdis_merge_df[damage][f'{damage}_exp'] = np.where((condition1), 1, 0)\n",
    "\n",
    "    # flag observations that are not dislocated and DS_3 > .5\n",
    "    # households that do not dislocate but have a high probability of damage\n",
    "    condition1 = (popdis_merge_df[damage]['dislocated'] == 0)\n",
    "    condition2 = (popdis_merge_df[damage]['DS_3'] > .5)\n",
    "    popdis_merge_df[damage]['dsds3flag'] = np.where((condition1) & (condition2), 1, 0)\n",
    "\n",
    "    # flag observations that are dislocated and DS_0 > .5\n",
    "    # households that dislocate but have a low probability of damage\n",
    "    condition1 = (popdis_merge_df[damage]['dislocated'] == 1)\n",
    "    condition2 = (popdis_merge_df[damage]['DS_0'] > .5)\n",
    "    popdis_merge_df[damage]['dsds0flag'] = np.where((condition1) & (condition2), 1, 0)\n",
    "\n",
    "    # rename popdis_merge_df with damage type\n",
    "    popdis_merge_df[damage] = popdis_merge_df[damage].rename(columns={\"dsds3flag\" : f\"dsds3flag_{damage}\",\n",
    "                                                                     \"dsds0flag\" : f\"dsds0flag_{damage}\",\n",
    "                                                                     \"guid\" : f\"guid_{damage}\",\n",
    "                                                                     \"prdis\" : f\"prdis_{damage}\",\n",
    "                                                                     \"dislocated\" : f\"dislocated_{damage}\",\n",
    "                                                                     \"DS_0\": f\"DS_0_{damage}\",\n",
    "                                                                     \"DS_1\": f\"DS_1_{damage}\",  \n",
    "                                                                     \"DS_2\": f\"DS_2_{damage}\",\n",
    "                                                                     \"DS_3\": f\"DS_3_{damage}\",\n",
    "                                                                     \"haz_expose\": f\"haz_expose_{damage}\"})\n",
    "\n",
    "   \n",
    "\n",
    "# merge all the damage types\n",
    "popdis_multihazard_df = pd.merge(right = popdis_merge_df['flood_damage'],\n",
    "                                    left = popdis_merge_df['wind_damage'],\n",
    "                                    left_on='huid',\n",
    "                                    right_on='huid',\n",
    "                                    how='outer')\n",
    "popdis_multihazard_df = pd.merge(right = popdis_multihazard_df,\n",
    "                                    left = popdis_merge_df['surge_wave_damage'],\n",
    "                                    left_on='huid',\n",
    "                                    right_on='huid',\n",
    "                                    how='outer')                              \n",
    "popdis_multihazard_df = pd.merge(right = popdis_multihazard_df,\n",
    "                                    left = popdis_merge_df['combined_dmg'],\n",
    "                                    left_on='huid',\n",
    "                                    right_on='huid',\n",
    "                                    how='outer')\n",
    "# drop all the guid columns and rename guid_x to guid\n",
    "popdis_multihazard_df = popdis_multihazard_df.drop(columns=['guid_flood_damage','guid_wind_damage','guid_surge_wave_damage'])\n",
    "popdis_multihazard_df = popdis_multihazard_df.rename(columns={\"guid_combined_dmg\" : \"guid\"})   "
   ]
  },
  {
   "cell_type": "code",
   "execution_count": 118,
   "id": "5872973f",
   "metadata": {},
   "outputs": [
    {
     "data": {
      "text/plain": [
       "Index(['guid', 'DS_0_combined_dmg', 'DS_1_combined_dmg', 'DS_2_combined_dmg',\n",
       "       'DS_3_combined_dmg', 'haz_expose_combined_dmg', 'huid',\n",
       "       'prdis_combined_dmg', 'dislocated_combined_dmg', 'combined_dmg_exp',\n",
       "       'dsds3flag_combined_dmg', 'dsds0flag_combined_dmg',\n",
       "       'DS_0_surge_wave_damage', 'DS_1_surge_wave_damage',\n",
       "       'DS_2_surge_wave_damage', 'DS_3_surge_wave_damage',\n",
       "       'haz_expose_surge_wave_damage', 'prdis_surge_wave_damage',\n",
       "       'dislocated_surge_wave_damage', 'surge_wave_damage_exp',\n",
       "       'dsds3flag_surge_wave_damage', 'dsds0flag_surge_wave_damage',\n",
       "       'DS_0_wind_damage', 'DS_1_wind_damage', 'DS_2_wind_damage',\n",
       "       'DS_3_wind_damage', 'haz_expose_wind_damage', 'prdis_wind_damage',\n",
       "       'dislocated_wind_damage', 'wind_damage_exp', 'dsds3flag_wind_damage',\n",
       "       'dsds0flag_wind_damage', 'DS_0_flood_damage', 'DS_1_flood_damage',\n",
       "       'DS_2_flood_damage', 'DS_3_flood_damage', 'haz_expose_flood_damage',\n",
       "       'prdis_flood_damage', 'dislocated_flood_damage', 'flood_damage_exp',\n",
       "       'dsds3flag_flood_damage', 'dsds0flag_flood_damage'],\n",
       "      dtype='object')"
      ]
     },
     "execution_count": 118,
     "metadata": {},
     "output_type": "execute_result"
    }
   ],
   "source": [
    "popdis_multihazard_df.columns\n",
    "#popdis_multihazard_df.to_csv('./output/building/dislocation_results/dislocation_building.csv', index=False)"
   ]
  },
  {
   "cell_type": "markdown",
   "id": "6b64952f",
   "metadata": {
    "tags": []
   },
   "source": [
    "### 7.4 Merge in infrastructure analyses on transportation and power"
   ]
  },
  {
   "cell_type": "code",
   "execution_count": 121,
   "id": "0db9df8d",
   "metadata": {},
   "outputs": [
    {
     "data": {
      "text/html": [
       "<div>\n",
       "<style scoped>\n",
       "    .dataframe tbody tr th:only-of-type {\n",
       "        vertical-align: middle;\n",
       "    }\n",
       "\n",
       "    .dataframe tbody tr th {\n",
       "        vertical-align: top;\n",
       "    }\n",
       "\n",
       "    .dataframe thead th {\n",
       "        text-align: right;\n",
       "    }\n",
       "</style>\n",
       "<table border=\"1\" class=\"dataframe\">\n",
       "  <thead>\n",
       "    <tr style=\"text-align: right;\">\n",
       "      <th></th>\n",
       "      <th>guid</th>\n",
       "      <th>average_power_back_time</th>\n",
       "      <th>average_transpo_back_time</th>\n",
       "    </tr>\n",
       "  </thead>\n",
       "  <tbody>\n",
       "    <tr>\n",
       "      <th>0</th>\n",
       "      <td>7916eaa8-0bfa-4b32-84ff-20f19a520f5c</td>\n",
       "      <td>0.000</td>\n",
       "      <td>0.0</td>\n",
       "    </tr>\n",
       "    <tr>\n",
       "      <th>1</th>\n",
       "      <td>42167885-ea18-41b4-be8c-5c09c330d312</td>\n",
       "      <td>5.836</td>\n",
       "      <td>0.0</td>\n",
       "    </tr>\n",
       "    <tr>\n",
       "      <th>2</th>\n",
       "      <td>3dab0b4b-42eb-4df6-a5e1-c1882df41704</td>\n",
       "      <td>0.000</td>\n",
       "      <td>0.0</td>\n",
       "    </tr>\n",
       "    <tr>\n",
       "      <th>3</th>\n",
       "      <td>e474c4ef-a091-47ab-85b4-ef0459e37834</td>\n",
       "      <td>0.000</td>\n",
       "      <td>0.0</td>\n",
       "    </tr>\n",
       "    <tr>\n",
       "      <th>73</th>\n",
       "      <td>335d18da-7a60-4f4d-8c97-d35e0f3a1360</td>\n",
       "      <td>0.000</td>\n",
       "      <td>0.0</td>\n",
       "    </tr>\n",
       "    <tr>\n",
       "      <th>...</th>\n",
       "      <td>...</td>\n",
       "      <td>...</td>\n",
       "      <td>...</td>\n",
       "    </tr>\n",
       "    <tr>\n",
       "      <th>33297</th>\n",
       "      <td>7a415cb6-d212-450b-b139-f005c89b9656</td>\n",
       "      <td>0.000</td>\n",
       "      <td>0.0</td>\n",
       "    </tr>\n",
       "    <tr>\n",
       "      <th>33298</th>\n",
       "      <td>74e5fedf-9e22-4434-9128-65ca793df7d2</td>\n",
       "      <td>0.000</td>\n",
       "      <td>0.0</td>\n",
       "    </tr>\n",
       "    <tr>\n",
       "      <th>33299</th>\n",
       "      <td>1ac5be10-582c-46b2-91ed-469f684bb886</td>\n",
       "      <td>0.000</td>\n",
       "      <td>0.0</td>\n",
       "    </tr>\n",
       "    <tr>\n",
       "      <th>33300</th>\n",
       "      <td>fbcfb6d6-de13-42fa-9839-d7c80afc651d</td>\n",
       "      <td>0.000</td>\n",
       "      <td>0.0</td>\n",
       "    </tr>\n",
       "    <tr>\n",
       "      <th>33301</th>\n",
       "      <td>2ee961c9-cd94-499e-b1fe-3e0220a440ea</td>\n",
       "      <td>0.000</td>\n",
       "      <td>0.0</td>\n",
       "    </tr>\n",
       "  </tbody>\n",
       "</table>\n",
       "<p>22015 rows × 3 columns</p>\n",
       "</div>"
      ],
      "text/plain": [
       "                                       guid  average_power_back_time  \\\n",
       "0      7916eaa8-0bfa-4b32-84ff-20f19a520f5c                    0.000   \n",
       "1      42167885-ea18-41b4-be8c-5c09c330d312                    5.836   \n",
       "2      3dab0b4b-42eb-4df6-a5e1-c1882df41704                    0.000   \n",
       "3      e474c4ef-a091-47ab-85b4-ef0459e37834                    0.000   \n",
       "73     335d18da-7a60-4f4d-8c97-d35e0f3a1360                    0.000   \n",
       "...                                     ...                      ...   \n",
       "33297  7a415cb6-d212-450b-b139-f005c89b9656                    0.000   \n",
       "33298  74e5fedf-9e22-4434-9128-65ca793df7d2                    0.000   \n",
       "33299  1ac5be10-582c-46b2-91ed-469f684bb886                    0.000   \n",
       "33300  fbcfb6d6-de13-42fa-9839-d7c80afc651d                    0.000   \n",
       "33301  2ee961c9-cd94-499e-b1fe-3e0220a440ea                    0.000   \n",
       "\n",
       "       average_transpo_back_time  \n",
       "0                            0.0  \n",
       "1                            0.0  \n",
       "2                            0.0  \n",
       "3                            0.0  \n",
       "73                           0.0  \n",
       "...                          ...  \n",
       "33297                        0.0  \n",
       "33298                        0.0  \n",
       "33299                        0.0  \n",
       "33300                        0.0  \n",
       "33301                        0.0  \n",
       "\n",
       "[22015 rows x 3 columns]"
      ]
     },
     "execution_count": 121,
     "metadata": {},
     "output_type": "execute_result"
    }
   ],
   "source": [
    "# read in insfrastructure result from a CSV file\n",
    "networkdamage_df = pd.read_csv(\"./output/final_inf_result/final_df_with_building.csv\")\n",
    "\n",
    "# for network df keep only the first unique guid - todo: This probably needs to be changed\n",
    "networkdamage_df = networkdamage_df.drop_duplicates(subset=['guid'], keep='first')\n",
    "networkdamage_df['guid'].describe()\n",
    "\n",
    "# keep guid, power_back_time, transpo_back_time\n",
    "networkdamage_df = networkdamage_df[['guid','average_power_back_time','average_transpo_back_time']]\n",
    "\n",
    "# Considering with and without power/transpo in the next analyses\n",
    "#networkdamage_df['average_transpo_back_time'] = 0.0   # Uncomment to exclude the impact of transportation on population displacement.\n",
    "#networkdamage_df['average_power_back_time'] = 0.0   # Uncomment to exclude the impact of power on population displacement.\n",
    "networkdamage_df"
   ]
  },
  {
   "cell_type": "markdown",
   "metadata": {
    "collapsed": false
   },
   "source": [
    "<img src=\"https://ars.els-cdn.com/content/image/1-s2.0-S2772741623000388-gr7_lrg.jpg\" width=\"700\"/>\n"
   ]
  },
  {
   "cell_type": "code",
   "execution_count": 122,
   "id": "eca9ab58",
   "metadata": {},
   "outputs": [
    {
     "data": {
      "text/plain": [
       "count                                    22015\n",
       "unique                                   22015\n",
       "top       7916eaa8-0bfa-4b32-84ff-20f19a520f5c\n",
       "freq                                         1\n",
       "Name: guid, dtype: object"
      ]
     },
     "execution_count": 122,
     "metadata": {},
     "output_type": "execute_result"
    }
   ],
   "source": [
    "networkdamage_df['guid'].describe()"
   ]
  },
  {
   "cell_type": "code",
   "execution_count": 123,
   "id": "a5cddf7e",
   "metadata": {},
   "outputs": [
    {
     "data": {
      "text/plain": [
       "count                                    33302\n",
       "unique                                   22015\n",
       "top       2669f722-ae95-4181-90a8-9c4755b7b29c\n",
       "freq                                       191\n",
       "Name: guid, dtype: object"
      ]
     },
     "execution_count": 123,
     "metadata": {},
     "output_type": "execute_result"
    }
   ],
   "source": [
    "popdis_multihazard_df['guid'].describe()"
   ]
  },
  {
   "cell_type": "code",
   "execution_count": 124,
   "id": "7a8e695f",
   "metadata": {},
   "outputs": [
    {
     "data": {
      "text/plain": [
       "count                                    33302\n",
       "unique                                   22015\n",
       "top       2669f722-ae95-4181-90a8-9c4755b7b29c\n",
       "freq                                       191\n",
       "Name: guid, dtype: object"
      ]
     },
     "execution_count": 124,
     "metadata": {},
     "output_type": "execute_result"
    }
   ],
   "source": [
    "# merge network damage with popdis_multihazard_df by guid\n",
    "popdis_multihazard_network_df = pd.merge(right = popdis_multihazard_df,\n",
    "                                    left = networkdamage_df,\n",
    "                                    left_on='guid',\n",
    "                                    right_on='guid',\n",
    "                                    how='inner')\n",
    "popdis_multihazard_network_df['guid'].describe()"
   ]
  },
  {
   "cell_type": "markdown",
   "id": "15c935e1",
   "metadata": {},
   "source": [
    "### 7.5 Add Flag for Power Outage and Road Closure\n",
    "- Choosing cutoffs for 3 days without power and 7 days without road access.\n",
    "- These cutoffs are expert judgments and could be changed."
   ]
  },
  {
   "cell_type": "code",
   "execution_count": 126,
   "id": "17ba1933",
   "metadata": {},
   "outputs": [],
   "source": [
    "# If the power_back_time greater than 7 days then dislocated_power = 1\n",
    "condition1 = (popdis_multihazard_network_df['average_power_back_time'] > 3)\n",
    "popdis_multihazard_network_df['powerflag'] = np.where((condition1), 1, 0)\n",
    "\n",
    "# if transpo_back_time greater than 14 days then dislocated_transpo = 1\n",
    "condition1 = (popdis_multihazard_network_df['average_transpo_back_time'] > 7)\n",
    "popdis_multihazard_network_df['transpoflag'] = np.where((condition1), 1, 0)"
   ]
  },
  {
   "cell_type": "code",
   "execution_count": 127,
   "id": "d3def307",
   "metadata": {},
   "outputs": [
    {
     "name": "stdout",
     "output_type": "stream",
     "text": [
      "flood_damage Number of households with hazard exposure: 32964\n",
      "flood_damage Total number of dislocated households: 10067\n",
      "flood_damage Number of households that dislocate but have a low probability of damage: 1190\n",
      "flood_damage Number of households that do not dislocate and have no power: 4821\n",
      "flood_damage Number of households that do not dislocate and have no connectivity to mainland: 5581\n",
      "flood_damage Number of households with safe occupancy: 25638\n",
      "wind_damage Number of households with hazard exposure: 33295\n",
      "wind_damage Total number of dislocated households: 14292\n",
      "wind_damage Number of households that dislocate but have a low probability of damage: 1989\n",
      "wind_damage Number of households that do not dislocate and have no power: 3307\n",
      "wind_damage Number of households that do not dislocate and have no connectivity to mainland: 3802\n",
      "wind_damage Number of households with safe occupancy: 26749\n",
      "surge_wave_damage Number of households with hazard exposure: 30463\n",
      "surge_wave_damage Total number of dislocated households: 10007\n",
      "surge_wave_damage Number of households that dislocate but have a low probability of damage: 1391\n",
      "surge_wave_damage Number of households that do not dislocate and have no power: 4514\n",
      "surge_wave_damage Number of households that do not dislocate and have no connectivity to mainland: 5372\n",
      "surge_wave_damage Number of households with safe occupancy: 25756\n",
      "combined_dmg Number of households with hazard exposure: 33295\n",
      "combined_dmg Total number of dislocated households: 14896\n",
      "combined_dmg Number of households that dislocate but have a low probability of damage: 1333\n",
      "combined_dmg Number of households that do not dislocate and have no power: 3142\n",
      "combined_dmg Number of households that do not dislocate and have no connectivity to mainland: 3655\n",
      "combined_dmg Number of households with safe occupancy: 27506\n"
     ]
    }
   ],
   "source": [
    "# loop through the damage types\n",
    "for damage, damage_result in damage_types.items():\n",
    "    # add case where dislocated = 0 but dislocated_power == 1\n",
    "    condition1 = (popdis_multihazard_network_df[f'dislocated_{damage}'] == 0)\n",
    "    condition2 = (popdis_multihazard_network_df['powerflag'] == 1)\n",
    "    popdis_multihazard_network_df[f'powerflag_{damage}'] = \\\n",
    "        np.where((condition1) & (condition2), 1, 0)\n",
    "    \n",
    "    # add case where dislocated = 0 but dislocated_transpo == 1\n",
    "    condition1 = (popdis_multihazard_network_df[f'dislocated_{damage}'] == 0)\n",
    "    condition2 = (popdis_multihazard_network_df['transpoflag'] == 1)\n",
    "    popdis_multihazard_network_df[f'transpoflag_{damage}'] = \\\n",
    "        np.where((condition1) & (condition2), 1, 0)\n",
    "    \n",
    "    # identify safe occupany housholds no flags \n",
    "    condition1 = (popdis_multihazard_network_df[f'dsds3flag_{damage}'] == 0)\n",
    "    condition2 = (popdis_multihazard_network_df[f'dsds0flag_{damage}'] == 0)\n",
    "    condition3 = (popdis_multihazard_network_df[f'powerflag_{damage}'] == 0)\n",
    "    condition4 = (popdis_multihazard_network_df[f'transpoflag_{damage}'] == 0)\n",
    "    popdis_multihazard_network_df[f'safeflag_{damage}'] = \\\n",
    "        np.where((condition1) & (condition2) & (condition3) & (condition4), 1, 0)\n",
    "\n",
    "    # how many households have hazard exposure = yes\n",
    "    hazexpose = popdis_multihazard_network_df[f'{damage}_exp'].sum()\n",
    "    # how many households have dsds0flag or dsds3flag true\n",
    "    totaldislocation = popdis_multihazard_network_df[f'dislocated_{damage}'].sum()\n",
    "    choicedislocation = popdis_multihazard_network_df[f'dsds0flag_{damage}'].sum()\n",
    "    hazardnondislocation = popdis_multihazard_network_df[f'dsds3flag_{damage}'].sum()\n",
    "    nopower_nodislocation = popdis_multihazard_network_df[f'powerflag_{damage}'].sum()\n",
    "    notranspo_nodislocation = popdis_multihazard_network_df[f'transpoflag_{damage}'].sum()\n",
    "    safe_occupancy = popdis_multihazard_network_df[f'safeflag_{damage}'].sum()\n",
    "    print(f\"{damage} Number of households with hazard exposure: {hazexpose}\")\n",
    "    print(f\"{damage} Total number of dislocated households: {totaldislocation}\")\n",
    "    print(f\"{damage} Number of households that dislocate but have a low probability of damage: {choicedislocation}\")\n",
    "    print(f\"{damage} Number of households that do not dislocate and have no power: {nopower_nodislocation}\")\n",
    "    print(f\"{damage} Number of households that do not dislocate and have no connectivity to mainland: {notranspo_nodislocation}\")\n",
    "    print(f\"{damage} Number of households with safe occupancy: {safe_occupancy}\")"
   ]
  },
  {
   "cell_type": "markdown",
   "id": "f8990799",
   "metadata": {},
   "source": [
    "### 7.6 Modify dislocation for HHSR\n",
    "The HHSR model assumes that if a household dislocates then the structure is not safe to occupy and will take time to recover. However, the dislocation model has households that dislocate but the structure has a high probability of being safe to occupy. Vice versa, the model also has households that do not dislcate but the structure has a high probability of being unsafe to occupy.\n",
    "\n",
    "If a household has choice dislocation (dsds0flag_) then dislocation should be set to 0. \n",
    "\n",
    "If a household has unsafe occupancy (dsds3flag_) then dislocation should be set to 1."
   ]
  },
  {
   "cell_type": "code",
   "execution_count": 138,
   "id": "be72da00",
   "metadata": {},
   "outputs": [],
   "source": [
    "popdis_hhrs_df = popdis_multihazard_network_df.copy()"
   ]
  },
  {
   "cell_type": "code",
   "execution_count": 139,
   "id": "c4ac3f35",
   "metadata": {},
   "outputs": [
    {
     "name": "stdout",
     "output_type": "stream",
     "text": [
      "flood_damage Swith Choice Dislocation Total number of dislocated households: 10067 8877\n",
      "flood_damage Switch unsafe occupancy Total number of dislocated households: 8877 8971\n",
      "wind_damage Swith Choice Dislocation Total number of dislocated households: 14292 12303\n",
      "wind_damage Switch unsafe occupancy Total number of dislocated households: 12303 12715\n",
      "surge_wave_damage Swith Choice Dislocation Total number of dislocated households: 10007 8616\n",
      "surge_wave_damage Switch unsafe occupancy Total number of dislocated households: 8616 8909\n",
      "combined_dmg Swith Choice Dislocation Total number of dislocated households: 14896 13563\n",
      "combined_dmg Switch unsafe occupancy Total number of dislocated households: 13563 14288\n"
     ]
    }
   ],
   "source": [
    "# loop through the damage types\n",
    "for damage, damage_result in damage_types.items():\n",
    "    # update dislocation if dsds0flag_ = 1\n",
    "    totaldislocation1 = popdis_hhrs_df[f'dislocated_{damage}'].sum()\n",
    "    condition1 = (popdis_hhrs_df[f'dsds0flag_{damage}'] == 1)\n",
    "    popdis_hhrs_df[f'dislocated_{damage}'] = \\\n",
    "        np.where((condition1), 0, popdis_hhrs_df[f'dislocated_{damage}'])\n",
    "    totaldislocation2 = popdis_hhrs_df[f'dislocated_{damage}'].sum()\n",
    "    print(f\"{damage} Swith Choice Dislocation Total number of dislocated households: {totaldislocation1} {totaldislocation2}\")\n",
    "\n",
    "    # update dislocation if dsds3flag_ = 1\n",
    "    totaldislocation1 = popdis_hhrs_df[f'dislocated_{damage}'].sum()\n",
    "    condition1 = (popdis_hhrs_df[f'dsds3flag_{damage}'] == 1)\n",
    "    popdis_hhrs_df[f'dislocated_{damage}'] = \\\n",
    "        np.where((condition1), 1, popdis_hhrs_df[f'dislocated_{damage}'])\n",
    "    totaldislocation2 = popdis_hhrs_df[f'dislocated_{damage}'].sum()\n",
    "    print(f\"{damage} Switch unsafe occupancy Total number of dislocated households: {totaldislocation1} {totaldislocation2}\")\n"
   ]
  },
  {
   "cell_type": "code",
   "execution_count": 141,
   "id": "c96cfcc9",
   "metadata": {},
   "outputs": [
    {
     "data": {
      "text/plain": [
       "Index(['guid', 'average_power_back_time', 'average_transpo_back_time',\n",
       "       'DS_0_combined_dmg', 'DS_1_combined_dmg', 'DS_2_combined_dmg',\n",
       "       'DS_3_combined_dmg', 'haz_expose_combined_dmg', 'huid',\n",
       "       'prdis_combined_dmg', 'dislocated_combined_dmg', 'combined_dmg_exp',\n",
       "       'dsds3flag_combined_dmg', 'dsds0flag_combined_dmg',\n",
       "       'DS_0_surge_wave_damage', 'DS_1_surge_wave_damage',\n",
       "       'DS_2_surge_wave_damage', 'DS_3_surge_wave_damage',\n",
       "       'haz_expose_surge_wave_damage', 'prdis_surge_wave_damage',\n",
       "       'dislocated_surge_wave_damage', 'surge_wave_damage_exp',\n",
       "       'dsds3flag_surge_wave_damage', 'dsds0flag_surge_wave_damage',\n",
       "       'DS_0_wind_damage', 'DS_1_wind_damage', 'DS_2_wind_damage',\n",
       "       'DS_3_wind_damage', 'haz_expose_wind_damage', 'prdis_wind_damage',\n",
       "       'dislocated_wind_damage', 'wind_damage_exp', 'dsds3flag_wind_damage',\n",
       "       'dsds0flag_wind_damage', 'DS_0_flood_damage', 'DS_1_flood_damage',\n",
       "       'DS_2_flood_damage', 'DS_3_flood_damage', 'haz_expose_flood_damage',\n",
       "       'prdis_flood_damage', 'dislocated_flood_damage', 'flood_damage_exp',\n",
       "       'dsds3flag_flood_damage', 'dsds0flag_flood_damage', 'powerflag',\n",
       "       'transpoflag', 'powerflag_flood_damage', 'transpoflag_flood_damage',\n",
       "       'safeflag_flood_damage', 'powerflag_wind_damage',\n",
       "       'transpoflag_wind_damage', 'safeflag_wind_damage',\n",
       "       'powerflag_surge_wave_damage', 'transpoflag_surge_wave_damage',\n",
       "       'safeflag_surge_wave_damage', 'powerflag_combined_dmg',\n",
       "       'transpoflag_combined_dmg', 'safeflag_combined_dmg'],\n",
       "      dtype='object')"
      ]
     },
     "execution_count": 141,
     "metadata": {},
     "output_type": "execute_result"
    }
   ],
   "source": [
    "popdis_hhrs_df.columns"
   ]
  },
  {
   "cell_type": "code",
   "execution_count": 142,
   "metadata": {
    "collapsed": false
   },
   "outputs": [
    {
     "name": "stdout",
     "output_type": "stream",
     "text": [
      "flood_damage Total number of dislocated households without and with power and tranportation effects: 8971 15351\n",
      "wind_damage Total number of dislocated households without and with power and tranportation effects: 12715 16867\n",
      "surge_wave_damage Total number of dislocated households without and with power and tranportation effects: 8909 14771\n",
      "combined_dmg Total number of dislocated households without and with power and tranportation effects: 14288 18026\n"
     ]
    }
   ],
   "source": [
    "# loop through the damage types to consider dislocation due to power outage and road closure\n",
    "for damage, damage_result in damage_types.items():\n",
    "    # update dislocation if powerflag & transpoflag = 1\n",
    "    totaldislocation1 = popdis_hhrs_df[f'dislocated_{damage}'].sum()\n",
    "    condition1 = (popdis_hhrs_df[f'powerflag_{damage}'] == 1)\n",
    "    condition2 = (popdis_hhrs_df[f'transpoflag_{damage}'] == 1)\n",
    "    popdis_hhrs_df[f'dislocated_{damage}'] = \\\n",
    "        np.where(((condition1) | (condition2)), 1, popdis_hhrs_df[f'dislocated_{damage}'])\n",
    "    totaldislocation2 = popdis_hhrs_df[f'dislocated_{damage}'].sum()\n",
    "    print(f\"{damage} Total number of dislocated households without and with power and tranportation effects: {totaldislocation1} {totaldislocation2}\")"
   ]
  },
  {
   "cell_type": "code",
   "execution_count": 143,
   "id": "cdddb7fa",
   "metadata": {},
   "outputs": [
    {
     "data": {
      "text/plain": [
       "Index(['guid', 'average_power_back_time', 'average_transpo_back_time', 'huid',\n",
       "       'dislocated_combined_dmg', 'dislocated_surge_wave_damage',\n",
       "       'dislocated_wind_damage', 'dislocated_flood_damage'],\n",
       "      dtype='object')"
      ]
     },
     "execution_count": 143,
     "metadata": {},
     "output_type": "execute_result"
    }
   ],
   "source": [
    "# Keep only columns needed for HHSR\n",
    "# drop all columns with flag\n",
    "popdis_hhrs_df = popdis_hhrs_df[popdis_hhrs_df.columns.drop(list(popdis_hhrs_df.filter(regex='flag')))]\n",
    "# drop all columns with DS\n",
    "popdis_hhrs_df = popdis_hhrs_df[popdis_hhrs_df.columns.drop(list(popdis_hhrs_df.filter(regex='DS')))]\n",
    "# drop all columns with prdis\n",
    "popdis_hhrs_df = popdis_hhrs_df[popdis_hhrs_df.columns.drop(list(popdis_hhrs_df.filter(regex='prdis')))]\n",
    "# drop all columns with haz_expose\n",
    "popdis_hhrs_df = popdis_hhrs_df[popdis_hhrs_df.columns.drop(list(popdis_hhrs_df.filter(regex='haz_expose')))]\n",
    "# drop all columns with exp\n",
    "popdis_hhrs_df = popdis_hhrs_df[popdis_hhrs_df.columns.drop(list(popdis_hhrs_df.filter(regex='exp')))]\n",
    "# Drop column named dislocated \n",
    "# popdis_hhrs_df = popdis_hhrs_df.drop(columns=['dislocated'])\n",
    "popdis_hhrs_df.columns"
   ]
  },
  {
   "cell_type": "code",
   "execution_count": 144,
   "id": "c1f4723a-0aee-4314-a139-8ebdae7e340d",
   "metadata": {},
   "outputs": [],
   "source": [
    "# Adding required columns for running the HHRS model from IN-CORE \n",
    "# HHRS code in IN-CORE needs to be edited; race, hispan, ownershp data is no more required\n",
    "popdis_hhrs_df = pd.merge(right = popdis_results_df[damage][['huid','blockid', 'race', 'hispan', 'ownershp']],\n",
    "                          left = popdis_hhrs_df,\n",
    "                          left_on='huid',\n",
    "                          right_on='huid',\n",
    "                          how='inner')"
   ]
  },
  {
   "cell_type": "code",
   "execution_count": 145,
   "id": "87945c50-828a-4a2d-90c2-a717c08e7bd1",
   "metadata": {},
   "outputs": [
    {
     "data": {
      "text/plain": [
       "count                                    33302\n",
       "unique                                   22015\n",
       "top       2669f722-ae95-4181-90a8-9c4755b7b29c\n",
       "freq                                       191\n",
       "Name: guid, dtype: object"
      ]
     },
     "execution_count": 145,
     "metadata": {},
     "output_type": "execute_result"
    }
   ],
   "source": [
    "popdis_hhrs_df['guid'].describe()"
   ]
  },
  {
   "cell_type": "code",
   "execution_count": 146,
   "id": "7224419a-4865-440b-a484-60c97a25a487",
   "metadata": {},
   "outputs": [],
   "source": [
    "dislocated_types = ['dislocated_flood_damage', 'dislocated_wind_damage', 'dislocated_surge_wave_damage', 'dislocated_combined_dmg']\n",
    "hhrs_dislocation_dataset_names = {}\n",
    "for dislocation in dislocated_types:\n",
    "    popdis_hhrs_df_temp = pd.DataFrame()\n",
    "    popdis_hhrs_df_temp = popdis_hhrs_df[['guid', 'huid', 'blockid', 'race', 'hispan', 'ownershp', dislocation]]\n",
    "    popdis_hhrs_df_temp = popdis_hhrs_df_temp.rename(columns={dislocation: 'dislocated'})\n",
    "    popdis_hhrs_df_temp['dislocated'] = popdis_hhrs_df_temp['dislocated'].astype(bool)\n",
    "    popdis_hhrs_dataset = Dataset.from_dataframe(popdis_hhrs_df_temp,\n",
    "                                             name=f\"popdis_hhrs_dataset_{dislocation}\",\n",
    "                                             data_type=\"incore:popDislocation\")\n",
    "    hhrs_dislocation_dataset_names[f\"popdis_hhrs_dataset_{dislocation}\"] = popdis_hhrs_dataset"
   ]
  },
  {
   "cell_type": "markdown",
   "metadata": {
    "collapsed": false
   },
   "source": [
    "<img src=\"https://ars.els-cdn.com/content/image/1-s2.0-S2772741623000388-gr6_lrg.jpg\" width=\"700\"/>"
   ]
  },
  {
   "cell_type": "markdown",
   "id": "123208de",
   "metadata": {
    "tags": []
   },
   "source": [
    "## 8. Housing Household Recovery Sequentials"
   ]
  },
  {
   "cell_type": "markdown",
   "id": "183e1e00",
   "metadata": {
    "tags": []
   },
   "source": [
    "### 8.1 Social vulnerabilities"
   ]
  },
  {
   "cell_type": "code",
   "execution_count": 147,
   "id": "6e95efbc-bfff-4cdf-a3f5-c4735d724c36",
   "metadata": {},
   "outputs": [],
   "source": [
    "# importing censusutils\n",
    "from pyincore_data.censusutil import CensusUtil"
   ]
  },
  {
   "cell_type": "code",
   "execution_count": 148,
   "id": "1872824a-3a73-4a26-8d6a-0f5469732c09",
   "metadata": {},
   "outputs": [],
   "source": [
    "# Parameters\n",
    "state = \"texas\"\n",
    "county = \"galveston\"\n",
    "year = 2019"
   ]
  },
  {
   "cell_type": "code",
   "execution_count": 149,
   "id": "1beddb67-a577-4448-bbe9-fa7b2115ceb0",
   "metadata": {},
   "outputs": [],
   "source": [
    "# get fips code to use fetch census data\n",
    "fips = CensusUtil.get_fips_by_state_county(state=state, county=county)\n",
    "state_code = fips[:2]\n",
    "county_code = fips[2:]"
   ]
  },
  {
   "cell_type": "code",
   "execution_count": 150,
   "id": "f7d3c61a-b156-43bb-85d9-bb1a1f06bdbf",
   "metadata": {},
   "outputs": [
    {
     "name": "stdout",
     "output_type": "stream",
     "text": [
      "csv saved as api_20231211-120109.csv\n",
      "csv saved as api_20231211-120109.csv\n",
      "csv saved as api_20231211-120110.csv\n",
      "csv saved as api_20231211-120111.csv\n",
      "csv saved as api_20231211-120112.csv\n",
      "csv saved as api_20231211-120113.csv\n",
      "csv saved as api_20231211-120114.csv\n",
      "csv saved as api_20231211-120115.csv\n",
      "csv saved as api_20231211-120117.csv\n",
      "csv saved as api_20231211-120118.csv\n"
     ]
    }
   ],
   "source": [
    "navs = CensusUtil.national_ave_values(year=year)\n",
    "national_vulnerability_feature_averages = Dataset.from_csv_data(navs, name=\"national_vulnerability_feature_averages.csv\",\n",
    "                                                                 data_type=\"incore:socialVulnerabilityFeatureAverages\")\n",
    "\n",
    "geo_type = \"block%20group:*\"\n",
    "# geo_type = \"tract:*\"\n",
    "social_vulnerability_dem_factors_df = CensusUtil.demographic_factors(state_code, county_code, year=year,\n",
    "                                                                      geo_type=geo_type)\n",
    "\n",
    "# Temp fix: remove bad data point\n",
    "social_vulnerability_dem_factors_df = social_vulnerability_dem_factors_df.dropna()\n",
    "\n",
    "social_vulnerability_dem_factors = Dataset.from_dataframe(social_vulnerability_dem_factors_df,\n",
    "                                                           name=\"social_vunlnerability_dem_factors\",\n",
    "                                                           data_type=\"incore:socialVulnerabilityDemFactors\")"
   ]
  },
  {
   "cell_type": "code",
   "execution_count": 151,
   "id": "cf28d307",
   "metadata": {},
   "outputs": [],
   "source": [
    "social_vulnerability = SocialVulnerability(client)\n",
    "\n",
    "social_vulnerability.set_parameter(\"result_name\", \"gal_social_vulnerabilty\")\n",
    "social_vulnerability.set_input_dataset(\"national_vulnerability_feature_averages\", national_vulnerability_feature_averages)\n",
    "social_vulnerability.set_input_dataset(\"social_vulnerability_demographic_factors\", social_vulnerability_dem_factors)\n",
    "\n",
    "social_vulnerability.run_analysis()\n",
    "sv_result = social_vulnerability.get_output_dataset(\"sv_result\")"
   ]
  },
  {
   "cell_type": "code",
   "execution_count": 152,
   "id": "308f5048-5221-4fca-b84b-3aea3f273aa7",
   "metadata": {},
   "outputs": [],
   "source": [
    "df = sv_result.get_dataframe_from_csv()"
   ]
  },
  {
   "cell_type": "markdown",
   "id": "6d697f61",
   "metadata": {},
   "source": [
    "### 8.2 Run simulation"
   ]
  },
  {
   "cell_type": "code",
   "execution_count": 153,
   "id": "9011551e",
   "metadata": {},
   "outputs": [
    {
     "name": "stdout",
     "output_type": "stream",
     "text": [
      "Dataset already exists locally. Reading from local cached zip.\n",
      "Unzipped folder found in the local cache. Reading from it...\n",
      "Dataset already exists locally. Reading from local cached zip.\n",
      "Unzipped folder found in the local cache. Reading from it...\n",
      "Dataset already exists locally. Reading from local cached zip.\n",
      "Unzipped folder found in the local cache. Reading from it...\n",
      "Dataset already exists locally. Reading from local cached zip.\n",
      "Unzipped folder found in the local cache. Reading from it...\n",
      "Dataset already exists locally. Reading from local cached zip.\n",
      "Unzipped folder found in the local cache. Reading from it...\n",
      "Dataset already exists locally. Reading from local cached zip.\n",
      "Unzipped folder found in the local cache. Reading from it...\n"
     ]
    }
   ],
   "source": [
    "# Population dislocation result aggregated to the block group level.\n",
    "# Transition probability matrix per social vulnerability level.\n",
    "transition_probability_matrix = \"60f5e2ae544e944c3cec0794\"\n",
    "# Initial mass probability function for stage 0.\n",
    "initial_probability_vector = \"60f5e918544e944c3cec668b\"\n",
    "\n",
    "# Create housing recovery instance\n",
    "housing_recovery = HousingRecoverySequential(client)\n",
    "\n",
    "# Load input datasets\n",
    "for keys, values in hhrs_dislocation_dataset_names.items():\n",
    "    housing_recovery.set_input_dataset(\"population_dislocation_block\", values)\n",
    "    housing_recovery.load_remote_input_dataset(\"tpm\", transition_probability_matrix)\n",
    "    housing_recovery.load_remote_input_dataset(\"initial_stage_probabilities\", initial_probability_vector) \n",
    "    \n",
    "    # Chain with SV output\n",
    "    housing_recovery.set_input_dataset('sv_result', sv_result)\n",
    "\n",
    "    # Initial value to seed the random number generator to ensure replication\n",
    "    seed = 1111\n",
    "    # A size of the analysis time step.\n",
    "    t_delta = 1.0\n",
    "    # Total duration.\n",
    "    t_final = 90.0    \n",
    "    \n",
    "\n",
    "\n",
    "    # Specify the result name\n",
    "    result_name = f\"housing_recovery_result_{keys}\"\n",
    "\n",
    "    # Set analysis parameters\n",
    "    housing_recovery.set_parameter(\"result_name\", result_name)\n",
    "    housing_recovery.set_parameter(\"seed\", seed)\n",
    "    housing_recovery.set_parameter(\"t_delta\", t_delta)\n",
    "    housing_recovery.set_parameter(\"t_final\", t_final)\n",
    "    housing_recovery.set_parameter(\"num_cpu\", 8)\n",
    "\n",
    "    housing_recovery.run()\n",
    "    \n",
    "    result = housing_recovery.get_output_dataset(\"ds_result\")\n",
    "    hh_stagehistory_df = result.get_dataframe_from_csv()\n",
    "    #timesteps = [\"1\", \"7\", \"13\", \"25\", \"85\"] # t0, t6, t12, t24, t84\n",
    "    timesteps = [\"1\", \"2\", \"3\", \"4\", \"5\", \"6\", \"7\", \"13\", \"25\", \"37\", \"49\", \"61\", \"73\", \"85\"]\n",
    "    HHRSOutputProcess.get_hhrs_stage_count(timesteps, hh_stagehistory_df,\n",
    "                                           filename_json=f\"hhrs_stage_count_{keys}.json\")\n"
   ]
  },
  {
   "cell_type": "code",
   "execution_count": 154,
   "id": "38b8a182-8d37-408b-ab68-211cd39aed16",
   "metadata": {},
   "outputs": [
    {
     "data": {
      "text/plain": [
       "count                                    33302\n",
       "unique                                   22015\n",
       "top       2669f722-ae95-4181-90a8-9c4755b7b29c\n",
       "freq                                       191\n",
       "Name: guid, dtype: object"
      ]
     },
     "execution_count": 154,
     "metadata": {},
     "output_type": "execute_result"
    }
   ],
   "source": [
    "hh_stagehistory_df['guid'].describe()"
   ]
  },
  {
   "cell_type": "markdown",
   "metadata": {
    "collapsed": false
   },
   "source": [
    "### 8.3 Results: multi-hazard"
   ]
  },
  {
   "cell_type": "markdown",
   "metadata": {
    "collapsed": false
   },
   "source": [
    "<img src=\"https://ars.els-cdn.com/content/image/1-s2.0-S2772741623000388-gr9_lrg.jpg\" width=\"700\"/>\n"
   ]
  },
  {
   "cell_type": "markdown",
   "metadata": {
    "collapsed": false
   },
   "source": [
    "### 8.3 Results: infrastructure"
   ]
  },
  {
   "cell_type": "markdown",
   "metadata": {
    "collapsed": false
   },
   "source": [
    "<img src=\"https://ars.els-cdn.com/content/image/1-s2.0-S2772741623000388-gr10_lrg.jpg\" width=\"700\"/>"
   ]
  }
 ],
 "metadata": {
  "kernelspec": {
   "display_name": "Python 3 (ipykernel)",
   "language": "python",
   "name": "python3"
  },
  "language_info": {
   "codemirror_mode": {
    "name": "ipython",
    "version": 3
   },
   "file_extension": ".py",
   "mimetype": "text/x-python",
   "name": "python",
   "nbconvert_exporter": "python",
   "pygments_lexer": "ipython3",
   "version": "3.9.7"
  }
 },
 "nbformat": 4,
 "nbformat_minor": 5
}
