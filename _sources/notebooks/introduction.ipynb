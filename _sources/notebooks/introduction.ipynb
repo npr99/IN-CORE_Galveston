{
 "cells": [
  {
   "cell_type": "markdown",
   "source": [
    "# Introduction\n",
    "\n",
    "Reference paper: [Multi-hazard socio-physical resilience assessment of hurricane-induced hazards on coastal communities](https://www.sciencedirect.com/science/article/pii/S2772741623000388)\n",
    "\n",
    "\n",
    "[Download Galveston Jupyter Notebook](https://github.com/npr99/IN-CORE_Galveston/blob/kooshan_main/jupyter_book/notebooks/complete_notebook.ipynb)\n",
    "\n",
    "\n",
    "\n",
    "\n",
    "\n"
   ],
   "metadata": {
    "collapsed": false
   }
  }
 ],
 "metadata": {
  "kernelspec": {
   "display_name": "Python 3",
   "language": "python",
   "name": "python3"
  },
  "language_info": {
   "codemirror_mode": {
    "name": "ipython",
    "version": 2
   },
   "file_extension": ".py",
   "mimetype": "text/x-python",
   "name": "python",
   "nbconvert_exporter": "python",
   "pygments_lexer": "ipython2",
   "version": "2.7.6"
  }
 },
 "nbformat": 4,
 "nbformat_minor": 0
}
