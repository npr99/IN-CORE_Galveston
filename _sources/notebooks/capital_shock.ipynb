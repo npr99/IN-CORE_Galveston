{
 "cells": [
  {
   "cell_type": "markdown",
   "source": [
    "## 6. Capital Shocks"
   ],
   "metadata": {
    "collapsed": false
   }
  },
  {
   "cell_type": "code",
   "execution_count": 109,
   "id": "1fada1a7",
   "metadata": {},
   "outputs": [
    {
     "name": "stdout",
     "output_type": "stream",
     "text": [
      "Dataset already exists locally. Reading from local cached zip.\n",
      "Unzipped folder found in the local cache. Reading from it...\n"
     ]
    },
    {
     "data": {
      "text/plain": "True"
     },
     "execution_count": 109,
     "metadata": {},
     "output_type": "execute_result"
    }
   ],
   "source": [
    "# Create Capital shocks analysis\n",
    "capital_shocks = CapitalShocks(client)\n",
    "building_to_sectors_id = \"640200da475d895dfc2de1bd\"\n",
    "# Load remote datasets\n",
    "capital_shocks.load_remote_input_dataset(\"buildings_to_sectors\", building_to_sectors_id)\n",
    "capital_shocks.load_remote_input_dataset(\"buildings\", bldg_dataset_id)\n",
    "capital_shocks.set_input_dataset(\"failure_probability\", gal_bldg_failure_probability)\n",
    "\n",
    "capital_shocks.set_parameter(\"result_name\", \"sector_shocks\") # name of csv file with results"
   ]
  },
  {
   "cell_type": "code",
   "execution_count": 110,
   "id": "9bbd01cd",
   "metadata": {},
   "outputs": [
    {
     "data": {
      "text/plain": "      sector     shock\n0       HS3I  0.242955\n1       HS2I  0.169600\n2       HS1I  0.255521\n3   IPROFSER  0.337676\n4    IRETAIL  0.305653\n5       IART  0.333373\n6      ICONS  0.240779\n7    IHEALTH  0.291747\n8     ITRANS  0.197728\n9     IREALE  0.426834\n10     IACCO  0.358318\n11     IUTIL  0.541621\n12    IAGMIN  0.102671\n13      IEDU  0.519007\n14    IWHOLE  0.083857\n15     IMANU  0.284975",
      "text/html": "<div>\n<style scoped>\n    .dataframe tbody tr th:only-of-type {\n        vertical-align: middle;\n    }\n\n    .dataframe tbody tr th {\n        vertical-align: top;\n    }\n\n    .dataframe thead th {\n        text-align: right;\n    }\n</style>\n<table border=\"1\" class=\"dataframe\">\n  <thead>\n    <tr style=\"text-align: right;\">\n      <th></th>\n      <th>sector</th>\n      <th>shock</th>\n    </tr>\n  </thead>\n  <tbody>\n    <tr>\n      <th>0</th>\n      <td>HS3I</td>\n      <td>0.242955</td>\n    </tr>\n    <tr>\n      <th>1</th>\n      <td>HS2I</td>\n      <td>0.169600</td>\n    </tr>\n    <tr>\n      <th>2</th>\n      <td>HS1I</td>\n      <td>0.255521</td>\n    </tr>\n    <tr>\n      <th>3</th>\n      <td>IPROFSER</td>\n      <td>0.337676</td>\n    </tr>\n    <tr>\n      <th>4</th>\n      <td>IRETAIL</td>\n      <td>0.305653</td>\n    </tr>\n    <tr>\n      <th>5</th>\n      <td>IART</td>\n      <td>0.333373</td>\n    </tr>\n    <tr>\n      <th>6</th>\n      <td>ICONS</td>\n      <td>0.240779</td>\n    </tr>\n    <tr>\n      <th>7</th>\n      <td>IHEALTH</td>\n      <td>0.291747</td>\n    </tr>\n    <tr>\n      <th>8</th>\n      <td>ITRANS</td>\n      <td>0.197728</td>\n    </tr>\n    <tr>\n      <th>9</th>\n      <td>IREALE</td>\n      <td>0.426834</td>\n    </tr>\n    <tr>\n      <th>10</th>\n      <td>IACCO</td>\n      <td>0.358318</td>\n    </tr>\n    <tr>\n      <th>11</th>\n      <td>IUTIL</td>\n      <td>0.541621</td>\n    </tr>\n    <tr>\n      <th>12</th>\n      <td>IAGMIN</td>\n      <td>0.102671</td>\n    </tr>\n    <tr>\n      <th>13</th>\n      <td>IEDU</td>\n      <td>0.519007</td>\n    </tr>\n    <tr>\n      <th>14</th>\n      <td>IWHOLE</td>\n      <td>0.083857</td>\n    </tr>\n    <tr>\n      <th>15</th>\n      <td>IMANU</td>\n      <td>0.284975</td>\n    </tr>\n  </tbody>\n</table>\n</div>"
     },
     "execution_count": 110,
     "metadata": {},
     "output_type": "execute_result"
    }
   ],
   "source": [
    "# Run capital shocks analysis\n",
    "capital_shocks.run_analysis()\n",
    "\n",
    "sector_shocks_result = capital_shocks.get_output_dataset(\"sector_shocks\")\n",
    "sector_shocks_result.get_dataframe_from_csv()"
   ]
  }
 ],
 "metadata": {
  "kernelspec": {
   "display_name": "Python 3 (ipykernel)",
   "language": "python",
   "name": "python3"
  },
  "language_info": {
   "codemirror_mode": {
    "name": "ipython",
    "version": 3
   },
   "file_extension": ".py",
   "mimetype": "text/x-python",
   "name": "python",
   "nbconvert_exporter": "python",
   "pygments_lexer": "ipython3",
   "version": "3.9.7"
  }
 },
 "nbformat": 4,
 "nbformat_minor": 5
}
