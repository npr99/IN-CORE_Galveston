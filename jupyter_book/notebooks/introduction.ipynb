{
 "cells": [
  {
   "cell_type": "markdown",
   "source": [
    "# Introduction\n",
    "\n",
    "This Jupyter Book, along with its comprehensive notebooks, serves as a practical extension and application of the research presented in the paper titled \"[Multi-hazard socio-physical resilience assessment of hurricane-induced hazards on coastal communities](https://www.sciencedirect.com/science/article/pii/S2772741623000388).\" The paper provides an in-depth analysis of the effects of hurricane-induced hazards on both the physical infrastructure and the social fabric of coastal communities. It emphasizes the intertwined nature of physical damage and socio-economic disruptions, highlighting the importance of considering both in resilience planning.\n",
    "\n",
    "The study introduces an integrated approach for quantifying socio-physical disruptions following multi-hazard events like hurricanes, focusing on the combined effects of wind, storm surge, and wave hazards. By employing high-resolution fragility models for buildings, power, and transportation infrastructures, it captures the multi-faceted impact of hurricanes on the built environment. Additionally, it examines recovery processes by tracking infrastructure network performance and projecting post-hazard population dislocation and the temporal evolution of housing and household recovery.\n",
    "\n",
    "The notebooks in this Jupyter Book replicate the simulations and analyses from the paper, allowing readers to delve deeply into the methodology and results. The sections of the notebook correspond to the different aspects of the study, providing a detailed walkthrough of the entire simulation process. For those interested in a hands-on experience, the complete Jupyter notebook is available for download. This offers an opportunity to independently conduct the simulations and validate the findings on local machines, facilitating a deeper understanding of the research's implications for coastal community resilience.\n",
    "\n",
    "[Download the Complete Jupyter Notebook](https://github.com/npr99/IN-CORE_Galveston/blob/kooshan_main/jupyter_book/notebooks/complete_notebook.ipynb) to explore and engage with the in-depth analysis of hurricane-induced socio-physical impacts on coastal communities.\n",
    "\n",
    "\n",
    "\n",
    "\n",
    "\n",
    "\n"
   ],
   "metadata": {
    "collapsed": false
   }
  }
 ],
 "metadata": {
  "kernelspec": {
   "display_name": "Python 3",
   "language": "python",
   "name": "python3"
  },
  "language_info": {
   "codemirror_mode": {
    "name": "ipython",
    "version": 2
   },
   "file_extension": ".py",
   "mimetype": "text/x-python",
   "name": "python",
   "nbconvert_exporter": "python",
   "pygments_lexer": "ipython2",
   "version": "2.7.6"
  }
 },
 "nbformat": 4,
 "nbformat_minor": 0
}
