{
 "cells": [
  {
   "cell_type": "markdown",
   "source": [
    "# Introduction\n",
    "\n",
    "Reference paper: [Multi-hazard socio-physical resilience assessment of hurricane-induced hazards on coastal communities](https://www.sciencedirect.com/science/article/pii/S2772741623000388)\n",
    "\n",
    "\n",
    "<a href=\"complete_notebook.ipynb\" download=\"Galveston_Jupyter_Notebook.ipynb\">Download Galveston Jupyter Notebook</a>\n",
    "\n"
   ],
   "metadata": {
    "collapsed": false
   }
  }
 ],
 "metadata": {
  "kernelspec": {
   "display_name": "Python 3",
   "language": "python",
   "name": "python3"
  },
  "language_info": {
   "codemirror_mode": {
    "name": "ipython",
    "version": 2
   },
   "file_extension": ".py",
   "mimetype": "text/x-python",
   "name": "python",
   "nbconvert_exporter": "python",
   "pygments_lexer": "ipython2",
   "version": "2.7.6"
  }
 },
 "nbformat": 4,
 "nbformat_minor": 0
}
