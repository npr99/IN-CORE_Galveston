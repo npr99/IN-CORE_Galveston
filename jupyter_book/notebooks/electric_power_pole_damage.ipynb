{
 "cells": [
  {
   "cell_type": "markdown",
   "id": "88a5d556",
   "metadata": {
    "tags": []
   },
   "source": [
    "## 3. Electric Power Pole Damage"
   ]
  },
  {
   "cell_type": "code",
   "execution_count": 100,
   "id": "ed824b73",
   "metadata": {},
   "outputs": [],
   "source": [
    "# EPF fragility mapping\n",
    "epf_mapping_id = \"62fac92ecef2881193f22613\"\n",
    "epf_mapping_set = MappingSet(fragility_service.get_mapping(epf_mapping_id))\n",
    "\n",
    "epf_dmg_hurricane_galveston = EpfDamage(client)\n",
    "epf_dmg_hurricane_galveston.load_remote_input_dataset(\"epfs\", \"62fc000f88470b319561b58d\")\n",
    "epf_dmg_hurricane_galveston.set_input_dataset('dfr3_mapping_set', epf_mapping_set)\n",
    "epf_dmg_hurricane_galveston.set_parameter(\"result_name\", \"Galveston-hurricane-epf-damage\")\n",
    "epf_dmg_hurricane_galveston.set_parameter(\"fragility_key\", \"Non-Retrofit Fragility ID Code\")\n",
    "epf_dmg_hurricane_galveston.set_parameter(\"hazard_type\", hazard_type)\n",
    "epf_dmg_hurricane_galveston.set_parameter(\"hazard_id\", hazard_id)\n",
    "epf_dmg_hurricane_galveston.set_parameter(\"num_cpu\", 8)\n",
    "\n",
    "# Run Analysis\n",
    "epf_dmg_hurricane_galveston.run_analysis()\n",
    "epf_dmg_result = epf_dmg_hurricane_galveston.get_output_dataset(\"result\")"
   ]
  }
 ],
 "metadata": {
  "kernelspec": {
   "display_name": "Python 3 (ipykernel)",
   "language": "python",
   "name": "python3"
  },
  "language_info": {
   "codemirror_mode": {
    "name": "ipython",
    "version": 3
   },
   "file_extension": ".py",
   "mimetype": "text/x-python",
   "name": "python",
   "nbconvert_exporter": "python",
   "pygments_lexer": "ipython3",
   "version": "3.9.7"
  }
 },
 "nbformat": 4,
 "nbformat_minor": 5
}
