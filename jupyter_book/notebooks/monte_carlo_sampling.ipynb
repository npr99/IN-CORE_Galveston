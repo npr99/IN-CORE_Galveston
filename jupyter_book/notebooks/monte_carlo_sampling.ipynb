{
 "cells": [
  {
   "cell_type": "markdown",
   "id": "9e8e1ca0",
   "metadata": {
    "tags": []
   },
   "source": [
    "## 4. Monte Carlo sampling"
   ]
  },
  {
   "cell_type": "markdown",
   "source": [
    "### 4.1 Buildings"
   ],
   "metadata": {
    "collapsed": false
   }
  },
  {
   "cell_type": "code",
   "execution_count": 101,
   "id": "f8699e6b",
   "metadata": {},
   "outputs": [
    {
     "data": {
      "text/plain": "                                   guid              failure\n0  f3a21b5f-0334-4d77-911f-faa9a45c92d7  1,1,0,1,1,1,1,1,1,0\n1  80ab0289-8c72-4699-b12b-08ef2f2a5c91  0,0,0,0,0,0,0,0,0,0\n2  7916eaa8-0bfa-4b32-84ff-20f19a520f5c  1,0,1,1,1,1,1,1,1,0\n3  79008971-a534-4e45-9e40-43a2a904e59b  1,1,1,1,0,0,0,1,1,0\n4  2ad8ab6f-057f-468e-9911-6e92d9d4d01f  1,1,0,1,1,1,1,0,1,0",
      "text/html": "<div>\n<style scoped>\n    .dataframe tbody tr th:only-of-type {\n        vertical-align: middle;\n    }\n\n    .dataframe tbody tr th {\n        vertical-align: top;\n    }\n\n    .dataframe thead th {\n        text-align: right;\n    }\n</style>\n<table border=\"1\" class=\"dataframe\">\n  <thead>\n    <tr style=\"text-align: right;\">\n      <th></th>\n      <th>guid</th>\n      <th>failure</th>\n    </tr>\n  </thead>\n  <tbody>\n    <tr>\n      <th>0</th>\n      <td>f3a21b5f-0334-4d77-911f-faa9a45c92d7</td>\n      <td>1,1,0,1,1,1,1,1,1,0</td>\n    </tr>\n    <tr>\n      <th>1</th>\n      <td>80ab0289-8c72-4699-b12b-08ef2f2a5c91</td>\n      <td>0,0,0,0,0,0,0,0,0,0</td>\n    </tr>\n    <tr>\n      <th>2</th>\n      <td>7916eaa8-0bfa-4b32-84ff-20f19a520f5c</td>\n      <td>1,0,1,1,1,1,1,1,1,0</td>\n    </tr>\n    <tr>\n      <th>3</th>\n      <td>79008971-a534-4e45-9e40-43a2a904e59b</td>\n      <td>1,1,1,1,0,0,0,1,1,0</td>\n    </tr>\n    <tr>\n      <th>4</th>\n      <td>2ad8ab6f-057f-468e-9911-6e92d9d4d01f</td>\n      <td>1,1,0,1,1,1,1,0,1,0</td>\n    </tr>\n  </tbody>\n</table>\n</div>"
     },
     "execution_count": 101,
     "metadata": {},
     "output_type": "execute_result"
    }
   ],
   "source": [
    "mc = MonteCarloFailureProbability(client)\n",
    "mc.set_input_dataset(\"damage\", combined_dmg)\n",
    "mc.set_parameter(\"result_name\", \"combined_bldg_mc\")\n",
    "mc.set_parameter(\"num_cpu\", 8)\n",
    "mc.set_parameter(\"num_samples\", 10)\n",
    "mc.set_parameter(\"damage_interval_keys\", [\"DS_0\", \"DS_1\", \"DS_2\", \"DS_3\"])\n",
    "mc.set_parameter(\"failure_state_keys\", [\"DS_1\", \"DS_2\", \"DS_3\"])\n",
    "mc.run_analysis()\n",
    "\n",
    "gal_bldg_damage_mcs_samples = mc.get_output_dataset('sample_failure_state')\n",
    "gal_bldg_damage_mcs_samples_df = gal_bldg_damage_mcs_samples.get_dataframe_from_csv()\n",
    "gal_bldg_damage_mcs_samples_df.head()"
   ]
  },
  {
   "cell_type": "markdown",
   "source": [
    "### 4.2 Electric power poles"
   ],
   "metadata": {
    "collapsed": false
   }
  },
  {
   "cell_type": "code",
   "execution_count": 102,
   "id": "46ed6e01",
   "metadata": {},
   "outputs": [],
   "source": [
    "gal_bldg_failure_probability = mc.get_output_dataset('failure_probability')  # get buildings failure probabilities"
   ]
  },
  {
   "cell_type": "code",
   "execution_count": 103,
   "id": "837544c4",
   "metadata": {},
   "outputs": [
    {
     "data": {
      "text/plain": "                                   guid              failure\n0  2525e200-cdc6-4fb8-9952-f17579176fd8  1,1,1,1,1,1,1,1,1,1\n1  9180f947-26ae-40bd-85f5-83a80525f6c8  1,1,1,1,1,1,1,1,1,1\n2  11ddc2dc-cc92-4c90-b4cc-a99b92a26f4b  1,1,1,1,1,1,1,1,1,1\n3  9e58f196-9a2c-40b1-b722-69fa9c53c9d4  1,1,1,1,1,1,1,1,1,1\n4  a4de2d54-b251-4a02-af0c-d12e0dc3670c  1,1,1,1,1,1,1,1,1,1",
      "text/html": "<div>\n<style scoped>\n    .dataframe tbody tr th:only-of-type {\n        vertical-align: middle;\n    }\n\n    .dataframe tbody tr th {\n        vertical-align: top;\n    }\n\n    .dataframe thead th {\n        text-align: right;\n    }\n</style>\n<table border=\"1\" class=\"dataframe\">\n  <thead>\n    <tr style=\"text-align: right;\">\n      <th></th>\n      <th>guid</th>\n      <th>failure</th>\n    </tr>\n  </thead>\n  <tbody>\n    <tr>\n      <th>0</th>\n      <td>2525e200-cdc6-4fb8-9952-f17579176fd8</td>\n      <td>1,1,1,1,1,1,1,1,1,1</td>\n    </tr>\n    <tr>\n      <th>1</th>\n      <td>9180f947-26ae-40bd-85f5-83a80525f6c8</td>\n      <td>1,1,1,1,1,1,1,1,1,1</td>\n    </tr>\n    <tr>\n      <th>2</th>\n      <td>11ddc2dc-cc92-4c90-b4cc-a99b92a26f4b</td>\n      <td>1,1,1,1,1,1,1,1,1,1</td>\n    </tr>\n    <tr>\n      <th>3</th>\n      <td>9e58f196-9a2c-40b1-b722-69fa9c53c9d4</td>\n      <td>1,1,1,1,1,1,1,1,1,1</td>\n    </tr>\n    <tr>\n      <th>4</th>\n      <td>a4de2d54-b251-4a02-af0c-d12e0dc3670c</td>\n      <td>1,1,1,1,1,1,1,1,1,1</td>\n    </tr>\n  </tbody>\n</table>\n</div>"
     },
     "execution_count": 103,
     "metadata": {},
     "output_type": "execute_result"
    }
   ],
   "source": [
    "mc = MonteCarloFailureProbability(client)\n",
    "mc.set_input_dataset(\"damage\", epf_dmg_result)\n",
    "mc.set_parameter(\"result_name\", \"epf_mc\")\n",
    "mc.set_parameter(\"num_cpu\", 8)\n",
    "mc.set_parameter(\"num_samples\", 10)\n",
    "mc.set_parameter(\"damage_interval_keys\", [\"DS_0\", \"DS_1\", \"DS_2\", \"DS_3\"])\n",
    "mc.set_parameter(\"failure_state_keys\", [\"DS_1\", \"DS_2\", \"DS_3\"])\n",
    "mc.run_analysis()\n",
    "\n",
    "gal_pole_damage_mcs_samples = mc.get_output_dataset('sample_failure_state')\n",
    "gal_pole_damage_mcs_samples_df = gal_pole_damage_mcs_samples.get_dataframe_from_csv()\n",
    "gal_pole_damage_mcs_samples_df.head()"
   ]
  }
 ],
 "metadata": {
  "kernelspec": {
   "display_name": "Python 3 (ipykernel)",
   "language": "python",
   "name": "python3"
  },
  "language_info": {
   "codemirror_mode": {
    "name": "ipython",
    "version": 3
   },
   "file_extension": ".py",
   "mimetype": "text/x-python",
   "name": "python",
   "nbconvert_exporter": "python",
   "pygments_lexer": "ipython3",
   "version": "3.9.7"
  }
 },
 "nbformat": 4,
 "nbformat_minor": 5
}
