{
 "cells": [
  {
   "cell_type": "markdown",
   "source": [
    "# Test 1"
   ],
   "metadata": {
    "collapsed": false
   }
  },
  {
   "cell_type": "code",
   "execution_count": null,
   "metadata": {
    "collapsed": true,
    "is_executing": true
   },
   "outputs": [],
   "source": [
    "from pyincore import IncoreClient\n",
    "\n",
    "# Request user to input their IN-CORE credentials\n",
    "username = input(\"Please enter your IN-CORE username: \")\n",
    "password = input(\"Please enter your IN-CORE password: \")\n",
    "\n",
    "# Test the credentials\n",
    "client = IncoreClient()\n",
    "\n",
    "# Print a success message if credentials are correct\n",
    "print(\"Successfully connected to IN-CORE!\")\n",
    "\n",
    "# Note: Ensure to handle any exceptions or errors related to incorrect credentials in the actual implementation.\n"
   ]
  },
  {
   "cell_type": "code",
   "execution_count": null,
   "outputs": [],
   "source": [],
   "metadata": {
    "collapsed": false
   }
  }
 ],
 "metadata": {
  "kernelspec": {
   "display_name": "Python 3",
   "language": "python",
   "name": "python3"
  },
  "language_info": {
   "codemirror_mode": {
    "name": "ipython",
    "version": 2
   },
   "file_extension": ".py",
   "mimetype": "text/x-python",
   "name": "python",
   "nbconvert_exporter": "python",
   "pygments_lexer": "ipython2",
   "version": "2.7.6"
  }
 },
 "nbformat": 4,
 "nbformat_minor": 0
}
