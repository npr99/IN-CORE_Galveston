{
 "cells": [
  {
   "cell_type": "markdown",
   "id": "9af06b02",
   "metadata": {},
   "source": [
    "## 7. Population dislocation"
   ]
  },
  {
   "cell_type": "markdown",
   "id": "86cd53cd",
   "metadata": {},
   "source": [
    "### 7.1 Setup general population data"
   ]
  },
  {
   "cell_type": "code",
   "execution_count": 111,
   "id": "c6a33928",
   "metadata": {},
   "outputs": [],
   "source": [
    "pop_dis = PopulationDislocation(client)\n",
    "value_loss = \"60354810e379f22e16560dbd\"\n",
    "bg_data = \"603545f2dcda03378087e708\"\n",
    "# hua_result_id = \"63ee615d62b9d001e6a2b660\" # city\n",
    "hua_result_id = \"63ff8e895367c2261b4cb2ef\" # island\n",
    "\n",
    "pop_dis.load_remote_input_dataset(\"block_group_data\", bg_data)\n",
    "pop_dis.load_remote_input_dataset(\"value_loss_param\", value_loss)\n",
    "pop_dis.load_remote_input_dataset(\"housing_unit_allocation\", hua_result_id)"
   ]
  },
  {
   "cell_type": "markdown",
   "id": "12d3fe62",
   "metadata": {},
   "source": [
    "### 7.2 Initial loop for dislocation\n",
    "The following code is used to create a set of dateframes for each hazard type and the combined damage. Each data frame has details on the population dislocation for the hazard."
   ]
  },
  {
   "cell_type": "code",
   "execution_count": 112,
   "id": "59decdc1",
   "metadata": {},
   "outputs": [
    {
     "name": "stdout",
     "output_type": "stream",
     "text": [
      "For flood_damage  10067  households are dislocated\n",
      "For wind_damage  14292  households are dislocated\n",
      "For surge_wave_damage  10007  households are dislocated\n",
      "For combined_dmg  14896  households are dislocated\n"
     ]
    }
   ],
   "source": [
    "# Create an empty dictionary to store the results\n",
    "popdis_results_df = {}\n",
    "popdis_results_df_mincols = {}\n",
    "damage_types = {\"flood_damage\" : flood_damage,\n",
    "                \"wind_damage\" : wind_damage,\n",
    "                \"surge_wave_damage\" : surge_wave_damage,\n",
    "                \"combined_dmg\" : combined_dmg}\n",
    "\n",
    "# loop through the damage types\n",
    "for damage, damage_result in damage_types.items():\n",
    "    pop_dis.set_input_dataset(\"building_dmg\", damage_result)\n",
    "\n",
    "    result_name = f\"galveston-pop-disl-results_{damage}\"\n",
    "    seed = 1111\n",
    "\n",
    "    pop_dis.set_parameter(\"result_name\", result_name)\n",
    "    pop_dis.set_parameter(\"seed\", seed)\n",
    "    pop_dis.run_analysis()\n",
    "\n",
    "    population_dislocation_result = pop_dis.get_output_dataset(\"result\")\n",
    "    popdis_results_df[damage] = population_dislocation_result.get_dataframe_from_csv(low_memory=False)\n",
    "\n",
    "    # Keep HUID, prdis and dislocated columns\n",
    "    popdis_results_df_mincols[damage] = popdis_results_df[damage][['guid','huid', 'prdis', 'dislocated']]\n",
    "\n",
    "    # Print the number of dislocated housholds by HUID\n",
    "    print(f\"For {damage} \",popdis_results_df_mincols[damage]['dislocated'].sum(), \" households are dislocated\")"
   ]
  },
  {
   "cell_type": "markdown",
   "id": "3748b15b",
   "metadata": {},
   "source": [
    "### 7.3 Clean and merge dislocation data\n",
    "The following code loops through the damage type dataframes, cleans up the columns and prepares the data for a merge."
   ]
  },
  {
   "cell_type": "code",
   "execution_count": 114,
   "id": "4cc9a707",
   "metadata": {},
   "outputs": [],
   "source": [
    "popdis_merge_df = {}\n",
    "# loop through the damage types\n",
    "for damage, damage_result in damage_types.items():\n",
    "    # Read in CSV and convert to dataframe\n",
    "    damage_df = damage_result.get_dataframe_from_csv(low_memory=False)\n",
    "    # For each damage type merge damage states and hazard exposure\n",
    "    popdis_merge_df[damage] = pd.merge(\n",
    "                                right = popdis_results_df_mincols[damage], \n",
    "                                left = damage_df[['guid','DS_0','DS_1','DS_2','DS_3','haz_expose']], \n",
    "                                left_on='guid', \n",
    "                                right_on='guid', \n",
    "                                how='right')\n",
    "\n",
    "    # flag observations with damage exposure\n",
    "    condition1 = (popdis_merge_df[damage]['haz_expose'] == 'yes')\n",
    "    popdis_merge_df[damage][f'{damage}_exp'] = np.where((condition1), 1, 0)\n",
    "\n",
    "    # flag observations that are not dislocated and DS_3 > .5\n",
    "    # households that do not dislocate but have a high probability of damage\n",
    "    condition1 = (popdis_merge_df[damage]['dislocated'] == 0)\n",
    "    condition2 = (popdis_merge_df[damage]['DS_3'] > .5)\n",
    "    popdis_merge_df[damage]['dsds3flag'] = np.where((condition1) & (condition2), 1, 0)\n",
    "\n",
    "    # flag observations that are dislocated and DS_0 > .5\n",
    "    # households that dislocate but have a low probability of damage\n",
    "    condition1 = (popdis_merge_df[damage]['dislocated'] == 1)\n",
    "    condition2 = (popdis_merge_df[damage]['DS_0'] > .5)\n",
    "    popdis_merge_df[damage]['dsds0flag'] = np.where((condition1) & (condition2), 1, 0)\n",
    "\n",
    "    # rename popdis_merge_df with damage type\n",
    "    popdis_merge_df[damage] = popdis_merge_df[damage].rename(columns={\"dsds3flag\" : f\"dsds3flag_{damage}\",\n",
    "                                                                     \"dsds0flag\" : f\"dsds0flag_{damage}\",\n",
    "                                                                     \"guid\" : f\"guid_{damage}\",\n",
    "                                                                     \"prdis\" : f\"prdis_{damage}\",\n",
    "                                                                     \"dislocated\" : f\"dislocated_{damage}\",\n",
    "                                                                     \"DS_0\": f\"DS_0_{damage}\",\n",
    "                                                                     \"DS_1\": f\"DS_1_{damage}\",  \n",
    "                                                                     \"DS_2\": f\"DS_2_{damage}\",\n",
    "                                                                     \"DS_3\": f\"DS_3_{damage}\",\n",
    "                                                                     \"haz_expose\": f\"haz_expose_{damage}\"})\n",
    "\n",
    "   \n",
    "\n",
    "# merge all the damage types\n",
    "popdis_multihazard_df = pd.merge(right = popdis_merge_df['flood_damage'],\n",
    "                                    left = popdis_merge_df['wind_damage'],\n",
    "                                    left_on='huid',\n",
    "                                    right_on='huid',\n",
    "                                    how='outer')\n",
    "popdis_multihazard_df = pd.merge(right = popdis_multihazard_df,\n",
    "                                    left = popdis_merge_df['surge_wave_damage'],\n",
    "                                    left_on='huid',\n",
    "                                    right_on='huid',\n",
    "                                    how='outer')                              \n",
    "popdis_multihazard_df = pd.merge(right = popdis_multihazard_df,\n",
    "                                    left = popdis_merge_df['combined_dmg'],\n",
    "                                    left_on='huid',\n",
    "                                    right_on='huid',\n",
    "                                    how='outer')\n",
    "# drop all the guid columns and rename guid_x to guid\n",
    "popdis_multihazard_df = popdis_multihazard_df.drop(columns=['guid_flood_damage','guid_wind_damage','guid_surge_wave_damage'])\n",
    "popdis_multihazard_df = popdis_multihazard_df.rename(columns={\"guid_combined_dmg\" : \"guid\"})   "
   ]
  },
  {
   "cell_type": "code",
   "execution_count": 118,
   "id": "5872973f",
   "metadata": {},
   "outputs": [
    {
     "data": {
      "text/plain": "Index(['guid', 'DS_0_combined_dmg', 'DS_1_combined_dmg', 'DS_2_combined_dmg',\n       'DS_3_combined_dmg', 'haz_expose_combined_dmg', 'huid',\n       'prdis_combined_dmg', 'dislocated_combined_dmg', 'combined_dmg_exp',\n       'dsds3flag_combined_dmg', 'dsds0flag_combined_dmg',\n       'DS_0_surge_wave_damage', 'DS_1_surge_wave_damage',\n       'DS_2_surge_wave_damage', 'DS_3_surge_wave_damage',\n       'haz_expose_surge_wave_damage', 'prdis_surge_wave_damage',\n       'dislocated_surge_wave_damage', 'surge_wave_damage_exp',\n       'dsds3flag_surge_wave_damage', 'dsds0flag_surge_wave_damage',\n       'DS_0_wind_damage', 'DS_1_wind_damage', 'DS_2_wind_damage',\n       'DS_3_wind_damage', 'haz_expose_wind_damage', 'prdis_wind_damage',\n       'dislocated_wind_damage', 'wind_damage_exp', 'dsds3flag_wind_damage',\n       'dsds0flag_wind_damage', 'DS_0_flood_damage', 'DS_1_flood_damage',\n       'DS_2_flood_damage', 'DS_3_flood_damage', 'haz_expose_flood_damage',\n       'prdis_flood_damage', 'dislocated_flood_damage', 'flood_damage_exp',\n       'dsds3flag_flood_damage', 'dsds0flag_flood_damage'],\n      dtype='object')"
     },
     "execution_count": 118,
     "metadata": {},
     "output_type": "execute_result"
    }
   ],
   "source": [
    "popdis_multihazard_df.columns\n",
    "#popdis_multihazard_df.to_csv('./output/building/dislocation_results/dislocation_building.csv', index=False)"
   ]
  },
  {
   "cell_type": "markdown",
   "id": "6b64952f",
   "metadata": {
    "tags": []
   },
   "source": [
    "### 7.4 Merge in infrastructure analyses on transportation and power"
   ]
  },
  {
   "cell_type": "code",
   "execution_count": 121,
   "id": "0db9df8d",
   "metadata": {},
   "outputs": [
    {
     "data": {
      "text/plain": "                                       guid  average_power_back_time  \\\n0      7916eaa8-0bfa-4b32-84ff-20f19a520f5c                    0.000   \n1      42167885-ea18-41b4-be8c-5c09c330d312                    5.836   \n2      3dab0b4b-42eb-4df6-a5e1-c1882df41704                    0.000   \n3      e474c4ef-a091-47ab-85b4-ef0459e37834                    0.000   \n73     335d18da-7a60-4f4d-8c97-d35e0f3a1360                    0.000   \n...                                     ...                      ...   \n33297  7a415cb6-d212-450b-b139-f005c89b9656                    0.000   \n33298  74e5fedf-9e22-4434-9128-65ca793df7d2                    0.000   \n33299  1ac5be10-582c-46b2-91ed-469f684bb886                    0.000   \n33300  fbcfb6d6-de13-42fa-9839-d7c80afc651d                    0.000   \n33301  2ee961c9-cd94-499e-b1fe-3e0220a440ea                    0.000   \n\n       average_transpo_back_time  \n0                            0.0  \n1                            0.0  \n2                            0.0  \n3                            0.0  \n73                           0.0  \n...                          ...  \n33297                        0.0  \n33298                        0.0  \n33299                        0.0  \n33300                        0.0  \n33301                        0.0  \n\n[22015 rows x 3 columns]",
      "text/html": "<div>\n<style scoped>\n    .dataframe tbody tr th:only-of-type {\n        vertical-align: middle;\n    }\n\n    .dataframe tbody tr th {\n        vertical-align: top;\n    }\n\n    .dataframe thead th {\n        text-align: right;\n    }\n</style>\n<table border=\"1\" class=\"dataframe\">\n  <thead>\n    <tr style=\"text-align: right;\">\n      <th></th>\n      <th>guid</th>\n      <th>average_power_back_time</th>\n      <th>average_transpo_back_time</th>\n    </tr>\n  </thead>\n  <tbody>\n    <tr>\n      <th>0</th>\n      <td>7916eaa8-0bfa-4b32-84ff-20f19a520f5c</td>\n      <td>0.000</td>\n      <td>0.0</td>\n    </tr>\n    <tr>\n      <th>1</th>\n      <td>42167885-ea18-41b4-be8c-5c09c330d312</td>\n      <td>5.836</td>\n      <td>0.0</td>\n    </tr>\n    <tr>\n      <th>2</th>\n      <td>3dab0b4b-42eb-4df6-a5e1-c1882df41704</td>\n      <td>0.000</td>\n      <td>0.0</td>\n    </tr>\n    <tr>\n      <th>3</th>\n      <td>e474c4ef-a091-47ab-85b4-ef0459e37834</td>\n      <td>0.000</td>\n      <td>0.0</td>\n    </tr>\n    <tr>\n      <th>73</th>\n      <td>335d18da-7a60-4f4d-8c97-d35e0f3a1360</td>\n      <td>0.000</td>\n      <td>0.0</td>\n    </tr>\n    <tr>\n      <th>...</th>\n      <td>...</td>\n      <td>...</td>\n      <td>...</td>\n    </tr>\n    <tr>\n      <th>33297</th>\n      <td>7a415cb6-d212-450b-b139-f005c89b9656</td>\n      <td>0.000</td>\n      <td>0.0</td>\n    </tr>\n    <tr>\n      <th>33298</th>\n      <td>74e5fedf-9e22-4434-9128-65ca793df7d2</td>\n      <td>0.000</td>\n      <td>0.0</td>\n    </tr>\n    <tr>\n      <th>33299</th>\n      <td>1ac5be10-582c-46b2-91ed-469f684bb886</td>\n      <td>0.000</td>\n      <td>0.0</td>\n    </tr>\n    <tr>\n      <th>33300</th>\n      <td>fbcfb6d6-de13-42fa-9839-d7c80afc651d</td>\n      <td>0.000</td>\n      <td>0.0</td>\n    </tr>\n    <tr>\n      <th>33301</th>\n      <td>2ee961c9-cd94-499e-b1fe-3e0220a440ea</td>\n      <td>0.000</td>\n      <td>0.0</td>\n    </tr>\n  </tbody>\n</table>\n<p>22015 rows × 3 columns</p>\n</div>"
     },
     "execution_count": 121,
     "metadata": {},
     "output_type": "execute_result"
    }
   ],
   "source": [
    "# read in insfrastructure result from a CSV file\n",
    "networkdamage_df = pd.read_csv(\"./output/final_inf_result/final_df_with_building.csv\")\n",
    "\n",
    "# for network df keep only the first unique guid - todo: This probably needs to be changed\n",
    "networkdamage_df = networkdamage_df.drop_duplicates(subset=['guid'], keep='first')\n",
    "networkdamage_df['guid'].describe()\n",
    "\n",
    "# keep guid, power_back_time, transpo_back_time\n",
    "networkdamage_df = networkdamage_df[['guid','average_power_back_time','average_transpo_back_time']]\n",
    "\n",
    "# Considering with and without power/transpo in the next analyses\n",
    "#networkdamage_df['average_transpo_back_time'] = 0.0   # Uncomment to exclude the impact of transportation on population displacement.\n",
    "#networkdamage_df['average_power_back_time'] = 0.0   # Uncomment to exclude the impact of power on population displacement.\n",
    "networkdamage_df"
   ]
  },
  {
   "cell_type": "markdown",
   "source": [
    "<img src=\"https://ars.els-cdn.com/content/image/1-s2.0-S2772741623000388-gr7_lrg.jpg\" width=\"700\"/>\n"
   ],
   "metadata": {
    "collapsed": false
   }
  },
  {
   "cell_type": "code",
   "execution_count": 122,
   "id": "eca9ab58",
   "metadata": {},
   "outputs": [
    {
     "data": {
      "text/plain": "count                                    22015\nunique                                   22015\ntop       7916eaa8-0bfa-4b32-84ff-20f19a520f5c\nfreq                                         1\nName: guid, dtype: object"
     },
     "execution_count": 122,
     "metadata": {},
     "output_type": "execute_result"
    }
   ],
   "source": [
    "networkdamage_df['guid'].describe()"
   ]
  },
  {
   "cell_type": "code",
   "execution_count": 123,
   "id": "a5cddf7e",
   "metadata": {},
   "outputs": [
    {
     "data": {
      "text/plain": "count                                    33302\nunique                                   22015\ntop       2669f722-ae95-4181-90a8-9c4755b7b29c\nfreq                                       191\nName: guid, dtype: object"
     },
     "execution_count": 123,
     "metadata": {},
     "output_type": "execute_result"
    }
   ],
   "source": [
    "popdis_multihazard_df['guid'].describe()"
   ]
  },
  {
   "cell_type": "code",
   "execution_count": 124,
   "id": "7a8e695f",
   "metadata": {},
   "outputs": [
    {
     "data": {
      "text/plain": "count                                    33302\nunique                                   22015\ntop       2669f722-ae95-4181-90a8-9c4755b7b29c\nfreq                                       191\nName: guid, dtype: object"
     },
     "execution_count": 124,
     "metadata": {},
     "output_type": "execute_result"
    }
   ],
   "source": [
    "# merge network damage with popdis_multihazard_df by guid\n",
    "popdis_multihazard_network_df = pd.merge(right = popdis_multihazard_df,\n",
    "                                    left = networkdamage_df,\n",
    "                                    left_on='guid',\n",
    "                                    right_on='guid',\n",
    "                                    how='inner')\n",
    "popdis_multihazard_network_df['guid'].describe()"
   ]
  },
  {
   "cell_type": "markdown",
   "id": "15c935e1",
   "metadata": {},
   "source": [
    "### 7.5 Add Flag for Power Outage and Road Closure\n",
    "- Choosing cutoffs for 3 days without power and 7 days without road access.\n",
    "- These cutoffs are expert judgments and could be changed."
   ]
  },
  {
   "cell_type": "code",
   "execution_count": 126,
   "id": "17ba1933",
   "metadata": {},
   "outputs": [],
   "source": [
    "# If the power_back_time greater than 7 days then dislocated_power = 1\n",
    "condition1 = (popdis_multihazard_network_df['average_power_back_time'] > 3)\n",
    "popdis_multihazard_network_df['powerflag'] = np.where((condition1), 1, 0)\n",
    "\n",
    "# if transpo_back_time greater than 14 days then dislocated_transpo = 1\n",
    "condition1 = (popdis_multihazard_network_df['average_transpo_back_time'] > 7)\n",
    "popdis_multihazard_network_df['transpoflag'] = np.where((condition1), 1, 0)"
   ]
  },
  {
   "cell_type": "code",
   "execution_count": 127,
   "id": "d3def307",
   "metadata": {},
   "outputs": [
    {
     "name": "stdout",
     "output_type": "stream",
     "text": [
      "flood_damage Number of households with hazard exposure: 32964\n",
      "flood_damage Total number of dislocated households: 10067\n",
      "flood_damage Number of households that dislocate but have a low probability of damage: 1190\n",
      "flood_damage Number of households that do not dislocate and have no power: 4821\n",
      "flood_damage Number of households that do not dislocate and have no connectivity to mainland: 5581\n",
      "flood_damage Number of households with safe occupancy: 25638\n",
      "wind_damage Number of households with hazard exposure: 33295\n",
      "wind_damage Total number of dislocated households: 14292\n",
      "wind_damage Number of households that dislocate but have a low probability of damage: 1989\n",
      "wind_damage Number of households that do not dislocate and have no power: 3307\n",
      "wind_damage Number of households that do not dislocate and have no connectivity to mainland: 3802\n",
      "wind_damage Number of households with safe occupancy: 26749\n",
      "surge_wave_damage Number of households with hazard exposure: 30463\n",
      "surge_wave_damage Total number of dislocated households: 10007\n",
      "surge_wave_damage Number of households that dislocate but have a low probability of damage: 1391\n",
      "surge_wave_damage Number of households that do not dislocate and have no power: 4514\n",
      "surge_wave_damage Number of households that do not dislocate and have no connectivity to mainland: 5372\n",
      "surge_wave_damage Number of households with safe occupancy: 25756\n",
      "combined_dmg Number of households with hazard exposure: 33295\n",
      "combined_dmg Total number of dislocated households: 14896\n",
      "combined_dmg Number of households that dislocate but have a low probability of damage: 1333\n",
      "combined_dmg Number of households that do not dislocate and have no power: 3142\n",
      "combined_dmg Number of households that do not dislocate and have no connectivity to mainland: 3655\n",
      "combined_dmg Number of households with safe occupancy: 27506\n"
     ]
    }
   ],
   "source": [
    "# loop through the damage types\n",
    "for damage, damage_result in damage_types.items():\n",
    "    # add case where dislocated = 0 but dislocated_power == 1\n",
    "    condition1 = (popdis_multihazard_network_df[f'dislocated_{damage}'] == 0)\n",
    "    condition2 = (popdis_multihazard_network_df['powerflag'] == 1)\n",
    "    popdis_multihazard_network_df[f'powerflag_{damage}'] = \\\n",
    "        np.where((condition1) & (condition2), 1, 0)\n",
    "    \n",
    "    # add case where dislocated = 0 but dislocated_transpo == 1\n",
    "    condition1 = (popdis_multihazard_network_df[f'dislocated_{damage}'] == 0)\n",
    "    condition2 = (popdis_multihazard_network_df['transpoflag'] == 1)\n",
    "    popdis_multihazard_network_df[f'transpoflag_{damage}'] = \\\n",
    "        np.where((condition1) & (condition2), 1, 0)\n",
    "    \n",
    "    # identify safe occupany housholds no flags \n",
    "    condition1 = (popdis_multihazard_network_df[f'dsds3flag_{damage}'] == 0)\n",
    "    condition2 = (popdis_multihazard_network_df[f'dsds0flag_{damage}'] == 0)\n",
    "    condition3 = (popdis_multihazard_network_df[f'powerflag_{damage}'] == 0)\n",
    "    condition4 = (popdis_multihazard_network_df[f'transpoflag_{damage}'] == 0)\n",
    "    popdis_multihazard_network_df[f'safeflag_{damage}'] = \\\n",
    "        np.where((condition1) & (condition2) & (condition3) & (condition4), 1, 0)\n",
    "\n",
    "    # how many households have hazard exposure = yes\n",
    "    hazexpose = popdis_multihazard_network_df[f'{damage}_exp'].sum()\n",
    "    # how many households have dsds0flag or dsds3flag true\n",
    "    totaldislocation = popdis_multihazard_network_df[f'dislocated_{damage}'].sum()\n",
    "    choicedislocation = popdis_multihazard_network_df[f'dsds0flag_{damage}'].sum()\n",
    "    hazardnondislocation = popdis_multihazard_network_df[f'dsds3flag_{damage}'].sum()\n",
    "    nopower_nodislocation = popdis_multihazard_network_df[f'powerflag_{damage}'].sum()\n",
    "    notranspo_nodislocation = popdis_multihazard_network_df[f'transpoflag_{damage}'].sum()\n",
    "    safe_occupancy = popdis_multihazard_network_df[f'safeflag_{damage}'].sum()\n",
    "    print(f\"{damage} Number of households with hazard exposure: {hazexpose}\")\n",
    "    print(f\"{damage} Total number of dislocated households: {totaldislocation}\")\n",
    "    print(f\"{damage} Number of households that dislocate but have a low probability of damage: {choicedislocation}\")\n",
    "    print(f\"{damage} Number of households that do not dislocate and have no power: {nopower_nodislocation}\")\n",
    "    print(f\"{damage} Number of households that do not dislocate and have no connectivity to mainland: {notranspo_nodislocation}\")\n",
    "    print(f\"{damage} Number of households with safe occupancy: {safe_occupancy}\")"
   ]
  },
  {
   "cell_type": "markdown",
   "id": "f8990799",
   "metadata": {},
   "source": [
    "### 7.6 Modify dislocation for HHSR\n",
    "The HHSR model assumes that if a household dislocates then the structure is not safe to occupy and will take time to recover. However, the dislocation model has households that dislocate but the structure has a high probability of being safe to occupy. Vice versa, the model also has households that do not dislcate but the structure has a high probability of being unsafe to occupy.\n",
    "\n",
    "If a household has choice dislocation (dsds0flag_) then dislocation should be set to 0. \n",
    "\n",
    "If a household has unsafe occupancy (dsds3flag_) then dislocation should be set to 1."
   ]
  },
  {
   "cell_type": "code",
   "execution_count": 138,
   "id": "be72da00",
   "metadata": {},
   "outputs": [],
   "source": [
    "popdis_hhrs_df = popdis_multihazard_network_df.copy()"
   ]
  },
  {
   "cell_type": "code",
   "execution_count": 139,
   "id": "c4ac3f35",
   "metadata": {},
   "outputs": [
    {
     "name": "stdout",
     "output_type": "stream",
     "text": [
      "flood_damage Swith Choice Dislocation Total number of dislocated households: 10067 8877\n",
      "flood_damage Switch unsafe occupancy Total number of dislocated households: 8877 8971\n",
      "wind_damage Swith Choice Dislocation Total number of dislocated households: 14292 12303\n",
      "wind_damage Switch unsafe occupancy Total number of dislocated households: 12303 12715\n",
      "surge_wave_damage Swith Choice Dislocation Total number of dislocated households: 10007 8616\n",
      "surge_wave_damage Switch unsafe occupancy Total number of dislocated households: 8616 8909\n",
      "combined_dmg Swith Choice Dislocation Total number of dislocated households: 14896 13563\n",
      "combined_dmg Switch unsafe occupancy Total number of dislocated households: 13563 14288\n"
     ]
    }
   ],
   "source": [
    "# loop through the damage types\n",
    "for damage, damage_result in damage_types.items():\n",
    "    # update dislocation if dsds0flag_ = 1\n",
    "    totaldislocation1 = popdis_hhrs_df[f'dislocated_{damage}'].sum()\n",
    "    condition1 = (popdis_hhrs_df[f'dsds0flag_{damage}'] == 1)\n",
    "    popdis_hhrs_df[f'dislocated_{damage}'] = \\\n",
    "        np.where((condition1), 0, popdis_hhrs_df[f'dislocated_{damage}'])\n",
    "    totaldislocation2 = popdis_hhrs_df[f'dislocated_{damage}'].sum()\n",
    "    print(f\"{damage} Swith Choice Dislocation Total number of dislocated households: {totaldislocation1} {totaldislocation2}\")\n",
    "\n",
    "    # update dislocation if dsds3flag_ = 1\n",
    "    totaldislocation1 = popdis_hhrs_df[f'dislocated_{damage}'].sum()\n",
    "    condition1 = (popdis_hhrs_df[f'dsds3flag_{damage}'] == 1)\n",
    "    popdis_hhrs_df[f'dislocated_{damage}'] = \\\n",
    "        np.where((condition1), 1, popdis_hhrs_df[f'dislocated_{damage}'])\n",
    "    totaldislocation2 = popdis_hhrs_df[f'dislocated_{damage}'].sum()\n",
    "    print(f\"{damage} Switch unsafe occupancy Total number of dislocated households: {totaldislocation1} {totaldislocation2}\")\n"
   ]
  },
  {
   "cell_type": "code",
   "execution_count": 141,
   "id": "c96cfcc9",
   "metadata": {},
   "outputs": [
    {
     "data": {
      "text/plain": "Index(['guid', 'average_power_back_time', 'average_transpo_back_time',\n       'DS_0_combined_dmg', 'DS_1_combined_dmg', 'DS_2_combined_dmg',\n       'DS_3_combined_dmg', 'haz_expose_combined_dmg', 'huid',\n       'prdis_combined_dmg', 'dislocated_combined_dmg', 'combined_dmg_exp',\n       'dsds3flag_combined_dmg', 'dsds0flag_combined_dmg',\n       'DS_0_surge_wave_damage', 'DS_1_surge_wave_damage',\n       'DS_2_surge_wave_damage', 'DS_3_surge_wave_damage',\n       'haz_expose_surge_wave_damage', 'prdis_surge_wave_damage',\n       'dislocated_surge_wave_damage', 'surge_wave_damage_exp',\n       'dsds3flag_surge_wave_damage', 'dsds0flag_surge_wave_damage',\n       'DS_0_wind_damage', 'DS_1_wind_damage', 'DS_2_wind_damage',\n       'DS_3_wind_damage', 'haz_expose_wind_damage', 'prdis_wind_damage',\n       'dislocated_wind_damage', 'wind_damage_exp', 'dsds3flag_wind_damage',\n       'dsds0flag_wind_damage', 'DS_0_flood_damage', 'DS_1_flood_damage',\n       'DS_2_flood_damage', 'DS_3_flood_damage', 'haz_expose_flood_damage',\n       'prdis_flood_damage', 'dislocated_flood_damage', 'flood_damage_exp',\n       'dsds3flag_flood_damage', 'dsds0flag_flood_damage', 'powerflag',\n       'transpoflag', 'powerflag_flood_damage', 'transpoflag_flood_damage',\n       'safeflag_flood_damage', 'powerflag_wind_damage',\n       'transpoflag_wind_damage', 'safeflag_wind_damage',\n       'powerflag_surge_wave_damage', 'transpoflag_surge_wave_damage',\n       'safeflag_surge_wave_damage', 'powerflag_combined_dmg',\n       'transpoflag_combined_dmg', 'safeflag_combined_dmg'],\n      dtype='object')"
     },
     "execution_count": 141,
     "metadata": {},
     "output_type": "execute_result"
    }
   ],
   "source": [
    "popdis_hhrs_df.columns"
   ]
  },
  {
   "cell_type": "code",
   "execution_count": 142,
   "outputs": [
    {
     "name": "stdout",
     "output_type": "stream",
     "text": [
      "flood_damage Total number of dislocated households without and with power and tranportation effects: 8971 15351\n",
      "wind_damage Total number of dislocated households without and with power and tranportation effects: 12715 16867\n",
      "surge_wave_damage Total number of dislocated households without and with power and tranportation effects: 8909 14771\n",
      "combined_dmg Total number of dislocated households without and with power and tranportation effects: 14288 18026\n"
     ]
    }
   ],
   "source": [
    "# loop through the damage types to consider dislocation due to power outage and road closure\n",
    "for damage, damage_result in damage_types.items():\n",
    "    # update dislocation if powerflag & transpoflag = 1\n",
    "    totaldislocation1 = popdis_hhrs_df[f'dislocated_{damage}'].sum()\n",
    "    condition1 = (popdis_hhrs_df[f'powerflag_{damage}'] == 1)\n",
    "    condition2 = (popdis_hhrs_df[f'transpoflag_{damage}'] == 1)\n",
    "    popdis_hhrs_df[f'dislocated_{damage}'] = \\\n",
    "        np.where(((condition1) | (condition2)), 1, popdis_hhrs_df[f'dislocated_{damage}'])\n",
    "    totaldislocation2 = popdis_hhrs_df[f'dislocated_{damage}'].sum()\n",
    "    print(f\"{damage} Total number of dislocated households without and with power and tranportation effects: {totaldislocation1} {totaldislocation2}\")"
   ],
   "metadata": {
    "collapsed": false
   }
  },
  {
   "cell_type": "code",
   "execution_count": 143,
   "id": "cdddb7fa",
   "metadata": {},
   "outputs": [
    {
     "data": {
      "text/plain": "Index(['guid', 'average_power_back_time', 'average_transpo_back_time', 'huid',\n       'dislocated_combined_dmg', 'dislocated_surge_wave_damage',\n       'dislocated_wind_damage', 'dislocated_flood_damage'],\n      dtype='object')"
     },
     "execution_count": 143,
     "metadata": {},
     "output_type": "execute_result"
    }
   ],
   "source": [
    "# Keep only columns needed for HHSR\n",
    "# drop all columns with flag\n",
    "popdis_hhrs_df = popdis_hhrs_df[popdis_hhrs_df.columns.drop(list(popdis_hhrs_df.filter(regex='flag')))]\n",
    "# drop all columns with DS\n",
    "popdis_hhrs_df = popdis_hhrs_df[popdis_hhrs_df.columns.drop(list(popdis_hhrs_df.filter(regex='DS')))]\n",
    "# drop all columns with prdis\n",
    "popdis_hhrs_df = popdis_hhrs_df[popdis_hhrs_df.columns.drop(list(popdis_hhrs_df.filter(regex='prdis')))]\n",
    "# drop all columns with haz_expose\n",
    "popdis_hhrs_df = popdis_hhrs_df[popdis_hhrs_df.columns.drop(list(popdis_hhrs_df.filter(regex='haz_expose')))]\n",
    "# drop all columns with exp\n",
    "popdis_hhrs_df = popdis_hhrs_df[popdis_hhrs_df.columns.drop(list(popdis_hhrs_df.filter(regex='exp')))]\n",
    "# Drop column named dislocated \n",
    "# popdis_hhrs_df = popdis_hhrs_df.drop(columns=['dislocated'])\n",
    "popdis_hhrs_df.columns"
   ]
  },
  {
   "cell_type": "code",
   "execution_count": 144,
   "id": "c1f4723a-0aee-4314-a139-8ebdae7e340d",
   "metadata": {},
   "outputs": [],
   "source": [
    "# Adding required columns for running the HHRS model from IN-CORE \n",
    "# HHRS code in IN-CORE needs to be edited; race, hispan, ownershp data is no more required\n",
    "popdis_hhrs_df = pd.merge(right = popdis_results_df[damage][['huid','blockid', 'race', 'hispan', 'ownershp']],\n",
    "                          left = popdis_hhrs_df,\n",
    "                          left_on='huid',\n",
    "                          right_on='huid',\n",
    "                          how='inner')"
   ]
  },
  {
   "cell_type": "code",
   "execution_count": 145,
   "id": "87945c50-828a-4a2d-90c2-a717c08e7bd1",
   "metadata": {},
   "outputs": [
    {
     "data": {
      "text/plain": "count                                    33302\nunique                                   22015\ntop       2669f722-ae95-4181-90a8-9c4755b7b29c\nfreq                                       191\nName: guid, dtype: object"
     },
     "execution_count": 145,
     "metadata": {},
     "output_type": "execute_result"
    }
   ],
   "source": [
    "popdis_hhrs_df['guid'].describe()"
   ]
  },
  {
   "cell_type": "code",
   "execution_count": 146,
   "id": "7224419a-4865-440b-a484-60c97a25a487",
   "metadata": {},
   "outputs": [],
   "source": [
    "dislocated_types = ['dislocated_flood_damage', 'dislocated_wind_damage', 'dislocated_surge_wave_damage', 'dislocated_combined_dmg']\n",
    "hhrs_dislocation_dataset_names = {}\n",
    "for dislocation in dislocated_types:\n",
    "    popdis_hhrs_df_temp = pd.DataFrame()\n",
    "    popdis_hhrs_df_temp = popdis_hhrs_df[['guid', 'huid', 'blockid', 'race', 'hispan', 'ownershp', dislocation]]\n",
    "    popdis_hhrs_df_temp = popdis_hhrs_df_temp.rename(columns={dislocation: 'dislocated'})\n",
    "    popdis_hhrs_df_temp['dislocated'] = popdis_hhrs_df_temp['dislocated'].astype(bool)\n",
    "    popdis_hhrs_dataset = Dataset.from_dataframe(popdis_hhrs_df_temp,\n",
    "                                             name=f\"popdis_hhrs_dataset_{dislocation}\",\n",
    "                                             data_type=\"incore:popDislocation\")\n",
    "    hhrs_dislocation_dataset_names[f\"popdis_hhrs_dataset_{dislocation}\"] = popdis_hhrs_dataset"
   ]
  },
  {
   "cell_type": "markdown",
   "source": [
    "<img src=\"https://ars.els-cdn.com/content/image/1-s2.0-S2772741623000388-gr6_lrg.jpg\" width=\"700\"/>"
   ],
   "metadata": {
    "collapsed": false
   }
  }
 ],
 "metadata": {
  "kernelspec": {
   "display_name": "Python 3 (ipykernel)",
   "language": "python",
   "name": "python3"
  },
  "language_info": {
   "codemirror_mode": {
    "name": "ipython",
    "version": 3
   },
   "file_extension": ".py",
   "mimetype": "text/x-python",
   "name": "python",
   "nbconvert_exporter": "python",
   "pygments_lexer": "ipython3",
   "version": "3.9.7"
  }
 },
 "nbformat": 4,
 "nbformat_minor": 5
}
